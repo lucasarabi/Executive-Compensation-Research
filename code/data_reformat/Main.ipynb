{
 "cells": [
  {
   "cell_type": "code",
   "execution_count": 1,
   "metadata": {},
   "outputs": [],
   "source": [
    "import pandas as pd\n",
    "import os"
   ]
  },
  {
   "cell_type": "code",
   "execution_count": 6,
   "metadata": {},
   "outputs": [],
   "source": [
    "csv_files = [f for f in os.listdir(\"Output\") if f.endswith('.csv')]"
   ]
  },
  {
   "cell_type": "code",
   "execution_count": 14,
   "metadata": {},
   "outputs": [],
   "source": [
    "merged_df = None\n",
    "\n",
    "for file in csv_files:\n",
    "    file_path = os.path.join(\"Output\", file)\n",
    "    df = pd.read_csv(file_path)\n",
    "    df[\"Date\"] =  pd.to_datetime(df[\"Date\"])\n",
    "    file_name = os.path.splitext(file)[0]\n",
    "    melted_df = pd.melt(df, id_vars=[\"Date\"], var_name=\"symbol\", value_name=file_name)\n",
    "    \n",
    "    if merged_df is None:\n",
    "            merged_df = melted_df\n",
    "    else:\n",
    "        merged_df = pd.merge(merged_df, melted_df, on=[\"Date\", \"symbol\"], how=\"outer\")\n",
    "\n",
    "\n",
    "merged_df.to_csv(\"merged_data.csv\", index=False)"
   ]
  },
  {
   "cell_type": "code",
   "execution_count": 2,
   "metadata": {},
   "outputs": [],
   "source": [
    "Data = pd.read_csv(\"Output/ALL_OTHER_COMP_AW_TO_CEO_EQUIV.csv\")"
   ]
  },
  {
   "cell_type": "code",
   "execution_count": 4,
   "metadata": {},
   "outputs": [],
   "source": [
    "Data2 = pd.melt(Data, id_vars=['Date'], var_name='symbol', value_name='ALL_OTHER_COMP_AW_TO_CEO_EQUIV')"
   ]
  },
  {
   "cell_type": "code",
   "execution_count": 13,
   "metadata": {},
   "outputs": [
    {
     "name": "stdout",
     "output_type": "stream",
     "text": [
      "0       2023-12-31 00:00:00\n",
      "1       2022-12-31 00:00:00\n",
      "2       2021-12-31 00:00:00\n",
      "3       2020-12-31 00:00:00\n",
      "4       2019-12-31 00:00:00\n",
      "               ...         \n",
      "5025    2018-12-31 00:00:00\n",
      "5026    2017-12-31 00:00:00\n",
      "5027    2016-12-31 00:00:00\n",
      "5028    2015-12-31 00:00:00\n",
      "5029    2014-12-31 00:00:00\n",
      "Name: Date, Length: 5030, dtype: object\n"
     ]
    }
   ],
   "source": [
    "print(Data2[\"Date\"])"
   ]
  },
  {
   "cell_type": "markdown",
   "metadata": {},
   "source": [
    "plot sample charts"
   ]
  },
  {
   "cell_type": "code",
   "execution_count": 15,
   "metadata": {},
   "outputs": [],
   "source": [
    "PX_last_data = pd.read_csv(\"503PXlast.csv\")\n",
    "PX_last_data[\"DATES\"] =  pd.to_datetime(PX_last_data[\"DATES\"])\n",
    "PX_last_data_melt = pd.melt(PX_last_data,id_vars=['DATES'], var_name='symbol',value_name=\"PX_last\")\n"
   ]
  },
  {
   "cell_type": "code",
   "execution_count": null,
   "metadata": {},
   "outputs": [
    {
     "name": "stdout",
     "output_type": "stream",
     "text": [
      "['LYB UN Equity' 'AXP UN Equity' 'VZ UN Equity' 'TPL UN Equity'\n",
      " 'AVGO UW Equity' 'BA UN Equity' 'SOLV UN Equity' 'CAT UN Equity'\n",
      " 'JPM UN Equity' 'CVX UN Equity' 'KO UN Equity' 'ABBV UN Equity'\n",
      " 'DIS UN Equity' 'CPAY UN Equity' 'EXR UN Equity' 'XOM UN Equity'\n",
      " 'PSX UN Equity' 'GE UN Equity' 'HPQ UN Equity' 'HD UN Equity'\n",
      " 'MPWR UW Equity' 'IBM UN Equity' 'JNJ UN Equity' 'LULU UW Equity'\n",
      " 'MCD UN Equity' 'MRK UN Equity' 'MMM UN Equity' 'AWK UN Equity'\n",
      " 'BAC UN Equity' 'PFE UN Equity' 'PG UN Equity' 'T UN Equity'\n",
      " 'TRV UN Equity' 'RTX UN Equity' 'ADI UW Equity' 'WMT UN Equity'\n",
      " 'CSCO UW Equity' 'INTC UW Equity' 'GM UN Equity' 'MSFT UW Equity'\n",
      " 'DG UN Equity' 'CI UN Equity' 'KMI UN Equity' 'C UN Equity'\n",
      " 'AIG UN Equity' 'MO UN Equity' 'HCA UN Equity' 'IP UN Equity'\n",
      " 'HPE UN Equity' 'ABT UN Equity' 'AFL UN Equity' 'APD UN Equity'\n",
      " 'SMCI UW Equity' 'RCL UN Equity' 'HES UN Equity' 'LII UN Equity'\n",
      " 'ADM UN Equity' 'ADP UW Equity' 'VRSK UW Equity' 'AZO UN Equity'\n",
      " 'LIN UW Equity' 'AVY UN Equity' 'ENPH UQ Equity' 'MSCI UN Equity'\n",
      " 'BALL UN Equity' 'AXON UW Equity' 'DAY UN Equity' 'CARR UN Equity'\n",
      " 'BK UN Equity' 'OTIS UN Equity' 'BAX UN Equity' 'BDX UN Equity'\n",
      " 'BRK/B UN Equity' 'BBY UN Equity' 'BSX UN Equity' 'BMY UN Equity'\n",
      " 'BF/B UN Equity' 'CTRA UN Equity' 'HLT UN Equity' 'CCL UN Equity'\n",
      " 'BLDR UN Equity' 'UDR UN Equity' 'CLX UN Equity' 'PAYC UN Equity'\n",
      " 'CMS UN Equity' 'CL UN Equity' 'EPAM UN Equity' 'CAG UN Equity'\n",
      " 'ABNB UW Equity' 'ED UN Equity' 'GLW UN Equity' 'GDDY UN Equity'\n",
      " 'CMI UN Equity' 'CZR UW Equity' 'DHR UN Equity' 'TGT UN Equity'\n",
      " 'DE UN Equity' 'D UN Equity' 'DOV UN Equity' 'LNT UW Equity'\n",
      " 'STLD UW Equity' 'DUK UN Equity' 'REG UW Equity' 'ETN UN Equity'\n",
      " 'ECL UN Equity' 'RVTY UN Equity' 'DELL UN Equity' 'EMR UN Equity'\n",
      " 'EOG UN Equity' 'AON UN Equity' 'ETR UN Equity' 'EFX UN Equity'\n",
      " 'EQT UN Equity' 'IQV UN Equity' 'IT UN Equity' 'FDX UN Equity'\n",
      " 'FMC UN Equity' 'BRO UN Equity' 'F UN Equity' 'NEE UN Equity'\n",
      " 'BEN UN Equity' 'GRMN UN Equity' 'FCX UN Equity' 'DXCM UW Equity'\n",
      " 'GD UN Equity' 'GIS UN Equity' 'GPC UN Equity' 'ATO UN Equity'\n",
      " 'GWW UN Equity' 'HAL UN Equity' 'LHX UN Equity' 'DOC UN Equity'\n",
      " 'PODD UW Equity' 'FTV UN Equity' 'HSY UN Equity' 'SYF UN Equity'\n",
      " 'HRL UN Equity' 'AJG UN Equity' 'MDLZ UW Equity' 'CNP UN Equity'\n",
      " 'HUM UN Equity' 'WTW UW Equity' 'ITW UN Equity' 'CDW UW Equity'\n",
      " 'TT UN Equity' 'IPG UN Equity' 'IFF UN Equity' 'GNRC UN Equity'\n",
      " 'NXPI UW Equity' 'K UN Equity' 'BR UN Equity' 'KMB UN Equity'\n",
      " 'KIM UN Equity' 'ORCL UN Equity' 'KR UN Equity' 'LEN UN Equity'\n",
      " 'LLY UN Equity' 'CHTR UW Equity' 'L UN Equity' 'LOW UN Equity'\n",
      " 'HUBB UN Equity' 'IEX UN Equity' 'MMC UN Equity' 'MAS UN Equity'\n",
      " 'SPGI UN Equity' 'MDT UN Equity' 'VTRS UW Equity' 'CVS UN Equity'\n",
      " 'DD UN Equity' 'MU UW Equity' 'MSI UN Equity' 'CBOE UF Equity'\n",
      " 'NEM UN Equity' 'NKE UN Equity' 'NI UN Equity' 'NSC UN Equity'\n",
      " 'PFG UW Equity' 'ES UN Equity' 'NOC UN Equity' 'WFC UN Equity'\n",
      " 'NUE UN Equity' 'OXY UN Equity' 'OMC UN Equity' 'OKE UN Equity'\n",
      " 'RJF UN Equity' 'PCG UN Equity' 'PH UN Equity' 'ROL UN Equity'\n",
      " 'PPL UN Equity' 'APTV UN Equity' 'COP UN Equity' 'PHM UN Equity'\n",
      " 'PNW UN Equity' 'PNC UN Equity' 'PPG UN Equity' 'PGR UN Equity'\n",
      " 'VLTO UN Equity' 'PEG UN Equity' 'COO UW Equity' 'EIX UN Equity'\n",
      " 'SLB UN Equity' 'SCHW UN Equity' 'SHW UN Equity' 'WST UN Equity'\n",
      " 'SJM UN Equity' 'SNA UN Equity' 'AME UN Equity' 'UBER UN Equity'\n",
      " 'SO UN Equity' 'TFC UN Equity' 'LUV UN Equity' 'WRB UN Equity'\n",
      " 'SWK UN Equity' 'PSA UN Equity' 'ANET UN Equity' 'SYY UN Equity'\n",
      " 'CTVA UN Equity' 'TXN UW Equity' 'TXT UN Equity' 'TMO UN Equity'\n",
      " 'TJX UN Equity' 'GL UN Equity' 'JCI UN Equity' 'ULTA UW Equity'\n",
      " 'UNP UN Equity' 'KEYS UN Equity' 'UNH UN Equity' 'BX UN Equity'\n",
      " 'VTR UN Equity' 'LH UN Equity' 'VMC UN Equity' 'WY UN Equity'\n",
      " 'WMB UN Equity' 'CEG UW Equity' 'WEC UN Equity' 'ADBE UW Equity'\n",
      " 'VST UN Equity' 'AES UN Equity' 'EXPD UN Equity' 'AMGN UW Equity'\n",
      " 'AAPL UW Equity' 'ADSK UW Equity' 'CTAS UW Equity' 'CMCSA UW Equity'\n",
      " 'TAP UN Equity' 'KLAC UW Equity' 'MAR UW Equity' 'FI UN Equity'\n",
      " 'MKC UN Equity' 'PCAR UW Equity' 'COST UW Equity' 'SYK UN Equity'\n",
      " 'TSN UN Equity' 'LW UN Equity' 'AMAT UW Equity' 'CAH UN Equity'\n",
      " 'CINF UW Equity' 'PARA UW Equity' 'DHI UN Equity' 'EA UW Equity'\n",
      " 'ERIE UW Equity' 'FICO UN Equity' 'FAST UW Equity' 'MTB UN Equity'\n",
      " 'XEL UW Equity' 'FITB UW Equity' 'GILD UW Equity' 'HAS UW Equity'\n",
      " 'HBAN UW Equity' 'WELL UN Equity' 'BIIB UW Equity' 'NTRS UW Equity'\n",
      " 'PKG UN Equity' 'PAYX UW Equity' 'QCOM UW Equity' 'ROST UW Equity'\n",
      " 'IDXX UW Equity' 'SBUX UW Equity' 'KEY UN Equity' 'FOXA UW Equity'\n",
      " 'FOX UW Equity' 'STT UN Equity' 'NCLH UN Equity' 'USB UN Equity'\n",
      " 'AOS UN Equity' 'GEN UW Equity' 'TROW UW Equity' 'WM UN Equity'\n",
      " 'STZ UN Equity' 'IVZ UN Equity' 'INTU UW Equity' 'MS UN Equity'\n",
      " 'MCHP UW Equity' 'CRWD UW Equity' 'CB UN Equity' 'HOLX UW Equity'\n",
      " 'CFG UN Equity' 'JBL UN Equity' 'ORLY UW Equity' 'ALL UN Equity'\n",
      " 'EQR UN Equity' 'BWA UN Equity' 'KDP UW Equity' 'HST UW Equity'\n",
      " 'INCY UW Equity' 'SPG UN Equity' 'EMN UN Equity' 'AVB UN Equity'\n",
      " 'PRU UN Equity' 'UPS UN Equity' 'WBA UW Equity' 'STE UN Equity'\n",
      " 'MCK UN Equity' 'LMT UN Equity' 'COR UN Equity' 'COF UN Equity'\n",
      " 'CPB UW Equity' 'WAT UN Equity' 'NDSN UW Equity' 'DLTR UW Equity'\n",
      " 'DRI UN Equity' 'EVRG UW Equity' 'MTCH UW Equity' 'DPZ UN Equity'\n",
      " 'NVR UN Equity' 'NTAP UW Equity' 'ODFL UW Equity' 'DVA UN Equity'\n",
      " 'HIG UN Equity' 'IRM UN Equity' 'EL UN Equity' 'CDNS UW Equity'\n",
      " 'TYL UN Equity' 'UHS UN Equity' 'SWKS UW Equity' 'DGX UN Equity'\n",
      " 'ROK UN Equity' 'KHC UW Equity' 'AMT UN Equity' 'REGN UW Equity'\n",
      " 'AMZN UW Equity' 'JKHY UW Equity' 'RL UN Equity' 'BXP UN Equity'\n",
      " 'APH UN Equity' 'HWM UN Equity' 'VLO UN Equity' 'SNPS UW Equity'\n",
      " 'CHRW UW Equity' 'ACN UN Equity' 'TDG UN Equity' 'YUM UN Equity'\n",
      " 'PLD UN Equity' 'FE UN Equity' 'VRSN UW Equity' 'PWR UN Equity'\n",
      " 'HSIC UW Equity' 'AEE UN Equity' 'ANSS UW Equity' 'FDS UN Equity'\n",
      " 'NVDA UW Equity' 'CTSH UW Equity' 'ISRG UW Equity' 'TTWO UW Equity'\n",
      " 'RSG UN Equity' 'EBAY UW Equity' 'GS UN Equity' 'SBAC UW Equity'\n",
      " 'SRE UN Equity' 'MCO UN Equity' 'ON UW Equity' 'BKNG UW Equity'\n",
      " 'FFIV UW Equity' 'AKAM UW Equity' 'CRL UN Equity' 'MKTX UW Equity'\n",
      " 'DVN UN Equity' 'TECH UW Equity' 'GOOGL UW Equity' 'TFX UN Equity'\n",
      " 'ALLE UN Equity' 'NFLX UW Equity' 'WBD UW Equity' 'A UN Equity'\n",
      " 'ELV UN Equity' 'TRMB UW Equity' 'CME UW Equity' 'JNPR UN Equity'\n",
      " 'DTE UN Equity' 'NDAQ UW Equity' 'CE UN Equity' 'PM UN Equity'\n",
      " 'CRM UN Equity' 'IR UN Equity' 'HII UN Equity' 'ROP UW Equity'\n",
      " 'MET UN Equity' 'TPR UN Equity' 'CSX UW Equity' 'EW UN Equity'\n",
      " 'AMP UN Equity' 'ZBRA UW Equity' 'ZBH UN Equity' 'CBRE UN Equity'\n",
      " 'CPT UN Equity' 'MA UN Equity' 'KMX UN Equity' 'ICE UN Equity'\n",
      " 'SW UN Equity' 'FIS UN Equity' 'CMG UN Equity' 'WYNN UW Equity'\n",
      " 'LYV UN Equity' 'AIZ UN Equity' 'NRG UN Equity' 'RF UN Equity'\n",
      " 'MNST UW Equity' 'MOS UN Equity' 'BKR UW Equity' 'EXPE UW Equity'\n",
      " 'CF UN Equity' 'LDOS UN Equity' 'APA UW Equity' 'GOOG UW Equity'\n",
      " 'FSLR UW Equity' 'DFS UN Equity' 'V UN Equity' 'MAA UN Equity'\n",
      " 'XYL UN Equity' 'MPC UN Equity' 'AMD UW Equity' 'TSCO UW Equity'\n",
      " 'RMD UN Equity' 'MTD UN Equity' 'J UN Equity' 'CPRT UW Equity'\n",
      " 'VICI UN Equity' 'FTNT UW Equity' 'ALB UN Equity' 'MRNA UW Equity'\n",
      " 'ESS UN Equity' 'CSGP UW Equity' 'O UN Equity' 'PLTR UW Equity'\n",
      " 'WAB UN Equity' 'POOL UW Equity' 'WDC UW Equity' 'PEP UW Equity'\n",
      " 'TEL UN Equity' 'FANG UW Equity' 'PANW UW Equity' 'NOW UN Equity'\n",
      " 'CHD UN Equity' 'FRT UN Equity' 'MGM UN Equity' 'AEP UW Equity'\n",
      " 'INVH UN Equity' 'PTC UW Equity' 'JBHT UW Equity' 'LRCX UW Equity'\n",
      " 'MHK UN Equity' 'PNR UN Equity' 'GEHC UW Equity' 'VRTX UW Equity'\n",
      " 'AMCR UN Equity' 'META UW Equity' 'TMUS UW Equity' 'URI UN Equity'\n",
      " 'HON UW Equity' 'ARE UN Equity' 'DAL UN Equity' 'STX UW Equity'\n",
      " 'UAL UW Equity' 'NWS UW Equity' 'CNC UN Equity' 'MLM UN Equity'\n",
      " 'APO UN Equity' 'TER UW Equity' 'PYPL UW Equity' 'TSLA UW Equity'\n",
      " 'BLK UN Equity' 'ACGL UW Equity' 'KKR UN Equity' 'DOW UN Equity'\n",
      " 'EG UN Equity' 'TDY UN Equity' 'GEV UN Equity' 'NWSA UW Equity'\n",
      " 'EXC UW Equity' 'GPN UN Equity' 'CCI UN Equity' 'ALGN UW Equity'\n",
      " 'KVUE UN Equity' 'TRGP UN Equity' 'BG UN Equity' 'DECK UN Equity'\n",
      " 'LKQ UW Equity' 'WDAY UW Equity' 'ZTS UN Equity' 'DLR UN Equity'\n",
      " 'EQIX UW Equity' 'LVS UN Equity' 'MOH UN Equity']\n"
     ]
    }
   ],
   "source": [
    "#list of stock in the SPX\n",
    "print(PX_last_data_melt[\"symbol\"].unique())"
   ]
  },
  {
   "cell_type": "code",
   "execution_count": 30,
   "metadata": {},
   "outputs": [
    {
     "data": {
      "text/plain": [
       "<AxesSubplot:xlabel='DATES', ylabel='PX_last'>"
      ]
     },
     "execution_count": 30,
     "metadata": {},
     "output_type": "execute_result"
    },
    {
     "data": {
      "image/png": "[encoded data removed]",
      "text/plain": [
       "<Figure size 640x480 with 1 Axes>"
      ]
     },
     "metadata": {},
     "output_type": "display_data"
    }
   ],
   "source": [
    "PX_last_data_melt[PX_last_data_melt[\"symbol\"]==\"AAPL UW Equity\"].plot(kind=\"scatter\",x=\"DATES\",y=\"PX_last\")"
   ]
  }
 ],
 "metadata": {
  "kernelspec": {
   "display_name": "Python 3",
   "language": "python",
   "name": "python3"
  },
  "language_info": {
   "codemirror_mode": {
    "name": "ipython",
    "version": 3
   },
   "file_extension": ".py",
   "mimetype": "text/x-python",
   "name": "python",
   "nbconvert_exporter": "python",
   "pygments_lexer": "ipython3",
   "version": "3.7.2"
  }
 },
 "nbformat": 4,
 "nbformat_minor": 2
}
