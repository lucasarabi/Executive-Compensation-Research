{
  "cells": [
    {
      "cell_type": "code",
      "execution_count": null,
      "metadata": {
        "id": "PBO0yH6skovc"
      },
      "outputs": [],
      "source": [
        "# genaric imports\n",
        "import pandas as pd\n",
        "import numpy as np\n",
        "import os\n",
        "import matplotlib.pyplot as plt\n",
        "#PCA\n",
        "from sklearn.decomposition import PCA\n",
        "from sklearn.preprocessing import StandardScaler\n",
        "#Kmeans\n",
        "from sklearn.cluster import KMeans\n",
        "#DecisionTree\n",
        "from sklearn.tree import DecisionTreeClassifier\n",
        "from sklearn.tree import plot_tree\n",
        "import altair as alt"
      ]
    },
    {
      "cell_type": "code",
      "execution_count": null,
      "metadata": {
        "id": "tmkgkJL6k9UM"
      },
      "outputs": [],
      "source": [
        "#read in data set\n",
        "rootDir=\"drive/MyDrive/GQG/\"\n",
        "data= pd.read_csv(rootDir+\"OriginalData.csv\")"
      ]
    },
    {
      "cell_type": "code",
      "execution_count": null,
      "metadata": {
        "id": "qdNYJJ2Kln0h"
      },
      "outputs": [],
      "source": [
        "#convert dates to datetime\n",
        "data[\"Dates\"] = pd.to_datetime(data[\"Dates\"])\n",
        "data[\"DATE_OF_LAST_BOD_CHANGE\"] = pd.to_datetime(data[\"DATE_OF_LAST_BOD_CHANGE\"])\n",
        "data[\"DATE_OF_LAST_EXECUTIVE_CHANGE\"] = pd.to_datetime(data[\"DATE_OF_LAST_EXECUTIVE_CHANGE\"])\n",
        "data['COMP_LKD_LAST_CEO_&_EQUIV_CHG_DT'] = pd.to_datetime(data['COMP_LKD_LAST_CEO_&_EQUIV_CHG_DT'], format='%Y%m%d')"
      ]
    },
    {
      "cell_type": "code",
      "execution_count": null,
      "metadata": {
        "id": "d8nIKP2h0zWp"
      },
      "outputs": [],
      "source": [
        "data.drop(\"Unnamed: 0\",axis=1,inplace=True)\n",
        "data.drop( data[data[\"Year\"]==2014].index,inplace=True)"
      ]
    },
    {
      "cell_type": "code",
      "execution_count": null,
      "metadata": {
        "id": "coC4xWZjlBp6"
      },
      "outputs": [],
      "source": [
        "# add aditinal coulomns\n",
        "# add columns to Data_compensation\n",
        "\n",
        "#CEO\n",
        "data[\"equity_Compensation_CEO\"] = data['TOT_STK_AWD_GIVEN_TO_CEO_EQUIV']+data[\"TOT_OPT_AWD_GIVEN_TO_CEO_EQUIV\"]\n",
        "data[\"cash_incentive_CEO\"] = data['TOT_BONUSES_PAID_TO_CEO_EQUIV']+data['TOT_N_EQT_INCENT_GVN_TO_CEO_EQ']\n",
        "data[\"Variable_Pay_CEO\"] = data[\"cash_incentive_CEO\"]+data[\"equity_Compensation_CEO\"]\n",
        "data[\"cash_incentive_CEO_percent\"] = data[\"cash_incentive_CEO\"]/data[\"Variable_Pay_CEO\"].replace(0, float('nan'))\n",
        "data[\"fixed_Pay_CEO\"] = data['TOT_SALARIES_PAID_TO_CEO_EQUIV']/data[\"NUM_CEOS_EQUIV_INC_COMP_PD\"]\n",
        "\n",
        "#EXECS\n",
        "data[\"equity_Compensation_EXECS\"] = (data['TOT_STK_AWARDS_GIVEN_TO_EXECS']+data[\"TOT_OPTION_AWARDS_GIVEN_TO_EXECS\"])\n",
        "data[\"cash_incentive_EXECS\"] = data['TOTAL_BONUSES_PAID_TO_EXECUTIVES']+data['TOT_N_EQTY_INCENT_GIVEN_TO_EXECS']- data[\"cash_incentive_CEO\"]\n",
        "data[\"Variable_Pay_EXECS\"] = data[\"equity_Compensation_EXECS\"]+data[\"cash_incentive_EXECS\"]-data[\"Variable_Pay_CEO\"]\n",
        "data[\"cash_incentive_EXECS_percent\"] = data[\"cash_incentive_EXECS\"]/(data[\"Variable_Pay_EXECS\"].replace(0, float('nan')))"
      ]
    },
    {
      "cell_type": "code",
      "execution_count": null,
      "metadata": {
        "id": "xp3OMs096S8E"
      },
      "outputs": [],
      "source": [
        "data_temp=data[(data[\"symbol\"]==\"AAPL\")&(data[\"DATE_OF_LAST_EXECUTIVE_CHANGE\"]==\"2014-05-29\")][[\"symbol\",\"DATE_OF_LAST_EXECUTIVE_CHANGE\",\"Dates\",\"PX_LAST\"]].copy()"
      ]
    },
    {
      "cell_type": "code",
      "execution_count": null,
      "metadata": {
        "id": "8Mv6JEvZ6tVN"
      },
      "outputs": [],
      "source": [
        "def get_date(data,key):\n",
        "  dates_change = []\n",
        "  dates=data[key].unique()\n",
        "  dates_change.append((min(dates),min(data[\"Dates\"])))\n",
        "  for i in dates:\n",
        "    if i >min(data[\"Dates\"]):\n",
        "      dates_change.append((i,data[(data['Dates']>=i)][\"Dates\"].iloc[0]))\n",
        "  dates_change.append((max(dates),max(data[\"Dates\"])))\n",
        "  return dates_change"
      ]
    },
    {
      "cell_type": "code",
      "execution_count": null,
      "metadata": {
        "id": "QWs4leju0RDE"
      },
      "outputs": [],
      "source": [
        "#2.0\n",
        "def get_date(data, key):\n",
        "    if key not in data.columns:\n",
        "        raise ValueError(f\"The key '{key}' is not a column in the DataFrame.\")\n",
        "\n",
        "    if \"Dates\" not in data.columns:\n",
        "        raise ValueError(\"The DataFrame must contain a 'Dates' column.\")\n",
        "\n",
        "    dates_change = []\n",
        "    dates = sorted(data[key].dropna().unique())\n",
        "    min_date = min(data[\"Dates\"])\n",
        "    max_date = max(data[\"Dates\"])\n",
        "\n",
        "    dates_change.append((min(dates), min_date))\n",
        "\n",
        "    # Loop through dates to find the next corresponding date\n",
        "    for i in dates:\n",
        "        if i > min_date:\n",
        "            filtered_dates = data[data[\"Dates\"] >= i][\"Dates\"]\n",
        "            if not filtered_dates.empty:\n",
        "                dates_change.append((i, filtered_dates.iloc[0]))\n",
        "            else:\n",
        "                # Handle the case where no matching date exists\n",
        "                #dates_change.append((i, None))\n",
        "                print(\"missing date for  {},{}\".format(symbol,i))\n",
        "\n",
        "\n",
        "    # Append the last mapping\n",
        "    dates_change.append((max(dates), max_date))\n",
        "\n",
        "    return dates_change\n"
      ]
    },
    {
      "cell_type": "code",
      "execution_count": null,
      "metadata": {
        "colab": {
          "base_uri": "https://localhost:8080/"
        },
        "id": "NUU0EaUhz4Qi",
        "outputId": "d10389d6-09e0-40f3-b839-fe0e0924391f"
      },
      "outputs": [
        {
          "name": "stderr",
          "output_type": "stream",
          "text": [
            "<ipython-input-9-98afd8db8127>:24: FutureWarning: The behavior of DataFrame concatenation with empty or all-NA entries is deprecated. In a future version, this will no longer exclude empty or all-NA columns when determining the result dtypes. To retain the old behavior, exclude the relevant entries before the concat operation.\n",
            "  df = df._append(df2, ignore_index = True)\n",
            "<ipython-input-9-98afd8db8127>:44: FutureWarning: The behavior of DataFrame concatenation with empty or all-NA entries is deprecated. In a future version, this will no longer exclude empty or all-NA columns when determining the result dtypes. To retain the old behavior, exclude the relevant entries before the concat operation.\n",
            "  df = df._append(df2, ignore_index = True)\n"
          ]
        },
        {
          "name": "stdout",
          "output_type": "stream",
          "text": [
            "missing date for  CAT,2023-12-31 00:00:00\n",
            "missing date for  SO,2023-12-31 00:00:00\n"
          ]
        }
      ],
      "source": [
        "\n",
        "Columns=[\"gics_sector_name\",\"symbol\",\"DATE_OF_LAST_CHANGE\",\"avg_cash_incentive_percent\",\"returns\",\"role\"]\n",
        "df = pd.DataFrame(columns=Columns)\n",
        "for gics_sector_name,data1 in data.groupby(\"gics_sector_name\"):\n",
        "  for symbol, data2 in data1.groupby(\"symbol\"):\n",
        "\n",
        "    #CEO change\n",
        "    dates_CEO_change = get_date(data2,\"COMP_LKD_LAST_CEO_&_EQUIV_CHG_DT\")\n",
        "    #print(\"{} , {}\".format(symbol,gics_sector_name))\n",
        "    for i in range(len(dates_CEO_change)-1):\n",
        "      returns =  data2[data2[\"Dates\"] == dates_CEO_change[i+1][1]][\"PX_LAST\"].iloc[0]/data2[data2[\"Dates\"] == dates_CEO_change[i][1]][\"PX_LAST\"].iloc[0]\n",
        "      DATE_OF_LAST_CHANGE = dates_CEO_change[i][0]\n",
        "      avg_cash_incentive_percent=data2[data2[\"COMP_LKD_LAST_CEO_&_EQUIV_CHG_DT\"] == DATE_OF_LAST_CHANGE][\"cash_incentive_CEO_percent\"].mean()\n",
        "      #print(\"{},{}\".format(returns,avg_cash_incentive_CEO_percent))\n",
        "\n",
        "      df2= {\n",
        "            \"gics_sector_name\":gics_sector_name,\n",
        "            \"symbol\":symbol,\n",
        "            \"DATE_OF_LAST_CHANGE\":DATE_OF_LAST_CHANGE,\n",
        "            \"avg_cash_incentive_percent\":avg_cash_incentive_percent,\n",
        "            \"returns\":returns,\n",
        "            \"role\":\"CEO\"\n",
        "\n",
        "            }\n",
        "      df = df._append(df2, ignore_index = True)\n",
        "\n",
        "    #execuative change\n",
        "    dates_execuative_change = get_date(data2,\"DATE_OF_LAST_EXECUTIVE_CHANGE\")\n",
        "    #print(\"{} , {}\".format(symbol,gics_sector_name))\n",
        "    for i in range(len(dates_execuative_change)-1):\n",
        "      returns =  data2[data2[\"Dates\"] == dates_execuative_change[i+1][1]][\"PX_LAST\"].iloc[0]/data2[data2[\"Dates\"] == dates_execuative_change[i][1]][\"PX_LAST\"].iloc[0]\n",
        "      DATE_OF_LAST_CHANGE = dates_execuative_change[i][0]\n",
        "      avg_cash_incentive_percent=data2[data2[\"DATE_OF_LAST_EXECUTIVE_CHANGE\"] == DATE_OF_LAST_CHANGE][\"cash_incentive_EXECS_percent\"].mean()\n",
        "      #print(\"{},{}\".format(returns,avg_cash_incentive_CEO_percent))\n",
        "\n",
        "      df2= {\n",
        "                  \"gics_sector_name\":gics_sector_name,\n",
        "                  \"symbol\":symbol,\n",
        "                  \"DATE_OF_LAST_CHANGE\":DATE_OF_LAST_CHANGE,\n",
        "                  \"avg_cash_incentive_percent\":avg_cash_incentive_percent,\n",
        "                  \"returns\":returns,\n",
        "                  \"role\":\"execuative\"\n",
        "\n",
        "          }\n",
        "      df = df._append(df2, ignore_index = True)\n",
        "\n",
        "\n",
        "\n",
        "\n",
        "    #board change\n",
        "\n",
        "\n",
        "\n",
        "    #print(\"------------------------------------------\")\n",
        "\n"
      ]
    },
    {
      "cell_type": "code",
      "execution_count": null,
      "metadata": {
        "id": "l1GpEZ733PGR"
      },
      "outputs": [],
      "source": [
        "def plot_data(df,sector_index=-1):\n",
        "  sector_names = data[\"gics_sector_name\"].unique()\n",
        "\n",
        "  if sector_index>-1:\n",
        "    plot_title= sector_names[sector_index]\n",
        "    df_plot= df[df[\"gics_sector_name\"]==plot_title]\n",
        "    color_name = \"symbol\"\n",
        "\n",
        "  else:\n",
        "    plot_title= \"All sectors\"\n",
        "    df_plot = df\n",
        "\n",
        "    color_name = \"gics_sector_name\"\n",
        "\n",
        "  line = alt.Chart(pd.DataFrame({'y': [1]})).mark_rule().encode(y='y')\n",
        "  chart=alt.Chart(df_plot).mark_point().encode(\n",
        "      x='avg_cash_incentive_percent',\n",
        "      y='returns',\n",
        "      tooltip=[\"avg_cash_incentive_percent\",\"returns\",\"gics_sector_name\",\"symbol\",\"role\"],\n",
        "      color = color_name,\n",
        "      shape=\"role:N\"\n",
        "  ).properties(\n",
        "    title=plot_title).interactive()\n",
        "  return line+chart"
      ]
    },
    {
      "cell_type": "code",
      "execution_count": null,
      "metadata": {
        "colab": {
          "base_uri": "https://localhost:8080/",
          "height": 510
        },
        "id": "8n12_17x53W6",
        "outputId": "996303c7-4263-4d8d-ae63-5df91cb9973f"
      },
      "outputs": [
        {
          "name": "stderr",
          "output_type": "stream",
          "text": [
            "/usr/local/lib/python3.10/dist-packages/altair/utils/core.py:384: FutureWarning: the convert_dtype parameter is deprecated and will be removed in a future version.  Do ``ser.astype(object).apply()`` instead if you want ``convert_dtype=False``.\n",
            "  col = df[col_name].apply(to_list_if_array, convert_dtype=False)\n",
            "/usr/local/lib/python3.10/dist-packages/altair/utils/core.py:384: FutureWarning: the convert_dtype parameter is deprecated and will be removed in a future version.  Do ``ser.astype(object).apply()`` instead if you want ``convert_dtype=False``.\n",
            "  col = df[col_name].apply(to_list_if_array, convert_dtype=False)\n",
            "/usr/local/lib/python3.10/dist-packages/altair/utils/core.py:384: FutureWarning: the convert_dtype parameter is deprecated and will be removed in a future version.  Do ``ser.astype(object).apply()`` instead if you want ``convert_dtype=False``.\n",
            "  col = df[col_name].apply(to_list_if_array, convert_dtype=False)\n"
          ]
        },
        {
          "data": {
            "text/html": [
              "\n",
              "<div id=\"altair-viz-0f3e7e0b7ff847fab3ebe2f8928563d4\"></div>\n",
              "<script type=\"text/javascript\">\n",
              "  var VEGA_DEBUG = (typeof VEGA_DEBUG == \"undefined\") ? {} : VEGA_DEBUG;\n",
              "  (function(spec, embedOpt){\n",
              "    let outputDiv = document.currentScript.previousElementSibling;\n",
              "    if (outputDiv.id !== \"altair-viz-0f3e7e0b7ff847fab3ebe2f8928563d4\") {\n",
              "      outputDiv = document.getElementById(\"altair-viz-0f3e7e0b7ff847fab3ebe2f8928563d4\");\n",
              "    }\n",
              "    const paths = {\n",
              "      \"vega\": \"https://cdn.jsdelivr.net/npm//vega@5?noext\",\n",
              "      \"vega-lib\": \"https://cdn.jsdelivr.net/npm//vega-lib?noext\",\n",
              "      \"vega-lite\": \"https://cdn.jsdelivr.net/npm//vega-lite@4.17.0?noext\",\n",
              "      \"vega-embed\": \"https://cdn.jsdelivr.net/npm//vega-embed@6?noext\",\n",
              "    };\n",
              "\n",
              "    function maybeLoadScript(lib, version) {\n",
              "      var key = `${lib.replace(\"-\", \"\")}_version`;\n",
              "      return (VEGA_DEBUG[key] == version) ?\n",
              "        Promise.resolve(paths[lib]) :\n",
              "        new Promise(function(resolve, reject) {\n",
              "          var s = document.createElement('script');\n",
              "          document.getElementsByTagName(\"head\")[0].appendChild(s);\n",
              "          s.async = true;\n",
              "          s.onload = () => {\n",
              "            VEGA_DEBUG[key] = version;\n",
              "            return resolve(paths[lib]);\n",
              "          };\n",
              "          s.onerror = () => reject(`Error loading script: ${paths[lib]}`);\n",
              "          s.src = paths[lib];\n",
              "        });\n",
              "    }\n",
              "\n",
              "    function showError(err) {\n",
              "      outputDiv.innerHTML = `<div class=\"error\" style=\"color:red;\">${err}</div>`;\n",
              "      throw err;\n",
              "    }\n",
              "\n",
              "    function displayChart(vegaEmbed) {\n",
              "      vegaEmbed(outputDiv, spec, embedOpt)\n",
              "        .catch(err => showError(`Javascript Error: ${err.message}<br>This usually means there's a typo in your chart specification. See the javascript console for the full traceback.`));\n",
              "    }\n",
              "\n",
              "    if(typeof define === \"function\" && define.amd) {\n",
              "      requirejs.config({paths});\n",
              "      require([\"vega-embed\"], displayChart, err => showError(`Error loading script: ${err.message}`));\n",
              "    } else {\n",
              "      maybeLoadScript(\"vega\", \"5\")\n",
              "        .then(() => maybeLoadScript(\"vega-lite\", \"4.17.0\"))\n",
              "        .then(() => maybeLoadScript(\"vega-embed\", \"6\"))\n",
              "        .catch(showError)\n",
              "        .then(() => displayChart(vegaEmbed));\n",
              "    }\n",
              "  })({\"config\": {\"view\": {\"continuousWidth\": 400, \"continuousHeight\": 300}}, \"layer\": [{\"data\": {\"name\": \"data-d764767e7dd3b10b2c76c1355ce10ef3\"}, \"mark\": \"rule\", \"encoding\": {\"y\": {\"field\": \"y\", \"type\": \"quantitative\"}}}, {\"data\": {\"name\": \"data-6c8afb0c75c7a0cb09fe34dea0f59fb2\"}, \"mark\": \"point\", \"encoding\": {\"color\": {\"field\": \"gics_sector_name\", \"type\": \"nominal\"}, \"shape\": {\"field\": \"role\", \"type\": \"nominal\"}, \"tooltip\": [{\"field\": \"avg_cash_incentive_percent\", \"type\": \"quantitative\"}, {\"field\": \"returns\", \"type\": \"quantitative\"}, {\"field\": \"gics_sector_name\", \"type\": \"nominal\"}, {\"field\": \"symbol\", \"type\": \"nominal\"}, {\"field\": \"role\", \"type\": \"nominal\"}], \"x\": {\"field\": \"avg_cash_incentive_percent\", \"type\": \"quantitative\"}, \"y\": {\"field\": \"returns\", \"type\": \"quantitative\"}}, \"selection\": {\"selector001\": {\"type\": \"interval\", \"bind\": \"scales\", \"encodings\": [\"x\", \"y\"]}}, \"title\": \"All sectors\"}], \"$schema\": \"https://vega.github.io/schema/vega-lite/v4.17.0.json\", \"datasets\": {\"data-d764767e7dd3b10b2c76c1355ce10ef3\": [{\"y\": 1}], \"data-6c8afb0c75c7a0cb09fe34dea0f59fb2\": [{\"gics_sector_name\": \"Communication Services\", \"symbol\": \"META\", \"DATE_OF_LAST_CHANGE\": \"2004-02-04T00:00:00\", \"avg_cash_incentive_percent\": null, \"returns\": 4.511918419375398, \"role\": \"CEO\"}, {\"gics_sector_name\": \"Communication Services\", \"symbol\": \"META\", \"DATE_OF_LAST_CHANGE\": \"2014-06-01T00:00:00\", \"avg_cash_incentive_percent\": 0.05171596869571837, \"returns\": 2.3835564053537284, \"role\": \"execuative\"}, {\"gics_sector_name\": \"Communication Services\", \"symbol\": \"META\", \"DATE_OF_LAST_CHANGE\": \"2018-05-10T00:00:00\", \"avg_cash_incentive_percent\": 0.02909064453971743, \"returns\": 1.0240654580458848, \"role\": \"execuative\"}, {\"gics_sector_name\": \"Communication Services\", \"symbol\": \"META\", \"DATE_OF_LAST_CHANGE\": \"2019-04-22T00:00:00\", \"avg_cash_incentive_percent\": 0.06571748510040719, \"returns\": 1.1936915765836336, \"role\": \"execuative\"}, {\"gics_sector_name\": \"Communication Services\", \"symbol\": \"META\", \"DATE_OF_LAST_CHANGE\": \"2020-06-11T00:00:00\", \"avg_cash_incentive_percent\": 0.029160065582088744, \"returns\": 1.4452270539854755, \"role\": \"execuative\"}, {\"gics_sector_name\": \"Communication Services\", \"symbol\": \"META\", \"DATE_OF_LAST_CHANGE\": \"2021-06-03T00:00:00\", \"avg_cash_incentive_percent\": 0.0750307115543767, \"returns\": 0.2748297260481308, \"role\": \"execuative\"}, {\"gics_sector_name\": \"Communication Services\", \"symbol\": \"META\", \"DATE_OF_LAST_CHANGE\": \"2022-11-01T00:00:00\", \"avg_cash_incentive_percent\": 0.04214720178277536, \"returns\": 3.8986672541028744, \"role\": \"execuative\"}, {\"gics_sector_name\": \"Communication Services\", \"symbol\": \"NFLX\", \"DATE_OF_LAST_CHANGE\": \"1998-09-01T00:00:00\", \"avg_cash_incentive_percent\": 0.0, \"returns\": 9.889666793717026, \"role\": \"CEO\"}, {\"gics_sector_name\": \"Communication Services\", \"symbol\": \"NFLX\", \"DATE_OF_LAST_CHANGE\": \"2020-07-14T00:00:00\", \"avg_cash_incentive_percent\": 0.0, \"returns\": 0.67510497170328, \"role\": \"CEO\"}, {\"gics_sector_name\": \"Communication Services\", \"symbol\": \"NFLX\", \"DATE_OF_LAST_CHANGE\": \"2023-01-13T00:00:00\", \"avg_cash_incentive_percent\": 0.33094570905320564, \"returns\": 1.4628928549966949, \"role\": \"CEO\"}, {\"gics_sector_name\": \"Communication Services\", \"symbol\": \"NFLX\", \"DATE_OF_LAST_CHANGE\": \"2015-12-31T00:00:00\", \"avg_cash_incentive_percent\": 0.31348798553462076, \"returns\": 2.2945294790266604, \"role\": \"execuative\"}, {\"gics_sector_name\": \"Communication Services\", \"symbol\": \"NFLX\", \"DATE_OF_LAST_CHANGE\": \"2015-12-31T00:00:00\", \"avg_cash_incentive_percent\": 0.31348798553462076, \"returns\": 1.576062248644868, \"role\": \"execuative\"}, {\"gics_sector_name\": \"Communication Services\", \"symbol\": \"NFLX\", \"DATE_OF_LAST_CHANGE\": \"2017-07-31T00:00:00\", \"avg_cash_incentive_percent\": 0.2164857422670438, \"returns\": 2.1110001664170412, \"role\": \"execuative\"}, {\"gics_sector_name\": \"Communication Services\", \"symbol\": \"NFLX\", \"DATE_OF_LAST_CHANGE\": \"2019-06-30T00:00:00\", \"avg_cash_incentive_percent\": 0.04540287116005885, \"returns\": 1.4209170936801998, \"role\": \"execuative\"}, {\"gics_sector_name\": \"Communication Services\", \"symbol\": \"NFLX\", \"DATE_OF_LAST_CHANGE\": \"2020-12-31T00:00:00\", \"avg_cash_incentive_percent\": 0.0, \"returns\": 0.6155012668059845, \"role\": \"execuative\"}, {\"gics_sector_name\": \"Communication Services\", \"symbol\": \"NFLX\", \"DATE_OF_LAST_CHANGE\": \"2023-01-13T00:00:00\", \"avg_cash_incentive_percent\": 0.0, \"returns\": 1.4628928549966949, \"role\": \"execuative\"}, {\"gics_sector_name\": \"Consumer Discretionary\", \"symbol\": \"AMZN\", \"DATE_OF_LAST_CHANGE\": \"1996-05-01T00:00:00\", \"avg_cash_incentive_percent\": null, \"returns\": 12.055425904317387, \"role\": \"CEO\"}, {\"gics_sector_name\": \"Consumer Discretionary\", \"symbol\": \"AMZN\", \"DATE_OF_LAST_CHANGE\": \"2021-07-05T00:00:00\", \"avg_cash_incentive_percent\": 0.0, \"returns\": 0.8170266767759871, \"role\": \"CEO\"}, {\"gics_sector_name\": \"Consumer Discretionary\", \"symbol\": \"AMZN\", \"DATE_OF_LAST_CHANGE\": \"2015-06-30T00:00:00\", \"avg_cash_incentive_percent\": 0.0, \"returns\": 1.418773499286918, \"role\": \"execuative\"}, {\"gics_sector_name\": \"Consumer Discretionary\", \"symbol\": \"AMZN\", \"DATE_OF_LAST_CHANGE\": \"2015-06-30T00:00:00\", \"avg_cash_incentive_percent\": 0.0, \"returns\": 1.358402631819428, \"role\": \"execuative\"}, {\"gics_sector_name\": \"Consumer Discretionary\", \"symbol\": \"AMZN\", \"DATE_OF_LAST_CHANGE\": \"2016-04-07T00:00:00\", \"avg_cash_incentive_percent\": 0.0, \"returns\": 1.2990918264379414, \"role\": \"execuative\"}, {\"gics_sector_name\": \"Consumer Discretionary\", \"symbol\": \"AMZN\", \"DATE_OF_LAST_CHANGE\": \"2016-08-31T00:00:00\", \"avg_cash_incentive_percent\": 0.0, \"returns\": 4.8150535963958365, \"role\": \"execuative\"}, {\"gics_sector_name\": \"Consumer Discretionary\", \"symbol\": \"AMZN\", \"DATE_OF_LAST_CHANGE\": \"2021-07-05T00:00:00\", \"avg_cash_incentive_percent\": 0.0, \"returns\": 0.7571235756881597, \"role\": \"execuative\"}, {\"gics_sector_name\": \"Consumer Discretionary\", \"symbol\": \"AMZN\", \"DATE_OF_LAST_CHANGE\": \"2022-07-31T00:00:00\", \"avg_cash_incentive_percent\": 0.0, \"returns\": 0.8824573863636362, \"role\": \"execuative\"}, {\"gics_sector_name\": \"Consumer Discretionary\", \"symbol\": \"AMZN\", \"DATE_OF_LAST_CHANGE\": \"2023-05-31T00:00:00\", \"avg_cash_incentive_percent\": null, \"returns\": 1.2228571428571429, \"role\": \"execuative\"}, {\"gics_sector_name\": \"Consumer Discretionary\", \"symbol\": \"HD\", \"DATE_OF_LAST_CHANGE\": \"2014-11-01T00:00:00\", \"avg_cash_incentive_percent\": 0.28876491922612657, \"returns\": 3.1350671952044857, \"role\": \"CEO\"}, {\"gics_sector_name\": \"Consumer Discretionary\", \"symbol\": \"HD\", \"DATE_OF_LAST_CHANGE\": \"2022-03-01T00:00:00\", \"avg_cash_incentive_percent\": 0.1765506299691571, \"returns\": 1.0687411336581756, \"role\": \"CEO\"}, {\"gics_sector_name\": \"Consumer Discretionary\", \"symbol\": \"HD\", \"DATE_OF_LAST_CHANGE\": \"2014-11-01T00:00:00\", \"avg_cash_incentive_percent\": 0.2633114391115041, \"returns\": 1.054239582326211, \"role\": \"execuative\"}, {\"gics_sector_name\": \"Consumer Discretionary\", \"symbol\": \"HD\", \"DATE_OF_LAST_CHANGE\": \"2015-02-02T00:00:00\", \"avg_cash_incentive_percent\": 0.2994490256013289, \"returns\": 1.067773294203962, \"role\": \"execuative\"}, {\"gics_sector_name\": \"Consumer Discretionary\", \"symbol\": \"HD\", \"DATE_OF_LAST_CHANGE\": \"2016-02-01T00:00:00\", \"avg_cash_incentive_percent\": 0.3232160107269371, \"returns\": 1.98514128660998, \"role\": \"execuative\"}, {\"gics_sector_name\": \"Consumer Discretionary\", \"symbol\": \"HD\", \"DATE_OF_LAST_CHANGE\": \"2019-09-01T00:00:00\", \"avg_cash_incentive_percent\": 0.2433506586657646, \"returns\": 1.2370527408817549, \"role\": \"execuative\"}, {\"gics_sector_name\": \"Consumer Discretionary\", \"symbol\": \"HD\", \"DATE_OF_LAST_CHANGE\": \"2020-10-05T00:00:00\", \"avg_cash_incentive_percent\": 0.5187790973143008, \"returns\": 1.0506435366536093, \"role\": \"execuative\"}, {\"gics_sector_name\": \"Consumer Discretionary\", \"symbol\": \"HD\", \"DATE_OF_LAST_CHANGE\": \"2022-04-25T00:00:00\", \"avg_cash_incentive_percent\": 0.35287821159940924, \"returns\": 1.1536284953395475, \"role\": \"execuative\"}, {\"gics_sector_name\": \"Consumer Discretionary\", \"symbol\": \"TSLA\", \"DATE_OF_LAST_CHANGE\": \"2008-10-15T00:00:00\", \"avg_cash_incentive_percent\": 0.0, \"returns\": 16.99508231480025, \"role\": \"CEO\"}, {\"gics_sector_name\": \"Consumer Discretionary\", \"symbol\": \"TSLA\", \"DATE_OF_LAST_CHANGE\": \"2015-11-30T00:00:00\", \"avg_cash_incentive_percent\": 0.0, \"returns\": 1.0504763793799203, \"role\": \"execuative\"}, {\"gics_sector_name\": \"Consumer Discretionary\", \"symbol\": \"TSLA\", \"DATE_OF_LAST_CHANGE\": \"2015-11-30T00:00:00\", \"avg_cash_incentive_percent\": 0.0, \"returns\": 0.8856218299725888, \"role\": \"execuative\"}, {\"gics_sector_name\": \"Consumer Discretionary\", \"symbol\": \"TSLA\", \"DATE_OF_LAST_CHANGE\": \"2016-09-30T00:00:00\", \"avg_cash_incentive_percent\": 0.04901855024185647, \"returns\": 1.3640126451992354, \"role\": \"execuative\"}, {\"gics_sector_name\": \"Consumer Discretionary\", \"symbol\": \"TSLA\", \"DATE_OF_LAST_CHANGE\": \"2017-03-31T00:00:00\", \"avg_cash_incentive_percent\": 0.01538900229670759, \"returns\": 1.2594686659516097, \"role\": \"execuative\"}, {\"gics_sector_name\": \"Consumer Discretionary\", \"symbol\": \"TSLA\", \"DATE_OF_LAST_CHANGE\": \"2018-11-08T00:00:00\", \"avg_cash_incentive_percent\": 0.0, \"returns\": 0.8938687824438425, \"role\": \"execuative\"}, {\"gics_sector_name\": \"Consumer Discretionary\", \"symbol\": \"TSLA\", \"DATE_OF_LAST_CHANGE\": \"2019-10-31T00:00:00\", \"avg_cash_incentive_percent\": 0.0, \"returns\": 9.560034087699224, \"role\": \"execuative\"}, {\"gics_sector_name\": \"Consumer Discretionary\", \"symbol\": \"TSLA\", \"DATE_OF_LAST_CHANGE\": \"2021-06-03T00:00:00\", \"avg_cash_incentive_percent\": null, \"returns\": 1.2713131243323803, \"role\": \"execuative\"}, {\"gics_sector_name\": \"Consumer Discretionary\", \"symbol\": \"TSLA\", \"DATE_OF_LAST_CHANGE\": \"2023-08-04T00:00:00\", \"avg_cash_incentive_percent\": 0.0, \"returns\": 0.9788072165760655, \"role\": \"execuative\"}, {\"gics_sector_name\": \"Consumer Staples\", \"symbol\": \"COST\", \"DATE_OF_LAST_CHANGE\": \"2012-01-01T00:00:00\", \"avg_cash_incentive_percent\": 0.03313711373491044, \"returns\": 4.661252736388673, \"role\": \"CEO\"}, {\"gics_sector_name\": \"Consumer Staples\", \"symbol\": \"COST\", \"DATE_OF_LAST_CHANGE\": \"2013-10-16T00:00:00\", \"avg_cash_incentive_percent\": 0.022899882785732732, \"returns\": 1.102393898735965, \"role\": \"execuative\"}, {\"gics_sector_name\": \"Consumer Staples\", \"symbol\": \"COST\", \"DATE_OF_LAST_CHANGE\": \"2016-06-30T00:00:00\", \"avg_cash_incentive_percent\": 0.02436475091217464, \"returns\": 1.002113894049068, \"role\": \"execuative\"}, {\"gics_sector_name\": \"Consumer Staples\", \"symbol\": \"COST\", \"DATE_OF_LAST_CHANGE\": \"2017-08-01T00:00:00\", \"avg_cash_incentive_percent\": 0.01919906364852321, \"returns\": 3.3224878547686014, \"role\": \"execuative\"}, {\"gics_sector_name\": \"Consumer Staples\", \"symbol\": \"COST\", \"DATE_OF_LAST_CHANGE\": \"2022-02-02T00:00:00\", \"avg_cash_incentive_percent\": 0.047938791507574526, \"returns\": 1.014718048367547, \"role\": \"execuative\"}, {\"gics_sector_name\": \"Consumer Staples\", \"symbol\": \"COST\", \"DATE_OF_LAST_CHANGE\": \"2022-03-10T00:00:00\", \"avg_cash_incentive_percent\": 0.030766567896059013, \"returns\": 1.2515262978271589, \"role\": \"execuative\"}, {\"gics_sector_name\": \"Consumer Staples\", \"symbol\": \"PG\", \"DATE_OF_LAST_CHANGE\": \"2013-05-23T00:00:00\", \"avg_cash_incentive_percent\": 0.20958364202859123, \"returns\": 0.8355816010614772, \"role\": \"CEO\"}, {\"gics_sector_name\": \"Consumer Staples\", \"symbol\": \"PG\", \"DATE_OF_LAST_CHANGE\": \"2015-11-01T00:00:00\", \"avg_cash_incentive_percent\": 0.2624473797279969, \"returns\": 1.1218737594283448, \"role\": \"CEO\"}, {\"gics_sector_name\": \"Consumer Staples\", \"symbol\": \"PG\", \"DATE_OF_LAST_CHANGE\": \"2016-06-30T00:00:00\", \"avg_cash_incentive_percent\": 0.21506346607620289, \"returns\": 1.7225760792639773, \"role\": \"CEO\"}, {\"gics_sector_name\": \"Consumer Staples\", \"symbol\": \"PG\", \"DATE_OF_LAST_CHANGE\": \"2021-11-01T00:00:00\", \"avg_cash_incentive_percent\": 0.22992577817535212, \"returns\": 1.0034237195288962, \"role\": \"CEO\"}, {\"gics_sector_name\": \"Consumer Staples\", \"symbol\": \"PG\", \"DATE_OF_LAST_CHANGE\": \"2013-07-01T00:00:00\", \"avg_cash_incentive_percent\": 0.16062329363811712, \"returns\": 0.8355816010614772, \"role\": \"execuative\"}, {\"gics_sector_name\": \"Consumer Staples\", \"symbol\": \"PG\", \"DATE_OF_LAST_CHANGE\": \"2015-11-01T00:00:00\", \"avg_cash_incentive_percent\": 0.3009884278133001, \"returns\": 1.1218737594283448, \"role\": \"execuative\"}, {\"gics_sector_name\": \"Consumer Staples\", \"symbol\": \"PG\", \"DATE_OF_LAST_CHANGE\": \"2016-06-30T00:00:00\", \"avg_cash_incentive_percent\": 0.27216576518209423, \"returns\": 1.033852323661241, \"role\": \"execuative\"}, {\"gics_sector_name\": \"Consumer Staples\", \"symbol\": \"PG\", \"DATE_OF_LAST_CHANGE\": \"2017-07-01T00:00:00\", \"avg_cash_incentive_percent\": 0.18917184920874458, \"returns\": 1.2909298345693097, \"role\": \"execuative\"}, {\"gics_sector_name\": \"Consumer Staples\", \"symbol\": \"PG\", \"DATE_OF_LAST_CHANGE\": \"2019-06-29T00:00:00\", \"avg_cash_incentive_percent\": 0.4006828310360647, \"returns\": 1.0, \"role\": \"execuative\"}, {\"gics_sector_name\": \"Consumer Staples\", \"symbol\": \"PG\", \"DATE_OF_LAST_CHANGE\": \"2019-07-02T00:00:00\", \"avg_cash_incentive_percent\": 0.3884817353522741, \"returns\": 1.1133893062306672, \"role\": \"execuative\"}, {\"gics_sector_name\": \"Consumer Staples\", \"symbol\": \"PG\", \"DATE_OF_LAST_CHANGE\": \"2021-03-01T00:00:00\", \"avg_cash_incentive_percent\": 0.40999932195641486, \"returns\": 1.1592316240673122, \"role\": \"execuative\"}, {\"gics_sector_name\": \"Consumer Staples\", \"symbol\": \"PG\", \"DATE_OF_LAST_CHANGE\": \"2021-11-01T00:00:00\", \"avg_cash_incentive_percent\": 0.3325531222087006, \"returns\": 1.0004793207340457, \"role\": \"execuative\"}, {\"gics_sector_name\": \"Consumer Staples\", \"symbol\": \"PG\", \"DATE_OF_LAST_CHANGE\": \"2022-06-30T00:00:00\", \"avg_cash_incentive_percent\": 0.3104080660883264, \"returns\": 1.0029429881596057, \"role\": \"execuative\"}, {\"gics_sector_name\": \"Consumer Staples\", \"symbol\": \"WMT\", \"DATE_OF_LAST_CHANGE\": \"2014-02-01T00:00:00\", \"avg_cash_incentive_percent\": 0.21530843641026054, \"returns\": 1.3692693472285766, \"role\": \"CEO\"}, {\"gics_sector_name\": \"Consumer Staples\", \"symbol\": \"WMT\", \"DATE_OF_LAST_CHANGE\": \"2019-11-01T00:00:00\", \"avg_cash_incentive_percent\": 0.17554262426990022, \"returns\": 1.3403321371092185, \"role\": \"CEO\"}, {\"gics_sector_name\": \"Consumer Staples\", \"symbol\": \"WMT\", \"DATE_OF_LAST_CHANGE\": \"2014-08-09T00:00:00\", \"avg_cash_incentive_percent\": 0.20601715790831537, \"returns\": 0.7799764609737614, \"role\": \"execuative\"}, {\"gics_sector_name\": \"Consumer Staples\", \"symbol\": \"WMT\", \"DATE_OF_LAST_CHANGE\": \"2016-01-31T00:00:00\", \"avg_cash_incentive_percent\": 0.162251351244833, \"returns\": 0.9925402873735631, \"role\": \"execuative\"}, {\"gics_sector_name\": \"Consumer Staples\", \"symbol\": \"WMT\", \"DATE_OF_LAST_CHANGE\": \"2017-02-01T00:00:00\", \"avg_cash_incentive_percent\": 0.29454951173792127, \"returns\": 1.5711269607113374, \"role\": \"execuative\"}, {\"gics_sector_name\": \"Consumer Staples\", \"symbol\": \"WMT\", \"DATE_OF_LAST_CHANGE\": \"2018-02-01T00:00:00\", \"avg_cash_incentive_percent\": 0.27794687680948804, \"returns\": 1.137727662971226, \"role\": \"execuative\"}, {\"gics_sector_name\": \"Consumer Staples\", \"symbol\": \"WMT\", \"DATE_OF_LAST_CHANGE\": \"2019-11-15T00:00:00\", \"avg_cash_incentive_percent\": 0.08772494165636296, \"returns\": 1.214436960071473, \"role\": \"execuative\"}, {\"gics_sector_name\": \"Consumer Staples\", \"symbol\": \"WMT\", \"DATE_OF_LAST_CHANGE\": \"2021-01-31T00:00:00\", \"avg_cash_incentive_percent\": 0.24296940621306004, \"returns\": 1.0, \"role\": \"execuative\"}, {\"gics_sector_name\": \"Consumer Staples\", \"symbol\": \"WMT\", \"DATE_OF_LAST_CHANGE\": \"2021-02-01T00:00:00\", \"avg_cash_incentive_percent\": 0.253493443299658, \"returns\": 0.8430320033250208, \"role\": \"execuative\"}, {\"gics_sector_name\": \"Consumer Staples\", \"symbol\": \"WMT\", \"DATE_OF_LAST_CHANGE\": \"2022-06-06T00:00:00\", \"avg_cash_incentive_percent\": 0.17023262596154742, \"returns\": 1.2953974565345467, \"role\": \"execuative\"}, {\"gics_sector_name\": \"Energy\", \"symbol\": \"CVX\", \"DATE_OF_LAST_CHANGE\": \"2010-01-01T00:00:00\", \"avg_cash_incentive_percent\": 0.15275885035294715, \"returns\": 1.05329543435779, \"role\": \"CEO\"}, {\"gics_sector_name\": \"Energy\", \"symbol\": \"CVX\", \"DATE_OF_LAST_CHANGE\": \"2018-02-01T00:00:00\", \"avg_cash_incentive_percent\": 0.14956906495808042, \"returns\": 1.2578849721706864, \"role\": \"CEO\"}, {\"gics_sector_name\": \"Energy\", \"symbol\": \"CVX\", \"DATE_OF_LAST_CHANGE\": \"2015-06-16T00:00:00\", \"avg_cash_incentive_percent\": 0.25242354257120475, \"returns\": 0.8835494759282289, \"role\": \"execuative\"}, {\"gics_sector_name\": \"Energy\", \"symbol\": \"CVX\", \"DATE_OF_LAST_CHANGE\": \"2015-06-16T00:00:00\", \"avg_cash_incentive_percent\": 0.25242354257120475, \"returns\": 0.904393284407359, \"role\": \"execuative\"}, {\"gics_sector_name\": \"Energy\", \"symbol\": \"CVX\", \"DATE_OF_LAST_CHANGE\": \"2015-12-31T00:00:00\", \"avg_cash_incentive_percent\": 0.17608220452173579, \"returns\": 1.3181413961760784, \"role\": \"execuative\"}, {\"gics_sector_name\": \"Energy\", \"symbol\": \"CVX\", \"DATE_OF_LAST_CHANGE\": \"2018-02-01T00:00:00\", \"avg_cash_incentive_percent\": 0.3660596248582944, \"returns\": 1.0661157024793388, \"role\": \"execuative\"}, {\"gics_sector_name\": \"Energy\", \"symbol\": \"CVX\", \"DATE_OF_LAST_CHANGE\": \"2019-04-01T00:00:00\", \"avg_cash_incentive_percent\": 0.17851869463933231, \"returns\": 1.265859832305015, \"role\": \"execuative\"}, {\"gics_sector_name\": \"Energy\", \"symbol\": \"CVX\", \"DATE_OF_LAST_CHANGE\": \"2022-10-01T00:00:00\", \"avg_cash_incentive_percent\": 0.2791127564177361, \"returns\": 0.93207523589327, \"role\": \"execuative\"}, {\"gics_sector_name\": \"Energy\", \"symbol\": \"SHEL\", \"DATE_OF_LAST_CHANGE\": \"2014-01-01T00:00:00\", \"avg_cash_incentive_percent\": 0.35435338316616094, \"returns\": 0.854732756046581, \"role\": \"CEO\"}, {\"gics_sector_name\": \"Energy\", \"symbol\": \"SHEL\", \"DATE_OF_LAST_CHANGE\": \"2022-12-31T00:00:00\", \"avg_cash_incentive_percent\": 0.34514925373134325, \"returns\": 1.0, \"role\": \"CEO\"}, {\"gics_sector_name\": \"Energy\", \"symbol\": \"SHEL\", \"DATE_OF_LAST_CHANGE\": \"2023-01-01T00:00:00\", \"avg_cash_incentive_percent\": 0.5102617209565055, \"returns\": 1.1493449781659388, \"role\": \"CEO\"}, {\"gics_sector_name\": \"Energy\", \"symbol\": \"SHEL\", \"DATE_OF_LAST_CHANGE\": \"2014-01-01T00:00:00\", \"avg_cash_incentive_percent\": -0.5649166382966518, \"returns\": 0.7724693938489101, \"role\": \"execuative\"}, {\"gics_sector_name\": \"Energy\", \"symbol\": \"SHEL\", \"DATE_OF_LAST_CHANGE\": \"2017-03-09T00:00:00\", \"avg_cash_incentive_percent\": 1.5564890844233241, \"returns\": 1.1064940085040587, \"role\": \"execuative\"}, {\"gics_sector_name\": \"Energy\", \"symbol\": \"SHEL\", \"DATE_OF_LAST_CHANGE\": \"2022-12-31T00:00:00\", \"avg_cash_incentive_percent\": -1.3752913752913742, \"returns\": 1.0, \"role\": \"execuative\"}, {\"gics_sector_name\": \"Energy\", \"symbol\": \"SHEL\", \"DATE_OF_LAST_CHANGE\": \"2023-01-01T00:00:00\", \"avg_cash_incentive_percent\": -11.025641025641022, \"returns\": 1.1493449781659388, \"role\": \"execuative\"}, {\"gics_sector_name\": \"Energy\", \"symbol\": \"XOM\", \"DATE_OF_LAST_CHANGE\": \"2015-12-31T00:00:00\", \"avg_cash_incentive_percent\": 0.11541066073328819, \"returns\": 0.8397069912743725, \"role\": \"CEO\"}, {\"gics_sector_name\": \"Energy\", \"symbol\": \"XOM\", \"DATE_OF_LAST_CHANGE\": \"2015-12-31T00:00:00\", \"avg_cash_incentive_percent\": 0.11541066073328819, \"returns\": 1.1353431686978832, \"role\": \"CEO\"}, {\"gics_sector_name\": \"Energy\", \"symbol\": \"XOM\", \"DATE_OF_LAST_CHANGE\": \"2016-12-31T00:00:00\", \"avg_cash_incentive_percent\": 0.07803236941551653, \"returns\": 1.0, \"role\": \"CEO\"}, {\"gics_sector_name\": \"Energy\", \"symbol\": \"XOM\", \"DATE_OF_LAST_CHANGE\": \"2017-01-01T00:00:00\", \"avg_cash_incentive_percent\": 0.14811882363027423, \"returns\": 1.1297175141242939, \"role\": \"CEO\"}, {\"gics_sector_name\": \"Energy\", \"symbol\": \"XOM\", \"DATE_OF_LAST_CHANGE\": \"2015-12-31T00:00:00\", \"avg_cash_incentive_percent\": 0.14964674187488372, \"returns\": 0.8397069912743725, \"role\": \"execuative\"}, {\"gics_sector_name\": \"Energy\", \"symbol\": \"XOM\", \"DATE_OF_LAST_CHANGE\": \"2015-12-31T00:00:00\", \"avg_cash_incentive_percent\": 0.14964674187488372, \"returns\": 1.1353431686978832, \"role\": \"execuative\"}, {\"gics_sector_name\": \"Energy\", \"symbol\": \"XOM\", \"DATE_OF_LAST_CHANGE\": \"2016-12-31T00:00:00\", \"avg_cash_incentive_percent\": 0.09832939288484532, \"returns\": 1.0, \"role\": \"execuative\"}, {\"gics_sector_name\": \"Energy\", \"symbol\": \"XOM\", \"DATE_OF_LAST_CHANGE\": \"2017-01-01T00:00:00\", \"avg_cash_incentive_percent\": 0.1713276908630149, \"returns\": 0.980225988700565, \"role\": \"execuative\"}, {\"gics_sector_name\": \"Energy\", \"symbol\": \"XOM\", \"DATE_OF_LAST_CHANGE\": \"2018-01-01T00:00:00\", \"avg_cash_incentive_percent\": 0.19146456136928577, \"returns\": 0.950893371757925, \"role\": \"execuative\"}, {\"gics_sector_name\": \"Energy\", \"symbol\": \"XOM\", \"DATE_OF_LAST_CHANGE\": \"2019-04-01T00:00:00\", \"avg_cash_incentive_percent\": 0.08895432611430718, \"returns\": 0.6651715359437508, \"role\": \"execuative\"}, {\"gics_sector_name\": \"Energy\", \"symbol\": \"XOM\", \"DATE_OF_LAST_CHANGE\": \"2021-09-01T00:00:00\", \"avg_cash_incentive_percent\": 0.2456368433252258, \"returns\": 1.6710406415163113, \"role\": \"execuative\"}, {\"gics_sector_name\": \"Energy\", \"symbol\": \"XOM\", \"DATE_OF_LAST_CHANGE\": \"2022-05-01T00:00:00\", \"avg_cash_incentive_percent\": 0.24643397759990812, \"returns\": 1.0904133493292618, \"role\": \"execuative\"}, {\"gics_sector_name\": \"Financials\", \"symbol\": \"JPM\", \"DATE_OF_LAST_CHANGE\": \"2005-12-31T00:00:00\", \"avg_cash_incentive_percent\": 0.1746457825409978, \"returns\": 2.722035525684109, \"role\": \"CEO\"}, {\"gics_sector_name\": \"Financials\", \"symbol\": \"JPM\", \"DATE_OF_LAST_CHANGE\": \"2013-01-01T00:00:00\", \"avg_cash_incentive_percent\": 0.3715263079486905, \"returns\": 1.8287726036165786, \"role\": \"execuative\"}, {\"gics_sector_name\": \"Financials\", \"symbol\": \"JPM\", \"DATE_OF_LAST_CHANGE\": \"2018-01-30T00:00:00\", \"avg_cash_incentive_percent\": 0.3664317236888592, \"returns\": 1.016100805040252, \"role\": \"execuative\"}, {\"gics_sector_name\": \"Financials\", \"symbol\": \"JPM\", \"DATE_OF_LAST_CHANGE\": \"2019-05-01T00:00:00\", \"avg_cash_incentive_percent\": 0.3578705981909615, \"returns\": 1.363675508095074, \"role\": \"execuative\"}, {\"gics_sector_name\": \"Financials\", \"symbol\": \"JPM\", \"DATE_OF_LAST_CHANGE\": \"2021-12-31T00:00:00\", \"avg_cash_incentive_percent\": 0.34432507323769207, \"returns\": 1.0742027155036311, \"role\": \"execuative\"}, {\"gics_sector_name\": \"Financials\", \"symbol\": \"V\", \"DATE_OF_LAST_CHANGE\": \"2012-11-01T00:00:00\", \"avg_cash_incentive_percent\": 0.254968643427333, \"returns\": 1.142857142857143, \"role\": \"CEO\"}, {\"gics_sector_name\": \"Financials\", \"symbol\": \"V\", \"DATE_OF_LAST_CHANGE\": \"2016-12-01T00:00:00\", \"avg_cash_incentive_percent\": 0.22219825977004873, \"returns\": 3.0392234548335972, \"role\": \"CEO\"}, {\"gics_sector_name\": \"Financials\", \"symbol\": \"V\", \"DATE_OF_LAST_CHANGE\": \"2023-02-01T00:00:00\", \"avg_cash_incentive_percent\": 0.21035286961599914, \"returns\": 1.1313170816495026, \"role\": \"CEO\"}, {\"gics_sector_name\": \"Financials\", \"symbol\": \"V\", \"DATE_OF_LAST_CHANGE\": \"2015-02-09T00:00:00\", \"avg_cash_incentive_percent\": 0.3930431477253849, \"returns\": 1.017394913591427, \"role\": \"execuative\"}, {\"gics_sector_name\": \"Financials\", \"symbol\": \"V\", \"DATE_OF_LAST_CHANGE\": \"2015-02-09T00:00:00\", \"avg_cash_incentive_percent\": 0.3930431477253849, \"returns\": 1.1233171383006342, \"role\": \"execuative\"}, {\"gics_sector_name\": \"Financials\", \"symbol\": \"V\", \"DATE_OF_LAST_CHANGE\": \"2016-12-01T00:00:00\", \"avg_cash_incentive_percent\": 0.3338518300695355, \"returns\": 1.172609614368727, \"role\": \"execuative\"}, {\"gics_sector_name\": \"Financials\", \"symbol\": \"V\", \"DATE_OF_LAST_CHANGE\": \"2017-02-28T00:00:00\", \"avg_cash_incentive_percent\": 0.3667374257812273, \"returns\": 2.091902241243383, \"role\": \"execuative\"}, {\"gics_sector_name\": \"Financials\", \"symbol\": \"V\", \"DATE_OF_LAST_CHANGE\": \"2019-09-01T00:00:00\", \"avg_cash_incentive_percent\": 0.23382972062150462, \"returns\": 1.0, \"role\": \"execuative\"}, {\"gics_sector_name\": \"Financials\", \"symbol\": \"V\", \"DATE_OF_LAST_CHANGE\": \"2019-09-03T00:00:00\", \"avg_cash_incentive_percent\": 0.125458446071687, \"returns\": 1.0853343383223861, \"role\": \"execuative\"}, {\"gics_sector_name\": \"Financials\", \"symbol\": \"V\", \"DATE_OF_LAST_CHANGE\": \"2021-01-11T00:00:00\", \"avg_cash_incentive_percent\": 0.2675593516598253, \"returns\": 1.1432114688228583, \"role\": \"execuative\"}, {\"gics_sector_name\": \"Financials\", \"symbol\": \"V\", \"DATE_OF_LAST_CHANGE\": \"2021-10-01T00:00:00\", \"avg_cash_incentive_percent\": 0.2760831709300039, \"returns\": 1.0370129306604183, \"role\": \"execuative\"}, {\"gics_sector_name\": \"Financials\", \"symbol\": \"V\", \"DATE_OF_LAST_CHANGE\": \"2023-08-01T00:00:00\", \"avg_cash_incentive_percent\": 0.2710829720683245, \"returns\": 1.0893761245240388, \"role\": \"execuative\"}, {\"gics_sector_name\": \"Financials\", \"symbol\": \"WFC\", \"DATE_OF_LAST_CHANGE\": \"2007-06-01T00:00:00\", \"avg_cash_incentive_percent\": 0.24242344903840918, \"returns\": 0.8173674588665447, \"role\": \"CEO\"}, {\"gics_sector_name\": \"Financials\", \"symbol\": \"WFC\", \"DATE_OF_LAST_CHANGE\": \"2016-10-12T00:00:00\", \"avg_cash_incentive_percent\": 0.04140112898139889, \"returns\": 1.1534332364124358, \"role\": \"CEO\"}, {\"gics_sector_name\": \"Financials\", \"symbol\": \"WFC\", \"DATE_OF_LAST_CHANGE\": \"2019-10-21T00:00:00\", \"avg_cash_incentive_percent\": 0.23797927537341226, \"returns\": 0.5350009695559433, \"role\": \"CEO\"}, {\"gics_sector_name\": \"Financials\", \"symbol\": \"WFC\", \"DATE_OF_LAST_CHANGE\": \"2020-04-30T00:00:00\", \"avg_cash_incentive_percent\": 0.24528066119251635, \"returns\": 1.7839797027908662, \"role\": \"CEO\"}, {\"gics_sector_name\": \"Financials\", \"symbol\": \"WFC\", \"DATE_OF_LAST_CHANGE\": \"2015-11-17T00:00:00\", \"avg_cash_incentive_percent\": 0.1279061289942613, \"returns\": 1.020475319926874, \"role\": \"execuative\"}, {\"gics_sector_name\": \"Financials\", \"symbol\": \"WFC\", \"DATE_OF_LAST_CHANGE\": \"2015-11-17T00:00:00\", \"avg_cash_incentive_percent\": 0.1279061289942613, \"returns\": 0.7989967753493372, \"role\": \"execuative\"}, {\"gics_sector_name\": \"Financials\", \"symbol\": \"WFC\", \"DATE_OF_LAST_CHANGE\": \"2016-11-01T00:00:00\", \"avg_cash_incentive_percent\": 0.16535389844492687, \"returns\": 1.2340807174887891, \"role\": \"execuative\"}, {\"gics_sector_name\": \"Financials\", \"symbol\": \"WFC\", \"DATE_OF_LAST_CHANGE\": \"2016-12-31T00:00:00\", \"avg_cash_incentive_percent\": 0.0, \"returns\": 0.960029069767442, \"role\": \"execuative\"}, {\"gics_sector_name\": \"Financials\", \"symbol\": \"WFC\", \"DATE_OF_LAST_CHANGE\": \"2017-07-31T00:00:00\", \"avg_cash_incentive_percent\": 0.12798156690411971, \"returns\": 0.9759651778955336, \"role\": \"execuative\"}, {\"gics_sector_name\": \"Financials\", \"symbol\": \"WFC\", \"DATE_OF_LAST_CHANGE\": \"2019-10-21T00:00:00\", \"avg_cash_incentive_percent\": 0.2408358956163579, \"returns\": 0.46519294163273217, \"role\": \"execuative\"}, {\"gics_sector_name\": \"Financials\", \"symbol\": \"WFC\", \"DATE_OF_LAST_CHANGE\": \"2020-10-01T00:00:00\", \"avg_cash_incentive_percent\": 0.35892681115741715, \"returns\": 0.9132972071696541, \"role\": \"execuative\"}, {\"gics_sector_name\": \"Financials\", \"symbol\": \"WFC\", \"DATE_OF_LAST_CHANGE\": \"2020-10-31T00:00:00\", \"avg_cash_incentive_percent\": 0.2838857131933771, \"returns\": 2.2464628023733453, \"role\": \"execuative\"}, {\"gics_sector_name\": \"Health Care\", \"symbol\": \"LLY\", \"DATE_OF_LAST_CHANGE\": \"2008-04-01T00:00:00\", \"avg_cash_incentive_percent\": 0.24194356319919846, \"returns\": 1.0800742220953468, \"role\": \"CEO\"}, {\"gics_sector_name\": \"Health Care\", \"symbol\": \"LLY\", \"DATE_OF_LAST_CHANGE\": \"2016-12-31T00:00:00\", \"avg_cash_incentive_percent\": 0.19310471300201715, \"returns\": 1.0, \"role\": \"CEO\"}, {\"gics_sector_name\": \"Health Care\", \"symbol\": \"LLY\", \"DATE_OF_LAST_CHANGE\": \"2017-01-01T00:00:00\", \"avg_cash_incentive_percent\": 0.18487676051255272, \"returns\": 7.703449187260472, \"role\": \"CEO\"}, {\"gics_sector_name\": \"Health Care\", \"symbol\": \"LLY\", \"DATE_OF_LAST_CHANGE\": \"2013-07-08T00:00:00\", \"avg_cash_incentive_percent\": 0.33609470063468083, \"returns\": 1.0800742220953468, \"role\": \"execuative\"}, {\"gics_sector_name\": \"Health Care\", \"symbol\": \"LLY\", \"DATE_OF_LAST_CHANGE\": \"2016-12-31T00:00:00\", \"avg_cash_incentive_percent\": 0.2953456927202347, \"returns\": 1.1440465177745474, \"role\": \"execuative\"}, {\"gics_sector_name\": \"Health Care\", \"symbol\": \"LLY\", \"DATE_OF_LAST_CHANGE\": \"2017-12-31T00:00:00\", \"avg_cash_incentive_percent\": 0.23550120769770766, \"returns\": 1.2203996765623197, \"role\": \"execuative\"}, {\"gics_sector_name\": \"Health Care\", \"symbol\": \"LLY\", \"DATE_OF_LAST_CHANGE\": \"2018-08-31T00:00:00\", \"avg_cash_incentive_percent\": 0.3416792542254987, \"returns\": 1.2472314245149076, \"role\": \"execuative\"}, {\"gics_sector_name\": \"Health Care\", \"symbol\": \"LLY\", \"DATE_OF_LAST_CHANGE\": \"2019-12-31T00:00:00\", \"avg_cash_incentive_percent\": 0.30257221725643846, \"returns\": 1.1111026789102223, \"role\": \"execuative\"}, {\"gics_sector_name\": \"Health Care\", \"symbol\": \"LLY\", \"DATE_OF_LAST_CHANGE\": \"2020-02-03T00:00:00\", \"avg_cash_incentive_percent\": 0.19282691648652708, \"returns\": 1.6358172255993444, \"role\": \"execuative\"}, {\"gics_sector_name\": \"Health Care\", \"symbol\": \"LLY\", \"DATE_OF_LAST_CHANGE\": \"2021-09-05T00:00:00\", \"avg_cash_incentive_percent\": 0.25448465294417494, \"returns\": 1.7862630480167014, \"role\": \"execuative\"}, {\"gics_sector_name\": \"Health Care\", \"symbol\": \"LLY\", \"DATE_OF_LAST_CHANGE\": \"2023-05-03T00:00:00\", \"avg_cash_incentive_percent\": 0.36487569281290916, \"returns\": 1.3625674949159672, \"role\": \"execuative\"}, {\"gics_sector_name\": \"Health Care\", \"symbol\": \"NVO\", \"DATE_OF_LAST_CHANGE\": \"2000-11-14T00:00:00\", \"avg_cash_incentive_percent\": 1.0, \"returns\": 0.8623205460108261, \"role\": \"CEO\"}, {\"gics_sector_name\": \"Health Care\", \"symbol\": \"NVO\", \"DATE_OF_LAST_CHANGE\": \"2016-12-31T00:00:00\", \"avg_cash_incentive_percent\": 1.0, \"returns\": 1.0, \"role\": \"CEO\"}, {\"gics_sector_name\": \"Health Care\", \"symbol\": \"NVO\", \"DATE_OF_LAST_CHANGE\": \"2017-01-01T00:00:00\", \"avg_cash_incentive_percent\": 0.45202914091992713, \"returns\": 5.646834061135372, \"role\": \"CEO\"}, {\"gics_sector_name\": \"Health Care\", \"symbol\": \"NVO\", \"DATE_OF_LAST_CHANGE\": \"2015-04-30T00:00:00\", \"avg_cash_incentive_percent\": 0.5644028103044497, \"returns\": 1.3452577076959282, \"role\": \"execuative\"}, {\"gics_sector_name\": \"Health Care\", \"symbol\": \"NVO\", \"DATE_OF_LAST_CHANGE\": \"2015-04-30T00:00:00\", \"avg_cash_incentive_percent\": 0.5644028103044497, \"returns\": 0.6410076976906929, \"role\": \"execuative\"}, {\"gics_sector_name\": \"Health Care\", \"symbol\": \"NVO\", \"DATE_OF_LAST_CHANGE\": \"2016-12-31T00:00:00\", \"avg_cash_incentive_percent\": 0.7935779816513759, \"returns\": 1.3406113537117903, \"role\": \"execuative\"}, {\"gics_sector_name\": \"Health Care\", \"symbol\": \"NVO\", \"DATE_OF_LAST_CHANGE\": \"2017-10-01T00:00:00\", \"avg_cash_incentive_percent\": 0.6844106463878326, \"returns\": 1.0557817589576548, \"role\": \"execuative\"}, {\"gics_sector_name\": \"Health Care\", \"symbol\": \"NVO\", \"DATE_OF_LAST_CHANGE\": \"2018-02-15T00:00:00\", \"avg_cash_incentive_percent\": 0.4675236806495265, \"returns\": 0.9693405322020826, \"role\": \"execuative\"}, {\"gics_sector_name\": \"Health Care\", \"symbol\": \"NVO\", \"DATE_OF_LAST_CHANGE\": \"2019-08-09T00:00:00\", \"avg_cash_incentive_percent\": 0.5235602094240837, \"returns\": 1.045355082554207, \"role\": \"execuative\"}, {\"gics_sector_name\": \"Health Care\", \"symbol\": \"NVO\", \"DATE_OF_LAST_CHANGE\": \"2019-08-31T00:00:00\", \"avg_cash_incentive_percent\": 0.5546666666666666, \"returns\": 1.3246431969552808, \"role\": \"execuative\"}, {\"gics_sector_name\": \"Health Care\", \"symbol\": \"NVO\", \"DATE_OF_LAST_CHANGE\": \"2021-03-01T00:00:00\", \"avg_cash_incentive_percent\": 0.39991121899797377, \"returns\": 2.029737106737538, \"role\": \"execuative\"}, {\"gics_sector_name\": \"Health Care\", \"symbol\": \"NVO\", \"DATE_OF_LAST_CHANGE\": \"2023-03-07T00:00:00\", \"avg_cash_incentive_percent\": 0.4321250888415067, \"returns\": 1.4643640738905799, \"role\": \"execuative\"}, {\"gics_sector_name\": \"Health Care\", \"symbol\": \"UNH\", \"DATE_OF_LAST_CHANGE\": \"2006-11-01T00:00:00\", \"avg_cash_incentive_percent\": 0.313413076483917, \"returns\": 1.9820400873189126, \"role\": \"CEO\"}, {\"gics_sector_name\": \"Health Care\", \"symbol\": \"UNH\", \"DATE_OF_LAST_CHANGE\": \"2017-09-01T00:00:00\", \"avg_cash_incentive_percent\": 0.28150068981120924, \"returns\": 1.6245807259073841, \"role\": \"CEO\"}, {\"gics_sector_name\": \"Health Care\", \"symbol\": \"UNH\", \"DATE_OF_LAST_CHANGE\": \"2021-02-04T00:00:00\", \"avg_cash_incentive_percent\": 0.12566779006051831, \"returns\": 1.6223537025053159, \"role\": \"CEO\"}, {\"gics_sector_name\": \"Health Care\", \"symbol\": \"UNH\", \"DATE_OF_LAST_CHANGE\": \"2014-11-30T00:00:00\", \"avg_cash_incentive_percent\": 0.40949288270128614, \"returns\": 1.3816233379638818, \"role\": \"execuative\"}, {\"gics_sector_name\": \"Health Care\", \"symbol\": \"UNH\", \"DATE_OF_LAST_CHANGE\": \"2016-06-07T00:00:00\", \"avg_cash_incentive_percent\": 0.42564256886823965, \"returns\": 1.4345733984487214, \"role\": \"execuative\"}, {\"gics_sector_name\": \"Health Care\", \"symbol\": \"UNH\", \"DATE_OF_LAST_CHANGE\": \"2017-09-01T00:00:00\", \"avg_cash_incentive_percent\": 0.514742580097355, \"returns\": 1.1273591989987484, \"role\": \"execuative\"}, {\"gics_sector_name\": \"Health Care\", \"symbol\": \"UNH\", \"DATE_OF_LAST_CHANGE\": \"2018-03-01T00:00:00\", \"avg_cash_incentive_percent\": 0.1832903687439253, \"returns\": 1.1963231049336116, \"role\": \"execuative\"}, {\"gics_sector_name\": \"Health Care\", \"symbol\": \"UNH\", \"DATE_OF_LAST_CHANGE\": \"2019-11-11T00:00:00\", \"avg_cash_incentive_percent\": 0.21745796651846463, \"returns\": 1.3625463994060878, \"role\": \"execuative\"}, {\"gics_sector_name\": \"Health Care\", \"symbol\": \"UNH\", \"DATE_OF_LAST_CHANGE\": \"2021-03-31T00:00:00\", \"avg_cash_incentive_percent\": 0.17702514301324787, \"returns\": 1.3584602391914349, \"role\": \"execuative\"}, {\"gics_sector_name\": \"Health Care\", \"symbol\": \"UNH\", \"DATE_OF_LAST_CHANGE\": \"2022-03-01T00:00:00\", \"avg_cash_incentive_percent\": 0.15942857277762487, \"returns\": 1.0557906347137271, \"role\": \"execuative\"}, {\"gics_sector_name\": \"Industrials\", \"symbol\": \"CAT\", \"DATE_OF_LAST_CHANGE\": \"2010-07-01T00:00:00\", \"avg_cash_incentive_percent\": 0.05956360820221936, \"returns\": 1.0126251632564216, \"role\": \"CEO\"}, {\"gics_sector_name\": \"Industrials\", \"symbol\": \"CAT\", \"DATE_OF_LAST_CHANGE\": \"2016-12-31T00:00:00\", \"avg_cash_incentive_percent\": 0.21122284391064922, \"returns\": 1.0, \"role\": \"CEO\"}, {\"gics_sector_name\": \"Industrials\", \"symbol\": \"CAT\", \"DATE_OF_LAST_CHANGE\": \"2017-01-01T00:00:00\", \"avg_cash_incentive_percent\": 0.20176094794671043, \"returns\": 3.1778804815133275, \"role\": \"CEO\"}, {\"gics_sector_name\": \"Industrials\", \"symbol\": \"CAT\", \"DATE_OF_LAST_CHANGE\": \"2015-01-01T00:00:00\", \"avg_cash_incentive_percent\": 0.0618799025040497, \"returns\": 1.0126251632564216, \"role\": \"execuative\"}, {\"gics_sector_name\": \"Industrials\", \"symbol\": \"CAT\", \"DATE_OF_LAST_CHANGE\": \"2016-12-31T00:00:00\", \"avg_cash_incentive_percent\": 0.24832571202055254, \"returns\": 1.0, \"role\": \"execuative\"}, {\"gics_sector_name\": \"Industrials\", \"symbol\": \"CAT\", \"DATE_OF_LAST_CHANGE\": \"2017-01-01T00:00:00\", \"avg_cash_incentive_percent\": 0.2919597642914839, \"returns\": 1.3625322441960446, \"role\": \"execuative\"}, {\"gics_sector_name\": \"Industrials\", \"symbol\": \"CAT\", \"DATE_OF_LAST_CHANGE\": \"2018-12-13T00:00:00\", \"avg_cash_incentive_percent\": 0.25867824482873475, \"returns\": 1.084404827640609, \"role\": \"execuative\"}, {\"gics_sector_name\": \"Industrials\", \"symbol\": \"CAT\", \"DATE_OF_LAST_CHANGE\": \"2019-03-01T00:00:00\", \"avg_cash_incentive_percent\": 0.1909847867880942, \"returns\": 1.3240707063359278, \"role\": \"execuative\"}, {\"gics_sector_name\": \"Industrials\", \"symbol\": \"CAT\", \"DATE_OF_LAST_CHANGE\": \"2020-12-31T00:00:00\", \"avg_cash_incentive_percent\": 0.0, \"returns\": 1.0, \"role\": \"execuative\"}, {\"gics_sector_name\": \"Industrials\", \"symbol\": \"CAT\", \"DATE_OF_LAST_CHANGE\": \"2021-01-01T00:00:00\", \"avg_cash_incentive_percent\": 0.31805291045605455, \"returns\": 1.6243819360509835, \"role\": \"execuative\"}, {\"gics_sector_name\": \"Industrials\", \"symbol\": \"GE\", \"DATE_OF_LAST_CHANGE\": \"2001-09-07T00:00:00\", \"avg_cash_incentive_percent\": 0.525247738075193, \"returns\": 1.0287309696306197, \"role\": \"CEO\"}, {\"gics_sector_name\": \"Industrials\", \"symbol\": \"GE\", \"DATE_OF_LAST_CHANGE\": \"2017-08-01T00:00:00\", \"avg_cash_incentive_percent\": 0.0, \"returns\": 0.5112494741816078, \"role\": \"CEO\"}, {\"gics_sector_name\": \"Industrials\", \"symbol\": \"GE\", \"DATE_OF_LAST_CHANGE\": \"2018-10-01T00:00:00\", \"avg_cash_incentive_percent\": 0.19041567275006158, \"returns\": 1.613711703856367, \"role\": \"CEO\"}, {\"gics_sector_name\": \"Industrials\", \"symbol\": \"GE\", \"DATE_OF_LAST_CHANGE\": \"2015-12-31T00:00:00\", \"avg_cash_incentive_percent\": 0.9375900827063087, \"returns\": 1.2430167434732473, \"role\": \"execuative\"}, {\"gics_sector_name\": \"Industrials\", \"symbol\": \"GE\", \"DATE_OF_LAST_CHANGE\": \"2015-12-31T00:00:00\", \"avg_cash_incentive_percent\": 0.9375900827063087, \"returns\": 1.0147673282170337, \"role\": \"execuative\"}, {\"gics_sector_name\": \"Industrials\", \"symbol\": \"GE\", \"DATE_OF_LAST_CHANGE\": \"2016-12-31T00:00:00\", \"avg_cash_incentive_percent\": 0.4135284981658104, \"returns\": 0.586523321562712, \"role\": \"execuative\"}, {\"gics_sector_name\": \"Industrials\", \"symbol\": \"GE\", \"DATE_OF_LAST_CHANGE\": \"2017-12-31T00:00:00\", \"avg_cash_incentive_percent\": 0.08288638024764297, \"returns\": 0.7108958002740912, \"role\": \"execuative\"}, {\"gics_sector_name\": \"Industrials\", \"symbol\": \"GE\", \"DATE_OF_LAST_CHANGE\": \"2018-10-01T00:00:00\", \"avg_cash_incentive_percent\": 0.29080921629667017, \"returns\": 0.8106218540684079, \"role\": \"execuative\"}, {\"gics_sector_name\": \"Industrials\", \"symbol\": \"GE\", \"DATE_OF_LAST_CHANGE\": \"2019-02-25T00:00:00\", \"avg_cash_incentive_percent\": 0.3536485117757471, \"returns\": 0.62512125479152, \"role\": \"execuative\"}, {\"gics_sector_name\": \"Industrials\", \"symbol\": \"GE\", \"DATE_OF_LAST_CHANGE\": \"2020-09-01T00:00:00\", \"avg_cash_incentive_percent\": 0.1555977735994374, \"returns\": 1.8393677828286463, \"role\": \"execuative\"}, {\"gics_sector_name\": \"Industrials\", \"symbol\": \"GE\", \"DATE_OF_LAST_CHANGE\": \"2021-12-31T00:00:00\", \"avg_cash_incentive_percent\": 0.2820095832024463, \"returns\": 1.0733573724763152, \"role\": \"execuative\"}, {\"gics_sector_name\": \"Industrials\", \"symbol\": \"GE\", \"DATE_OF_LAST_CHANGE\": \"2022-01-03T00:00:00\", \"avg_cash_incentive_percent\": 0.16198079227865206, \"returns\": 1.3440486547216663, \"role\": \"execuative\"}, {\"gics_sector_name\": \"Industrials\", \"symbol\": \"GE\", \"DATE_OF_LAST_CHANGE\": \"2023-10-24T00:00:00\", \"avg_cash_incentive_percent\": 0.5422050849811243, \"returns\": 1.2000945560698628, \"role\": \"execuative\"}, {\"gics_sector_name\": \"Industrials\", \"symbol\": \"RTX\", \"DATE_OF_LAST_CHANGE\": \"2014-11-24T00:00:00\", \"avg_cash_incentive_percent\": 0.20046375865513255, \"returns\": 1.2400518776159877, \"role\": \"CEO\"}, {\"gics_sector_name\": \"Industrials\", \"symbol\": \"RTX\", \"DATE_OF_LAST_CHANGE\": \"2015-02-13T00:00:00\", \"avg_cash_incentive_percent\": 0.09828079973319528, \"returns\": 1.0539851441372399, \"role\": \"execuative\"}, {\"gics_sector_name\": \"Industrials\", \"symbol\": \"RTX\", \"DATE_OF_LAST_CHANGE\": \"2015-02-13T00:00:00\", \"avg_cash_incentive_percent\": 0.09828079973319528, \"returns\": 0.8255610711039642, \"role\": \"execuative\"}, {\"gics_sector_name\": \"Industrials\", \"symbol\": \"RTX\", \"DATE_OF_LAST_CHANGE\": \"2016-09-14T00:00:00\", \"avg_cash_incentive_percent\": 0.22816116967483113, \"returns\": 1.2730352303523036, \"role\": \"execuative\"}, {\"gics_sector_name\": \"Industrials\", \"symbol\": \"RTX\", \"DATE_OF_LAST_CHANGE\": \"2018-11-01T00:00:00\", \"avg_cash_incentive_percent\": 0.1801834827362701, \"returns\": 1.1510643959552953, \"role\": \"execuative\"}, {\"gics_sector_name\": \"Industrials\", \"symbol\": \"RTX\", \"DATE_OF_LAST_CHANGE\": \"2019-11-01T00:00:00\", \"avg_cash_incentive_percent\": 0.24288772272129477, \"returns\": 0.5771320248745868, \"role\": \"execuative\"}, {\"gics_sector_name\": \"Industrials\", \"symbol\": \"RTX\", \"DATE_OF_LAST_CHANGE\": \"2020-04-03T00:00:00\", \"avg_cash_incentive_percent\": 0.23869024642640485, \"returns\": 1.7828960544762666, \"role\": \"execuative\"}, {\"gics_sector_name\": \"Industrials\", \"symbol\": \"RTX\", \"DATE_OF_LAST_CHANGE\": \"2021-06-01T00:00:00\", \"avg_cash_incentive_percent\": 0.17897239744225701, \"returns\": 1.1187373623904742, \"role\": \"execuative\"}, {\"gics_sector_name\": \"Industrials\", \"symbol\": \"RTX\", \"DATE_OF_LAST_CHANGE\": \"2022-03-01T00:00:00\", \"avg_cash_incentive_percent\": 0.1979247945158278, \"returns\": 0.8769956822974194, \"role\": \"execuative\"}, {\"gics_sector_name\": \"Industrials\", \"symbol\": \"RTX\", \"DATE_OF_LAST_CHANGE\": \"2023-07-27T00:00:00\", \"avg_cash_incentive_percent\": 0.17780048772763044, \"returns\": 0.9633615754522555, \"role\": \"execuative\"}, {\"gics_sector_name\": \"Information Technology\", \"symbol\": \"AAPL\", \"DATE_OF_LAST_CHANGE\": \"2011-01-01T00:00:00\", \"avg_cash_incentive_percent\": 0.714824814462077, \"returns\": 7.043866388614496, \"role\": \"CEO\"}, {\"gics_sector_name\": \"Information Technology\", \"symbol\": \"AAPL\", \"DATE_OF_LAST_CHANGE\": \"2014-05-29T00:00:00\", \"avg_cash_incentive_percent\": 0.1320495661714869, \"returns\": 0.9627556433615045, \"role\": \"execuative\"}, {\"gics_sector_name\": \"Information Technology\", \"symbol\": \"AAPL\", \"DATE_OF_LAST_CHANGE\": \"2015-12-31T00:00:00\", \"avg_cash_incentive_percent\": 0.146349181049471, \"returns\": 1.6164924947748431, \"role\": \"execuative\"}, {\"gics_sector_name\": \"Information Technology\", \"symbol\": \"AAPL\", \"DATE_OF_LAST_CHANGE\": \"2017-11-13T00:00:00\", \"avg_cash_incentive_percent\": 0.1778065646605963, \"returns\": 1.001528045512248, \"role\": \"execuative\"}, {\"gics_sector_name\": \"Information Technology\", \"symbol\": \"AAPL\", \"DATE_OF_LAST_CHANGE\": \"2019-02-05T00:00:00\", \"avg_cash_incentive_percent\": 0.16493738195734578, \"returns\": 1.1962772574701313, \"role\": \"execuative\"}, {\"gics_sector_name\": \"Information Technology\", \"symbol\": \"AAPL\", \"DATE_OF_LAST_CHANGE\": \"2019-04-15T00:00:00\", \"avg_cash_incentive_percent\": 0.09032598663845258, \"returns\": 3.7776905719611498, \"role\": \"execuative\"}, {\"gics_sector_name\": \"Information Technology\", \"symbol\": \"MSFT\", \"DATE_OF_LAST_CHANGE\": \"2014-02-04T00:00:00\", \"avg_cash_incentive_percent\": 0.26398763452288915, \"returns\": 8.041916167664672, \"role\": \"CEO\"}, {\"gics_sector_name\": \"Information Technology\", \"symbol\": \"MSFT\", \"DATE_OF_LAST_CHANGE\": \"2014-09-01T00:00:00\", \"avg_cash_incentive_percent\": 0.2631212312700274, \"returns\": 0.9298545765611633, \"role\": \"execuative\"}, {\"gics_sector_name\": \"Information Technology\", \"symbol\": \"MSFT\", \"DATE_OF_LAST_CHANGE\": \"2015-09-11T00:00:00\", \"avg_cash_incentive_percent\": 0.2765320193356196, \"returns\": 1.202851885924563, \"role\": \"execuative\"}, {\"gics_sector_name\": \"Information Technology\", \"symbol\": \"MSFT\", \"DATE_OF_LAST_CHANGE\": \"2016-07-07T00:00:00\", \"avg_cash_incentive_percent\": 0.2910517914377126, \"returns\": 4.960420650095602, \"role\": \"execuative\"}, {\"gics_sector_name\": \"Information Technology\", \"symbol\": \"MSFT\", \"DATE_OF_LAST_CHANGE\": \"2021-06-16T00:00:00\", \"avg_cash_incentive_percent\": 0.24975940410458683, \"returns\": 1.155880198897583, \"role\": \"execuative\"}, {\"gics_sector_name\": \"Information Technology\", \"symbol\": \"MSFT\", \"DATE_OF_LAST_CHANGE\": \"2021-09-15T00:00:00\", \"avg_cash_incentive_percent\": 0.18594163488572027, \"returns\": 1.25401007103078, \"role\": \"execuative\"}, {\"gics_sector_name\": \"Information Technology\", \"symbol\": \"NVDA\", \"DATE_OF_LAST_CHANGE\": \"1993-04-02T00:00:00\", \"avg_cash_incentive_percent\": 0.13302542595147576, \"returns\": 98.39459566858733, \"role\": \"CEO\"}, {\"gics_sector_name\": \"Information Technology\", \"symbol\": \"NVDA\", \"DATE_OF_LAST_CHANGE\": \"2014-01-14T00:00:00\", \"avg_cash_incentive_percent\": 0.3200067045826518, \"returns\": 5.121200079475463, \"role\": \"execuative\"}, {\"gics_sector_name\": \"Information Technology\", \"symbol\": \"NVDA\", \"DATE_OF_LAST_CHANGE\": \"2016-12-31T00:00:00\", \"avg_cash_incentive_percent\": 0.2113033585588848, \"returns\": 1.0, \"role\": \"execuative\"}, {\"gics_sector_name\": \"Information Technology\", \"symbol\": \"NVDA\", \"DATE_OF_LAST_CHANGE\": \"2017-01-01T00:00:00\", \"avg_cash_incentive_percent\": 0.18636990750654292, \"returns\": 2.2942774005819593, \"role\": \"execuative\"}, {\"gics_sector_name\": \"Information Technology\", \"symbol\": \"NVDA\", \"DATE_OF_LAST_CHANGE\": \"2018-02-28T00:00:00\", \"avg_cash_incentive_percent\": 0.0924292569251546, \"returns\": 8.374397564893886, \"role\": \"execuative\"}, {\"gics_sector_name\": \"Materials\", \"symbol\": \"BHP\", \"DATE_OF_LAST_CHANGE\": \"2013-05-10T00:00:00\", \"avg_cash_incentive_percent\": 0.1614361821972296, \"returns\": 1.2236378088228637, \"role\": \"CEO\"}, {\"gics_sector_name\": \"Materials\", \"symbol\": \"BHP\", \"DATE_OF_LAST_CHANGE\": \"2020-01-01T00:00:00\", \"avg_cash_incentive_percent\": 0.24153779100649128, \"returns\": 1.4042062462613085, \"role\": \"CEO\"}, {\"gics_sector_name\": \"Materials\", \"symbol\": \"BHP\", \"DATE_OF_LAST_CHANGE\": \"2015-06-30T00:00:00\", \"avg_cash_incentive_percent\": 0.3062190660641274, \"returns\": 0.9261969322715176, \"role\": \"execuative\"}, {\"gics_sector_name\": \"Materials\", \"symbol\": \"BHP\", \"DATE_OF_LAST_CHANGE\": \"2015-06-30T00:00:00\", \"avg_cash_incentive_percent\": 0.3062190660641274, \"returns\": 0.5468623121691828, \"role\": \"execuative\"}, {\"gics_sector_name\": \"Materials\", \"symbol\": \"BHP\", \"DATE_OF_LAST_CHANGE\": \"2016-02-01T00:00:00\", \"avg_cash_incentive_percent\": 0.2841792190348269, \"returns\": 1.2258646034047795, \"role\": \"execuative\"}, {\"gics_sector_name\": \"Materials\", \"symbol\": \"BHP\", \"DATE_OF_LAST_CHANGE\": \"2016-03-01T00:00:00\", \"avg_cash_incentive_percent\": 0.20176881831427657, \"returns\": 1.8876460937025257, \"role\": \"execuative\"}, {\"gics_sector_name\": \"Materials\", \"symbol\": \"BHP\", \"DATE_OF_LAST_CHANGE\": \"2019-03-17T00:00:00\", \"avg_cash_incentive_percent\": 0.16710461487929054, \"returns\": 0.7002871515765438, \"role\": \"execuative\"}, {\"gics_sector_name\": \"Materials\", \"symbol\": \"BHP\", \"DATE_OF_LAST_CHANGE\": \"2020-03-31T00:00:00\", \"avg_cash_incentive_percent\": 0.2836897066136251, \"returns\": 1.7234227083416334, \"role\": \"execuative\"}, {\"gics_sector_name\": \"Materials\", \"symbol\": \"BHP\", \"DATE_OF_LAST_CHANGE\": \"2020-12-01T00:00:00\", \"avg_cash_incentive_percent\": 0.3530754071154444, \"returns\": 1.193190103101583, \"role\": \"execuative\"}, {\"gics_sector_name\": \"Materials\", \"symbol\": \"BHP\", \"DATE_OF_LAST_CHANGE\": \"2022-05-31T00:00:00\", \"avg_cash_incentive_percent\": 0.32476496489349044, \"returns\": 0.76274217585693, \"role\": \"execuative\"}, {\"gics_sector_name\": \"Materials\", \"symbol\": \"BHP\", \"DATE_OF_LAST_CHANGE\": \"2022-10-01T00:00:00\", \"avg_cash_incentive_percent\": 0.3233333333333333, \"returns\": 1.3347010550996483, \"role\": \"execuative\"}, {\"gics_sector_name\": \"Materials\", \"symbol\": \"SHW\", \"DATE_OF_LAST_CHANGE\": \"2015-12-31T00:00:00\", \"avg_cash_incentive_percent\": 0.20049494035228801, \"returns\": 0.9891746684956562, \"role\": \"CEO\"}, {\"gics_sector_name\": \"Materials\", \"symbol\": \"SHW\", \"DATE_OF_LAST_CHANGE\": \"2015-12-31T00:00:00\", \"avg_cash_incentive_percent\": 0.20049494035228801, \"returns\": 1.0, \"role\": \"CEO\"}, {\"gics_sector_name\": \"Materials\", \"symbol\": \"SHW\", \"DATE_OF_LAST_CHANGE\": \"2016-01-01T00:00:00\", \"avg_cash_incentive_percent\": 0.21673037191543035, \"returns\": 1.0746998255000981, \"role\": \"CEO\"}, {\"gics_sector_name\": \"Materials\", \"symbol\": \"SHW\", \"DATE_OF_LAST_CHANGE\": \"2016-12-31T00:00:00\", \"avg_cash_incentive_percent\": 0.27735214533881924, \"returns\": 3.353871630267643, \"role\": \"CEO\"}, {\"gics_sector_name\": \"Materials\", \"symbol\": \"SHW\", \"DATE_OF_LAST_CHANGE\": \"2015-12-31T00:00:00\", \"avg_cash_incentive_percent\": 0.282596067567029, \"returns\": 0.9891746684956562, \"role\": \"execuative\"}, {\"gics_sector_name\": \"Materials\", \"symbol\": \"SHW\", \"DATE_OF_LAST_CHANGE\": \"2015-12-31T00:00:00\", \"avg_cash_incentive_percent\": 0.282596067567029, \"returns\": 1.0746998255000981, \"role\": \"execuative\"}, {\"gics_sector_name\": \"Materials\", \"symbol\": \"SHW\", \"DATE_OF_LAST_CHANGE\": \"2016-12-31T00:00:00\", \"avg_cash_incentive_percent\": 0.5011907470801238, \"returns\": 1.0, \"role\": \"execuative\"}, {\"gics_sector_name\": \"Materials\", \"symbol\": \"SHW\", \"DATE_OF_LAST_CHANGE\": \"2017-01-01T00:00:00\", \"avg_cash_incentive_percent\": 0.46017249806625177, \"returns\": 1.2316526339559342, \"role\": \"execuative\"}, {\"gics_sector_name\": \"Materials\", \"symbol\": \"SHW\", \"DATE_OF_LAST_CHANGE\": \"2017-08-31T00:00:00\", \"avg_cash_incentive_percent\": 0.4170048955894435, \"returns\": 1.2706478086258075, \"role\": \"execuative\"}, {\"gics_sector_name\": \"Materials\", \"symbol\": \"SHW\", \"DATE_OF_LAST_CHANGE\": \"2019-03-01T00:00:00\", \"avg_cash_incentive_percent\": 0.43241944849820346, \"returns\": 2.192043424488113, \"role\": \"execuative\"}, {\"gics_sector_name\": \"Materials\", \"symbol\": \"SHW\", \"DATE_OF_LAST_CHANGE\": \"2021-11-01T00:00:00\", \"avg_cash_incentive_percent\": 0.3929545537747524, \"returns\": 0.8102372817603362, \"role\": \"execuative\"}, {\"gics_sector_name\": \"Materials\", \"symbol\": \"SHW\", \"DATE_OF_LAST_CHANGE\": \"2022-03-01T00:00:00\", \"avg_cash_incentive_percent\": 0.27150911640575903, \"returns\": 1.2066230801965259, \"role\": \"execuative\"}, {\"gics_sector_name\": \"Real Estate\", \"symbol\": \"AMT\", \"DATE_OF_LAST_CHANGE\": \"2003-10-10T00:00:00\", \"avg_cash_incentive_percent\": 0.17051895073768245, \"returns\": 1.9603692184207884, \"role\": \"CEO\"}, {\"gics_sector_name\": \"Real Estate\", \"symbol\": \"AMT\", \"DATE_OF_LAST_CHANGE\": \"2020-03-16T00:00:00\", \"avg_cash_incentive_percent\": 0.17129585038531406, \"returns\": 1.104867188699524, \"role\": \"CEO\"}, {\"gics_sector_name\": \"Real Estate\", \"symbol\": \"AMT\", \"DATE_OF_LAST_CHANGE\": \"2013-12-31T00:00:00\", \"avg_cash_incentive_percent\": 0.18634766173404893, \"returns\": 1.3358081669509378, \"role\": \"execuative\"}, {\"gics_sector_name\": \"Real Estate\", \"symbol\": \"AMT\", \"DATE_OF_LAST_CHANGE\": \"2017-07-01T00:00:00\", \"avg_cash_incentive_percent\": 0.20362875448230217, \"returns\": 1.1200240348505335, \"role\": \"execuative\"}, {\"gics_sector_name\": \"Real Estate\", \"symbol\": \"AMT\", \"DATE_OF_LAST_CHANGE\": \"2018-08-31T00:00:00\", \"avg_cash_incentive_percent\": 0.256761513220304, \"returns\": 1.0197156652360515, \"role\": \"execuative\"}, {\"gics_sector_name\": \"Real Estate\", \"symbol\": \"AMT\", \"DATE_OF_LAST_CHANGE\": \"2018-10-31T00:00:00\", \"avg_cash_incentive_percent\": 0.1869930465578567, \"returns\": 1.2849533079047744, \"role\": \"execuative\"}, {\"gics_sector_name\": \"Real Estate\", \"symbol\": \"AMT\", \"DATE_OF_LAST_CHANGE\": \"2020-03-16T00:00:00\", \"avg_cash_incentive_percent\": 0.2206106663358376, \"returns\": 1.359332616817647, \"role\": \"execuative\"}, {\"gics_sector_name\": \"Real Estate\", \"symbol\": \"AMT\", \"DATE_OF_LAST_CHANGE\": \"2020-06-14T00:00:00\", \"avg_cash_incentive_percent\": 0.230229129084837, \"returns\": 0.7175075301204819, \"role\": \"execuative\"}, {\"gics_sector_name\": \"Real Estate\", \"symbol\": \"AMT\", \"DATE_OF_LAST_CHANGE\": \"2023-11-01T00:00:00\", \"avg_cash_incentive_percent\": 0.24970948919098807, \"returns\": 1.1328120900456526, \"role\": \"execuative\"}, {\"gics_sector_name\": \"Real Estate\", \"symbol\": \"EQIX\", \"DATE_OF_LAST_CHANGE\": \"2007-04-02T00:00:00\", \"avg_cash_incentive_percent\": 0.07473784603437646, \"returns\": 1.9772336201191263, \"role\": \"CEO\"}, {\"gics_sector_name\": \"Real Estate\", \"symbol\": \"EQIX\", \"DATE_OF_LAST_CHANGE\": \"2018-09-12T00:00:00\", \"avg_cash_incentive_percent\": 0.018656890273480567, \"returns\": 1.7971839157406169, \"role\": \"CEO\"}, {\"gics_sector_name\": \"Real Estate\", \"symbol\": \"EQIX\", \"DATE_OF_LAST_CHANGE\": \"2013-08-14T00:00:00\", \"avg_cash_incentive_percent\": 0.13105684906246906, \"returns\": 1.9476726229869843, \"role\": \"execuative\"}, {\"gics_sector_name\": \"Real Estate\", \"symbol\": \"EQIX\", \"DATE_OF_LAST_CHANGE\": \"2017-07-19T00:00:00\", \"avg_cash_incentive_percent\": 0.1169361141526458, \"returns\": 1.0151776005799202, \"role\": \"execuative\"}, {\"gics_sector_name\": \"Real Estate\", \"symbol\": \"EQIX\", \"DATE_OF_LAST_CHANGE\": \"2018-09-12T00:00:00\", \"avg_cash_incentive_percent\": 0.13686512514502325, \"returns\": 1.3056634087561922, \"role\": \"execuative\"}, {\"gics_sector_name\": \"Real Estate\", \"symbol\": \"EQIX\", \"DATE_OF_LAST_CHANGE\": \"2019-12-31T00:00:00\", \"avg_cash_incentive_percent\": 4.303134325618903e-05, \"returns\": 1.1920802570412907, \"role\": \"execuative\"}, {\"gics_sector_name\": \"Real Estate\", \"symbol\": \"EQIX\", \"DATE_OF_LAST_CHANGE\": \"2022-08-01T00:00:00\", \"avg_cash_incentive_percent\": 3.2953067391019964e-05, \"returns\": 1.0865507304554773, \"role\": \"execuative\"}, {\"gics_sector_name\": \"Real Estate\", \"symbol\": \"EQIX\", \"DATE_OF_LAST_CHANGE\": \"2023-08-01T00:00:00\", \"avg_cash_incentive_percent\": 3.8599180869527845e-05, \"returns\": 1.062688024489365, \"role\": \"execuative\"}, {\"gics_sector_name\": \"Real Estate\", \"symbol\": \"PLD\", \"DATE_OF_LAST_CHANGE\": \"1997-11-01T00:00:00\", \"avg_cash_incentive_percent\": 0.08791191170059577, \"returns\": 3.0693069306930694, \"role\": \"CEO\"}, {\"gics_sector_name\": \"Real Estate\", \"symbol\": \"PLD\", \"DATE_OF_LAST_CHANGE\": \"2012-12-31T00:00:00\", \"avg_cash_incentive_percent\": 0.28122829338624306, \"returns\": 1.6495510016117891, \"role\": \"execuative\"}, {\"gics_sector_name\": \"Real Estate\", \"symbol\": \"PLD\", \"DATE_OF_LAST_CHANGE\": \"2019-03-13T00:00:00\", \"avg_cash_incentive_percent\": 0.2668912268136553, \"returns\": 2.314349525404802, \"role\": \"execuative\"}, {\"gics_sector_name\": \"Real Estate\", \"symbol\": \"PLD\", \"DATE_OF_LAST_CHANGE\": \"2022-04-01T00:00:00\", \"avg_cash_incentive_percent\": 0.28490845907564316, \"returns\": 0.7035585042219541, \"role\": \"execuative\"}, {\"gics_sector_name\": \"Real Estate\", \"symbol\": \"PLD\", \"DATE_OF_LAST_CHANGE\": \"2023-01-01T00:00:00\", \"avg_cash_incentive_percent\": 0.08175144339683865, \"returns\": 1.1427346763823403, \"role\": \"execuative\"}, {\"gics_sector_name\": \"Utilities\", \"symbol\": \"DUK\", \"DATE_OF_LAST_CHANGE\": \"2013-06-01T00:00:00\", \"avg_cash_incentive_percent\": 0.16420628179518057, \"returns\": 1.1545508625817966, \"role\": \"CEO\"}, {\"gics_sector_name\": \"Utilities\", \"symbol\": \"DUK\", \"DATE_OF_LAST_CHANGE\": \"2015-06-30T00:00:00\", \"avg_cash_incentive_percent\": 0.25621224594540154, \"returns\": 0.8629387269482451, \"role\": \"execuative\"}, {\"gics_sector_name\": \"Utilities\", \"symbol\": \"DUK\", \"DATE_OF_LAST_CHANGE\": \"2015-06-30T00:00:00\", \"avg_cash_incentive_percent\": 0.25621224594540154, \"returns\": 1.0897559630497726, \"role\": \"execuative\"}, {\"gics_sector_name\": \"Utilities\", \"symbol\": \"DUK\", \"DATE_OF_LAST_CHANGE\": \"2016-01-31T00:00:00\", \"avg_cash_incentive_percent\": 0.0, \"returns\": 1.0126518218623481, \"role\": \"execuative\"}, {\"gics_sector_name\": \"Utilities\", \"symbol\": \"DUK\", \"DATE_OF_LAST_CHANGE\": \"2016-09-30T00:00:00\", \"avg_cash_incentive_percent\": 0.3122895542013239, \"returns\": 1.2140179910044977, \"role\": \"execuative\"}, {\"gics_sector_name\": \"Utilities\", \"symbol\": \"DUK\", \"DATE_OF_LAST_CHANGE\": \"2019-10-01T00:00:00\", \"avg_cash_incentive_percent\": 0.3110786056894709, \"returns\": 1.0379746835443038, \"role\": \"execuative\"}, {\"gics_sector_name\": \"Utilities\", \"symbol\": \"DUK\", \"DATE_OF_LAST_CHANGE\": \"2021-05-01T00:00:00\", \"avg_cash_incentive_percent\": 0.3804814851849773, \"returns\": 1.0608764624231608, \"role\": \"execuative\"}, {\"gics_sector_name\": \"Utilities\", \"symbol\": \"DUK\", \"DATE_OF_LAST_CHANGE\": \"2022-09-01T00:00:00\", \"avg_cash_incentive_percent\": 0.2962864645394766, \"returns\": 0.9069158878504674, \"role\": \"execuative\"}, {\"gics_sector_name\": \"Utilities\", \"symbol\": \"NEE\", \"DATE_OF_LAST_CHANGE\": \"2012-07-01T00:00:00\", \"avg_cash_incentive_percent\": 0.24291844739670929, \"returns\": 3.00721717124379, \"role\": \"CEO\"}, {\"gics_sector_name\": \"Utilities\", \"symbol\": \"NEE\", \"DATE_OF_LAST_CHANGE\": \"2022-03-01T00:00:00\", \"avg_cash_incentive_percent\": 0.2789763267253094, \"returns\": 0.7572621867597558, \"role\": \"CEO\"}, {\"gics_sector_name\": \"Utilities\", \"symbol\": \"NEE\", \"DATE_OF_LAST_CHANGE\": \"2014-05-23T00:00:00\", \"avg_cash_incentive_percent\": 0.43836789356876704, \"returns\": 1.0712344174711783, \"role\": \"execuative\"}, {\"gics_sector_name\": \"Utilities\", \"symbol\": \"NEE\", \"DATE_OF_LAST_CHANGE\": \"2016-03-04T00:00:00\", \"avg_cash_incentive_percent\": 0.34750404733512197, \"returns\": 1.6410884591827806, \"role\": \"execuative\"}, {\"gics_sector_name\": \"Utilities\", \"symbol\": \"NEE\", \"DATE_OF_LAST_CHANGE\": \"2019-03-01T00:00:00\", \"avg_cash_incentive_percent\": 0.2693206649911249, \"returns\": 1.8278950735764554, \"role\": \"execuative\"}, {\"gics_sector_name\": \"Utilities\", \"symbol\": \"NEE\", \"DATE_OF_LAST_CHANGE\": \"2022-03-31T00:00:00\", \"avg_cash_incentive_percent\": 0.3125612013962521, \"returns\": 0.8613930696534827, \"role\": \"execuative\"}, {\"gics_sector_name\": \"Utilities\", \"symbol\": \"NEE\", \"DATE_OF_LAST_CHANGE\": \"2023-03-01T00:00:00\", \"avg_cash_incentive_percent\": 0.2758180811612643, \"returns\": 0.8227007991331438, \"role\": \"execuative\"}, {\"gics_sector_name\": \"Utilities\", \"symbol\": \"SO\", \"DATE_OF_LAST_CHANGE\": \"2010-12-01T00:00:00\", \"avg_cash_incentive_percent\": 0.1931847240882858, \"returns\": 1.4071298359327526, \"role\": \"CEO\"}, {\"gics_sector_name\": \"Utilities\", \"symbol\": \"SO\", \"DATE_OF_LAST_CHANGE\": \"2023-05-24T00:00:00\", \"avg_cash_incentive_percent\": 0.2088121782915717, \"returns\": 1.0093565567871023, \"role\": \"CEO\"}, {\"gics_sector_name\": \"Utilities\", \"symbol\": \"SO\", \"DATE_OF_LAST_CHANGE\": \"2014-03-01T00:00:00\", \"avg_cash_incentive_percent\": 0.442692472174558, \"returns\": 1.066234555398015, \"role\": \"execuative\"}, {\"gics_sector_name\": \"Utilities\", \"symbol\": \"SO\", \"DATE_OF_LAST_CHANGE\": \"2016-07-31T00:00:00\", \"avg_cash_incentive_percent\": 0.34317936119805154, \"returns\": 0.8396656534954408, \"role\": \"execuative\"}, {\"gics_sector_name\": \"Utilities\", \"symbol\": \"SO\", \"DATE_OF_LAST_CHANGE\": \"2018-06-01T00:00:00\", \"avg_cash_incentive_percent\": 0.35708695995835543, \"returns\": 1.4993212669683256, \"role\": \"execuative\"}, {\"gics_sector_name\": \"Utilities\", \"symbol\": \"SO\", \"DATE_OF_LAST_CHANGE\": \"2021-09-01T00:00:00\", \"avg_cash_incentive_percent\": 0.3641167415898245, \"returns\": 1.0808812433982193, \"role\": \"execuative\"}, {\"gics_sector_name\": \"Utilities\", \"symbol\": \"SO\", \"DATE_OF_LAST_CHANGE\": \"2022-12-31T00:00:00\", \"avg_cash_incentive_percent\": 0.4337074304567369, \"returns\": 0.9789194471590117, \"role\": \"execuative\"}]}}, {\"mode\": \"vega-lite\"});\n",
              "</script>"
            ],
            "text/plain": [
              "alt.LayerChart(...)"
            ]
          },
          "execution_count": 11,
          "metadata": {},
          "output_type": "execute_result"
        }
      ],
      "source": [
        "plot_data(df,-1)"
      ]
    },
    {
      "cell_type": "code",
      "execution_count": null,
      "metadata": {
        "colab": {
          "base_uri": "https://localhost:8080/",
          "height": 510
        },
        "id": "BtULUXIN6bwl",
        "outputId": "4bd297b1-94ba-4508-89e1-60fdcbdf662b"
      },
      "outputs": [
        {
          "name": "stderr",
          "output_type": "stream",
          "text": [
            "/usr/local/lib/python3.10/dist-packages/altair/utils/core.py:384: FutureWarning: the convert_dtype parameter is deprecated and will be removed in a future version.  Do ``ser.astype(object).apply()`` instead if you want ``convert_dtype=False``.\n",
            "  col = df[col_name].apply(to_list_if_array, convert_dtype=False)\n",
            "/usr/local/lib/python3.10/dist-packages/altair/utils/core.py:384: FutureWarning: the convert_dtype parameter is deprecated and will be removed in a future version.  Do ``ser.astype(object).apply()`` instead if you want ``convert_dtype=False``.\n",
            "  col = df[col_name].apply(to_list_if_array, convert_dtype=False)\n",
            "/usr/local/lib/python3.10/dist-packages/altair/utils/core.py:384: FutureWarning: the convert_dtype parameter is deprecated and will be removed in a future version.  Do ``ser.astype(object).apply()`` instead if you want ``convert_dtype=False``.\n",
            "  col = df[col_name].apply(to_list_if_array, convert_dtype=False)\n"
          ]
        },
        {
          "data": {
            "text/html": [
              "\n",
              "<div id=\"altair-viz-e7255878d35647aabe2bb1d67e80b6e3\"></div>\n",
              "<script type=\"text/javascript\">\n",
              "  var VEGA_DEBUG = (typeof VEGA_DEBUG == \"undefined\") ? {} : VEGA_DEBUG;\n",
              "  (function(spec, embedOpt){\n",
              "    let outputDiv = document.currentScript.previousElementSibling;\n",
              "    if (outputDiv.id !== \"altair-viz-e7255878d35647aabe2bb1d67e80b6e3\") {\n",
              "      outputDiv = document.getElementById(\"altair-viz-e7255878d35647aabe2bb1d67e80b6e3\");\n",
              "    }\n",
              "    const paths = {\n",
              "      \"vega\": \"https://cdn.jsdelivr.net/npm//vega@5?noext\",\n",
              "      \"vega-lib\": \"https://cdn.jsdelivr.net/npm//vega-lib?noext\",\n",
              "      \"vega-lite\": \"https://cdn.jsdelivr.net/npm//vega-lite@4.17.0?noext\",\n",
              "      \"vega-embed\": \"https://cdn.jsdelivr.net/npm//vega-embed@6?noext\",\n",
              "    };\n",
              "\n",
              "    function maybeLoadScript(lib, version) {\n",
              "      var key = `${lib.replace(\"-\", \"\")}_version`;\n",
              "      return (VEGA_DEBUG[key] == version) ?\n",
              "        Promise.resolve(paths[lib]) :\n",
              "        new Promise(function(resolve, reject) {\n",
              "          var s = document.createElement('script');\n",
              "          document.getElementsByTagName(\"head\")[0].appendChild(s);\n",
              "          s.async = true;\n",
              "          s.onload = () => {\n",
              "            VEGA_DEBUG[key] = version;\n",
              "            return resolve(paths[lib]);\n",
              "          };\n",
              "          s.onerror = () => reject(`Error loading script: ${paths[lib]}`);\n",
              "          s.src = paths[lib];\n",
              "        });\n",
              "    }\n",
              "\n",
              "    function showError(err) {\n",
              "      outputDiv.innerHTML = `<div class=\"error\" style=\"color:red;\">${err}</div>`;\n",
              "      throw err;\n",
              "    }\n",
              "\n",
              "    function displayChart(vegaEmbed) {\n",
              "      vegaEmbed(outputDiv, spec, embedOpt)\n",
              "        .catch(err => showError(`Javascript Error: ${err.message}<br>This usually means there's a typo in your chart specification. See the javascript console for the full traceback.`));\n",
              "    }\n",
              "\n",
              "    if(typeof define === \"function\" && define.amd) {\n",
              "      requirejs.config({paths});\n",
              "      require([\"vega-embed\"], displayChart, err => showError(`Error loading script: ${err.message}`));\n",
              "    } else {\n",
              "      maybeLoadScript(\"vega\", \"5\")\n",
              "        .then(() => maybeLoadScript(\"vega-lite\", \"4.17.0\"))\n",
              "        .then(() => maybeLoadScript(\"vega-embed\", \"6\"))\n",
              "        .catch(showError)\n",
              "        .then(() => displayChart(vegaEmbed));\n",
              "    }\n",
              "  })({\"config\": {\"view\": {\"continuousWidth\": 400, \"continuousHeight\": 300}}, \"layer\": [{\"data\": {\"name\": \"data-d764767e7dd3b10b2c76c1355ce10ef3\"}, \"mark\": \"rule\", \"encoding\": {\"y\": {\"field\": \"y\", \"type\": \"quantitative\"}}}, {\"data\": {\"name\": \"data-926bf9c3420e3046286affe11a6055a3\"}, \"mark\": \"point\", \"encoding\": {\"color\": {\"field\": \"symbol\", \"type\": \"nominal\"}, \"shape\": {\"field\": \"role\", \"type\": \"nominal\"}, \"tooltip\": [{\"field\": \"avg_cash_incentive_percent\", \"type\": \"quantitative\"}, {\"field\": \"returns\", \"type\": \"quantitative\"}, {\"field\": \"gics_sector_name\", \"type\": \"nominal\"}, {\"field\": \"symbol\", \"type\": \"nominal\"}, {\"field\": \"role\", \"type\": \"nominal\"}], \"x\": {\"field\": \"avg_cash_incentive_percent\", \"type\": \"quantitative\"}, \"y\": {\"field\": \"returns\", \"type\": \"quantitative\"}}, \"selection\": {\"selector002\": {\"type\": \"interval\", \"bind\": \"scales\", \"encodings\": [\"x\", \"y\"]}}, \"title\": \"Information Technology\"}], \"$schema\": \"https://vega.github.io/schema/vega-lite/v4.17.0.json\", \"datasets\": {\"data-d764767e7dd3b10b2c76c1355ce10ef3\": [{\"y\": 1}], \"data-926bf9c3420e3046286affe11a6055a3\": [{\"gics_sector_name\": \"Information Technology\", \"symbol\": \"AAPL\", \"DATE_OF_LAST_CHANGE\": \"2011-01-01T00:00:00\", \"avg_cash_incentive_percent\": 0.714824814462077, \"returns\": 7.043866388614496, \"role\": \"CEO\"}, {\"gics_sector_name\": \"Information Technology\", \"symbol\": \"AAPL\", \"DATE_OF_LAST_CHANGE\": \"2014-05-29T00:00:00\", \"avg_cash_incentive_percent\": 0.1320495661714869, \"returns\": 0.9627556433615045, \"role\": \"execuative\"}, {\"gics_sector_name\": \"Information Technology\", \"symbol\": \"AAPL\", \"DATE_OF_LAST_CHANGE\": \"2015-12-31T00:00:00\", \"avg_cash_incentive_percent\": 0.146349181049471, \"returns\": 1.6164924947748431, \"role\": \"execuative\"}, {\"gics_sector_name\": \"Information Technology\", \"symbol\": \"AAPL\", \"DATE_OF_LAST_CHANGE\": \"2017-11-13T00:00:00\", \"avg_cash_incentive_percent\": 0.1778065646605963, \"returns\": 1.001528045512248, \"role\": \"execuative\"}, {\"gics_sector_name\": \"Information Technology\", \"symbol\": \"AAPL\", \"DATE_OF_LAST_CHANGE\": \"2019-02-05T00:00:00\", \"avg_cash_incentive_percent\": 0.16493738195734578, \"returns\": 1.1962772574701313, \"role\": \"execuative\"}, {\"gics_sector_name\": \"Information Technology\", \"symbol\": \"AAPL\", \"DATE_OF_LAST_CHANGE\": \"2019-04-15T00:00:00\", \"avg_cash_incentive_percent\": 0.09032598663845258, \"returns\": 3.7776905719611498, \"role\": \"execuative\"}, {\"gics_sector_name\": \"Information Technology\", \"symbol\": \"MSFT\", \"DATE_OF_LAST_CHANGE\": \"2014-02-04T00:00:00\", \"avg_cash_incentive_percent\": 0.26398763452288915, \"returns\": 8.041916167664672, \"role\": \"CEO\"}, {\"gics_sector_name\": \"Information Technology\", \"symbol\": \"MSFT\", \"DATE_OF_LAST_CHANGE\": \"2014-09-01T00:00:00\", \"avg_cash_incentive_percent\": 0.2631212312700274, \"returns\": 0.9298545765611633, \"role\": \"execuative\"}, {\"gics_sector_name\": \"Information Technology\", \"symbol\": \"MSFT\", \"DATE_OF_LAST_CHANGE\": \"2015-09-11T00:00:00\", \"avg_cash_incentive_percent\": 0.2765320193356196, \"returns\": 1.202851885924563, \"role\": \"execuative\"}, {\"gics_sector_name\": \"Information Technology\", \"symbol\": \"MSFT\", \"DATE_OF_LAST_CHANGE\": \"2016-07-07T00:00:00\", \"avg_cash_incentive_percent\": 0.2910517914377126, \"returns\": 4.960420650095602, \"role\": \"execuative\"}, {\"gics_sector_name\": \"Information Technology\", \"symbol\": \"MSFT\", \"DATE_OF_LAST_CHANGE\": \"2021-06-16T00:00:00\", \"avg_cash_incentive_percent\": 0.24975940410458683, \"returns\": 1.155880198897583, \"role\": \"execuative\"}, {\"gics_sector_name\": \"Information Technology\", \"symbol\": \"MSFT\", \"DATE_OF_LAST_CHANGE\": \"2021-09-15T00:00:00\", \"avg_cash_incentive_percent\": 0.18594163488572027, \"returns\": 1.25401007103078, \"role\": \"execuative\"}, {\"gics_sector_name\": \"Information Technology\", \"symbol\": \"NVDA\", \"DATE_OF_LAST_CHANGE\": \"1993-04-02T00:00:00\", \"avg_cash_incentive_percent\": 0.13302542595147576, \"returns\": 98.39459566858733, \"role\": \"CEO\"}, {\"gics_sector_name\": \"Information Technology\", \"symbol\": \"NVDA\", \"DATE_OF_LAST_CHANGE\": \"2014-01-14T00:00:00\", \"avg_cash_incentive_percent\": 0.3200067045826518, \"returns\": 5.121200079475463, \"role\": \"execuative\"}, {\"gics_sector_name\": \"Information Technology\", \"symbol\": \"NVDA\", \"DATE_OF_LAST_CHANGE\": \"2016-12-31T00:00:00\", \"avg_cash_incentive_percent\": 0.2113033585588848, \"returns\": 1.0, \"role\": \"execuative\"}, {\"gics_sector_name\": \"Information Technology\", \"symbol\": \"NVDA\", \"DATE_OF_LAST_CHANGE\": \"2017-01-01T00:00:00\", \"avg_cash_incentive_percent\": 0.18636990750654292, \"returns\": 2.2942774005819593, \"role\": \"execuative\"}, {\"gics_sector_name\": \"Information Technology\", \"symbol\": \"NVDA\", \"DATE_OF_LAST_CHANGE\": \"2018-02-28T00:00:00\", \"avg_cash_incentive_percent\": 0.0924292569251546, \"returns\": 8.374397564893886, \"role\": \"execuative\"}]}}, {\"mode\": \"vega-lite\"});\n",
              "</script>"
            ],
            "text/plain": [
              "alt.LayerChart(...)"
            ]
          },
          "execution_count": 12,
          "metadata": {},
          "output_type": "execute_result"
        }
      ],
      "source": [
        "plot_data(df,0)"
      ]
    },
    {
      "cell_type": "code",
      "execution_count": null,
      "metadata": {
        "colab": {
          "base_uri": "https://localhost:8080/",
          "height": 510
        },
        "id": "NYZIh9Kk9zGr",
        "outputId": "b38cd124-f5b6-4283-d3d5-08284fd09b3a"
      },
      "outputs": [
        {
          "name": "stderr",
          "output_type": "stream",
          "text": [
            "/usr/local/lib/python3.10/dist-packages/altair/utils/core.py:384: FutureWarning: the convert_dtype parameter is deprecated and will be removed in a future version.  Do ``ser.astype(object).apply()`` instead if you want ``convert_dtype=False``.\n",
            "  col = df[col_name].apply(to_list_if_array, convert_dtype=False)\n",
            "/usr/local/lib/python3.10/dist-packages/altair/utils/core.py:384: FutureWarning: the convert_dtype parameter is deprecated and will be removed in a future version.  Do ``ser.astype(object).apply()`` instead if you want ``convert_dtype=False``.\n",
            "  col = df[col_name].apply(to_list_if_array, convert_dtype=False)\n",
            "/usr/local/lib/python3.10/dist-packages/altair/utils/core.py:384: FutureWarning: the convert_dtype parameter is deprecated and will be removed in a future version.  Do ``ser.astype(object).apply()`` instead if you want ``convert_dtype=False``.\n",
            "  col = df[col_name].apply(to_list_if_array, convert_dtype=False)\n"
          ]
        },
        {
          "data": {
            "text/html": [
              "\n",
              "<div id=\"altair-viz-2743865a7fc14f23840b4fe0e1de903f\"></div>\n",
              "<script type=\"text/javascript\">\n",
              "  var VEGA_DEBUG = (typeof VEGA_DEBUG == \"undefined\") ? {} : VEGA_DEBUG;\n",
              "  (function(spec, embedOpt){\n",
              "    let outputDiv = document.currentScript.previousElementSibling;\n",
              "    if (outputDiv.id !== \"altair-viz-2743865a7fc14f23840b4fe0e1de903f\") {\n",
              "      outputDiv = document.getElementById(\"altair-viz-2743865a7fc14f23840b4fe0e1de903f\");\n",
              "    }\n",
              "    const paths = {\n",
              "      \"vega\": \"https://cdn.jsdelivr.net/npm//vega@5?noext\",\n",
              "      \"vega-lib\": \"https://cdn.jsdelivr.net/npm//vega-lib?noext\",\n",
              "      \"vega-lite\": \"https://cdn.jsdelivr.net/npm//vega-lite@4.17.0?noext\",\n",
              "      \"vega-embed\": \"https://cdn.jsdelivr.net/npm//vega-embed@6?noext\",\n",
              "    };\n",
              "\n",
              "    function maybeLoadScript(lib, version) {\n",
              "      var key = `${lib.replace(\"-\", \"\")}_version`;\n",
              "      return (VEGA_DEBUG[key] == version) ?\n",
              "        Promise.resolve(paths[lib]) :\n",
              "        new Promise(function(resolve, reject) {\n",
              "          var s = document.createElement('script');\n",
              "          document.getElementsByTagName(\"head\")[0].appendChild(s);\n",
              "          s.async = true;\n",
              "          s.onload = () => {\n",
              "            VEGA_DEBUG[key] = version;\n",
              "            return resolve(paths[lib]);\n",
              "          };\n",
              "          s.onerror = () => reject(`Error loading script: ${paths[lib]}`);\n",
              "          s.src = paths[lib];\n",
              "        });\n",
              "    }\n",
              "\n",
              "    function showError(err) {\n",
              "      outputDiv.innerHTML = `<div class=\"error\" style=\"color:red;\">${err}</div>`;\n",
              "      throw err;\n",
              "    }\n",
              "\n",
              "    function displayChart(vegaEmbed) {\n",
              "      vegaEmbed(outputDiv, spec, embedOpt)\n",
              "        .catch(err => showError(`Javascript Error: ${err.message}<br>This usually means there's a typo in your chart specification. See the javascript console for the full traceback.`));\n",
              "    }\n",
              "\n",
              "    if(typeof define === \"function\" && define.amd) {\n",
              "      requirejs.config({paths});\n",
              "      require([\"vega-embed\"], displayChart, err => showError(`Error loading script: ${err.message}`));\n",
              "    } else {\n",
              "      maybeLoadScript(\"vega\", \"5\")\n",
              "        .then(() => maybeLoadScript(\"vega-lite\", \"4.17.0\"))\n",
              "        .then(() => maybeLoadScript(\"vega-embed\", \"6\"))\n",
              "        .catch(showError)\n",
              "        .then(() => displayChart(vegaEmbed));\n",
              "    }\n",
              "  })({\"config\": {\"view\": {\"continuousWidth\": 400, \"continuousHeight\": 300}}, \"layer\": [{\"data\": {\"name\": \"data-d764767e7dd3b10b2c76c1355ce10ef3\"}, \"mark\": \"rule\", \"encoding\": {\"y\": {\"field\": \"y\", \"type\": \"quantitative\"}}}, {\"data\": {\"name\": \"data-8dff9871cdb43157201ef9efb396d8b0\"}, \"mark\": \"point\", \"encoding\": {\"color\": {\"field\": \"symbol\", \"type\": \"nominal\"}, \"shape\": {\"field\": \"role\", \"type\": \"nominal\"}, \"tooltip\": [{\"field\": \"avg_cash_incentive_percent\", \"type\": \"quantitative\"}, {\"field\": \"returns\", \"type\": \"quantitative\"}, {\"field\": \"gics_sector_name\", \"type\": \"nominal\"}, {\"field\": \"symbol\", \"type\": \"nominal\"}, {\"field\": \"role\", \"type\": \"nominal\"}], \"x\": {\"field\": \"avg_cash_incentive_percent\", \"type\": \"quantitative\"}, \"y\": {\"field\": \"returns\", \"type\": \"quantitative\"}}, \"selection\": {\"selector003\": {\"type\": \"interval\", \"bind\": \"scales\", \"encodings\": [\"x\", \"y\"]}}, \"title\": \"Real Estate\"}], \"$schema\": \"https://vega.github.io/schema/vega-lite/v4.17.0.json\", \"datasets\": {\"data-d764767e7dd3b10b2c76c1355ce10ef3\": [{\"y\": 1}], \"data-8dff9871cdb43157201ef9efb396d8b0\": [{\"gics_sector_name\": \"Real Estate\", \"symbol\": \"AMT\", \"DATE_OF_LAST_CHANGE\": \"2003-10-10T00:00:00\", \"avg_cash_incentive_percent\": 0.17051895073768245, \"returns\": 1.9603692184207884, \"role\": \"CEO\"}, {\"gics_sector_name\": \"Real Estate\", \"symbol\": \"AMT\", \"DATE_OF_LAST_CHANGE\": \"2020-03-16T00:00:00\", \"avg_cash_incentive_percent\": 0.17129585038531406, \"returns\": 1.104867188699524, \"role\": \"CEO\"}, {\"gics_sector_name\": \"Real Estate\", \"symbol\": \"AMT\", \"DATE_OF_LAST_CHANGE\": \"2013-12-31T00:00:00\", \"avg_cash_incentive_percent\": 0.18634766173404893, \"returns\": 1.3358081669509378, \"role\": \"execuative\"}, {\"gics_sector_name\": \"Real Estate\", \"symbol\": \"AMT\", \"DATE_OF_LAST_CHANGE\": \"2017-07-01T00:00:00\", \"avg_cash_incentive_percent\": 0.20362875448230217, \"returns\": 1.1200240348505335, \"role\": \"execuative\"}, {\"gics_sector_name\": \"Real Estate\", \"symbol\": \"AMT\", \"DATE_OF_LAST_CHANGE\": \"2018-08-31T00:00:00\", \"avg_cash_incentive_percent\": 0.256761513220304, \"returns\": 1.0197156652360515, \"role\": \"execuative\"}, {\"gics_sector_name\": \"Real Estate\", \"symbol\": \"AMT\", \"DATE_OF_LAST_CHANGE\": \"2018-10-31T00:00:00\", \"avg_cash_incentive_percent\": 0.1869930465578567, \"returns\": 1.2849533079047744, \"role\": \"execuative\"}, {\"gics_sector_name\": \"Real Estate\", \"symbol\": \"AMT\", \"DATE_OF_LAST_CHANGE\": \"2020-03-16T00:00:00\", \"avg_cash_incentive_percent\": 0.2206106663358376, \"returns\": 1.359332616817647, \"role\": \"execuative\"}, {\"gics_sector_name\": \"Real Estate\", \"symbol\": \"AMT\", \"DATE_OF_LAST_CHANGE\": \"2020-06-14T00:00:00\", \"avg_cash_incentive_percent\": 0.230229129084837, \"returns\": 0.7175075301204819, \"role\": \"execuative\"}, {\"gics_sector_name\": \"Real Estate\", \"symbol\": \"AMT\", \"DATE_OF_LAST_CHANGE\": \"2023-11-01T00:00:00\", \"avg_cash_incentive_percent\": 0.24970948919098807, \"returns\": 1.1328120900456526, \"role\": \"execuative\"}, {\"gics_sector_name\": \"Real Estate\", \"symbol\": \"EQIX\", \"DATE_OF_LAST_CHANGE\": \"2007-04-02T00:00:00\", \"avg_cash_incentive_percent\": 0.07473784603437646, \"returns\": 1.9772336201191263, \"role\": \"CEO\"}, {\"gics_sector_name\": \"Real Estate\", \"symbol\": \"EQIX\", \"DATE_OF_LAST_CHANGE\": \"2018-09-12T00:00:00\", \"avg_cash_incentive_percent\": 0.018656890273480567, \"returns\": 1.7971839157406169, \"role\": \"CEO\"}, {\"gics_sector_name\": \"Real Estate\", \"symbol\": \"EQIX\", \"DATE_OF_LAST_CHANGE\": \"2013-08-14T00:00:00\", \"avg_cash_incentive_percent\": 0.13105684906246906, \"returns\": 1.9476726229869843, \"role\": \"execuative\"}, {\"gics_sector_name\": \"Real Estate\", \"symbol\": \"EQIX\", \"DATE_OF_LAST_CHANGE\": \"2017-07-19T00:00:00\", \"avg_cash_incentive_percent\": 0.1169361141526458, \"returns\": 1.0151776005799202, \"role\": \"execuative\"}, {\"gics_sector_name\": \"Real Estate\", \"symbol\": \"EQIX\", \"DATE_OF_LAST_CHANGE\": \"2018-09-12T00:00:00\", \"avg_cash_incentive_percent\": 0.13686512514502325, \"returns\": 1.3056634087561922, \"role\": \"execuative\"}, {\"gics_sector_name\": \"Real Estate\", \"symbol\": \"EQIX\", \"DATE_OF_LAST_CHANGE\": \"2019-12-31T00:00:00\", \"avg_cash_incentive_percent\": 4.303134325618903e-05, \"returns\": 1.1920802570412907, \"role\": \"execuative\"}, {\"gics_sector_name\": \"Real Estate\", \"symbol\": \"EQIX\", \"DATE_OF_LAST_CHANGE\": \"2022-08-01T00:00:00\", \"avg_cash_incentive_percent\": 3.2953067391019964e-05, \"returns\": 1.0865507304554773, \"role\": \"execuative\"}, {\"gics_sector_name\": \"Real Estate\", \"symbol\": \"EQIX\", \"DATE_OF_LAST_CHANGE\": \"2023-08-01T00:00:00\", \"avg_cash_incentive_percent\": 3.8599180869527845e-05, \"returns\": 1.062688024489365, \"role\": \"execuative\"}, {\"gics_sector_name\": \"Real Estate\", \"symbol\": \"PLD\", \"DATE_OF_LAST_CHANGE\": \"1997-11-01T00:00:00\", \"avg_cash_incentive_percent\": 0.08791191170059577, \"returns\": 3.0693069306930694, \"role\": \"CEO\"}, {\"gics_sector_name\": \"Real Estate\", \"symbol\": \"PLD\", \"DATE_OF_LAST_CHANGE\": \"2012-12-31T00:00:00\", \"avg_cash_incentive_percent\": 0.28122829338624306, \"returns\": 1.6495510016117891, \"role\": \"execuative\"}, {\"gics_sector_name\": \"Real Estate\", \"symbol\": \"PLD\", \"DATE_OF_LAST_CHANGE\": \"2019-03-13T00:00:00\", \"avg_cash_incentive_percent\": 0.2668912268136553, \"returns\": 2.314349525404802, \"role\": \"execuative\"}, {\"gics_sector_name\": \"Real Estate\", \"symbol\": \"PLD\", \"DATE_OF_LAST_CHANGE\": \"2022-04-01T00:00:00\", \"avg_cash_incentive_percent\": 0.28490845907564316, \"returns\": 0.7035585042219541, \"role\": \"execuative\"}, {\"gics_sector_name\": \"Real Estate\", \"symbol\": \"PLD\", \"DATE_OF_LAST_CHANGE\": \"2023-01-01T00:00:00\", \"avg_cash_incentive_percent\": 0.08175144339683865, \"returns\": 1.1427346763823403, \"role\": \"execuative\"}]}}, {\"mode\": \"vega-lite\"});\n",
              "</script>"
            ],
            "text/plain": [
              "alt.LayerChart(...)"
            ]
          },
          "execution_count": 13,
          "metadata": {},
          "output_type": "execute_result"
        }
      ],
      "source": [
        "plot_data(df,1)"
      ]
    },
    {
      "cell_type": "code",
      "execution_count": null,
      "metadata": {
        "colab": {
          "base_uri": "https://localhost:8080/",
          "height": 510
        },
        "id": "ChAkxVf7-oz3",
        "outputId": "9732a673-8168-491c-aa39-4c6967e9b5f8"
      },
      "outputs": [
        {
          "name": "stderr",
          "output_type": "stream",
          "text": [
            "/usr/local/lib/python3.10/dist-packages/altair/utils/core.py:384: FutureWarning: the convert_dtype parameter is deprecated and will be removed in a future version.  Do ``ser.astype(object).apply()`` instead if you want ``convert_dtype=False``.\n",
            "  col = df[col_name].apply(to_list_if_array, convert_dtype=False)\n",
            "/usr/local/lib/python3.10/dist-packages/altair/utils/core.py:384: FutureWarning: the convert_dtype parameter is deprecated and will be removed in a future version.  Do ``ser.astype(object).apply()`` instead if you want ``convert_dtype=False``.\n",
            "  col = df[col_name].apply(to_list_if_array, convert_dtype=False)\n",
            "/usr/local/lib/python3.10/dist-packages/altair/utils/core.py:384: FutureWarning: the convert_dtype parameter is deprecated and will be removed in a future version.  Do ``ser.astype(object).apply()`` instead if you want ``convert_dtype=False``.\n",
            "  col = df[col_name].apply(to_list_if_array, convert_dtype=False)\n"
          ]
        },
        {
          "data": {
            "text/html": [
              "\n",
              "<div id=\"altair-viz-688ba7abb4354bb9add8b564dfedb0fd\"></div>\n",
              "<script type=\"text/javascript\">\n",
              "  var VEGA_DEBUG = (typeof VEGA_DEBUG == \"undefined\") ? {} : VEGA_DEBUG;\n",
              "  (function(spec, embedOpt){\n",
              "    let outputDiv = document.currentScript.previousElementSibling;\n",
              "    if (outputDiv.id !== \"altair-viz-688ba7abb4354bb9add8b564dfedb0fd\") {\n",
              "      outputDiv = document.getElementById(\"altair-viz-688ba7abb4354bb9add8b564dfedb0fd\");\n",
              "    }\n",
              "    const paths = {\n",
              "      \"vega\": \"https://cdn.jsdelivr.net/npm//vega@5?noext\",\n",
              "      \"vega-lib\": \"https://cdn.jsdelivr.net/npm//vega-lib?noext\",\n",
              "      \"vega-lite\": \"https://cdn.jsdelivr.net/npm//vega-lite@4.17.0?noext\",\n",
              "      \"vega-embed\": \"https://cdn.jsdelivr.net/npm//vega-embed@6?noext\",\n",
              "    };\n",
              "\n",
              "    function maybeLoadScript(lib, version) {\n",
              "      var key = `${lib.replace(\"-\", \"\")}_version`;\n",
              "      return (VEGA_DEBUG[key] == version) ?\n",
              "        Promise.resolve(paths[lib]) :\n",
              "        new Promise(function(resolve, reject) {\n",
              "          var s = document.createElement('script');\n",
              "          document.getElementsByTagName(\"head\")[0].appendChild(s);\n",
              "          s.async = true;\n",
              "          s.onload = () => {\n",
              "            VEGA_DEBUG[key] = version;\n",
              "            return resolve(paths[lib]);\n",
              "          };\n",
              "          s.onerror = () => reject(`Error loading script: ${paths[lib]}`);\n",
              "          s.src = paths[lib];\n",
              "        });\n",
              "    }\n",
              "\n",
              "    function showError(err) {\n",
              "      outputDiv.innerHTML = `<div class=\"error\" style=\"color:red;\">${err}</div>`;\n",
              "      throw err;\n",
              "    }\n",
              "\n",
              "    function displayChart(vegaEmbed) {\n",
              "      vegaEmbed(outputDiv, spec, embedOpt)\n",
              "        .catch(err => showError(`Javascript Error: ${err.message}<br>This usually means there's a typo in your chart specification. See the javascript console for the full traceback.`));\n",
              "    }\n",
              "\n",
              "    if(typeof define === \"function\" && define.amd) {\n",
              "      requirejs.config({paths});\n",
              "      require([\"vega-embed\"], displayChart, err => showError(`Error loading script: ${err.message}`));\n",
              "    } else {\n",
              "      maybeLoadScript(\"vega\", \"5\")\n",
              "        .then(() => maybeLoadScript(\"vega-lite\", \"4.17.0\"))\n",
              "        .then(() => maybeLoadScript(\"vega-embed\", \"6\"))\n",
              "        .catch(showError)\n",
              "        .then(() => displayChart(vegaEmbed));\n",
              "    }\n",
              "  })({\"config\": {\"view\": {\"continuousWidth\": 400, \"continuousHeight\": 300}}, \"layer\": [{\"data\": {\"name\": \"data-d764767e7dd3b10b2c76c1355ce10ef3\"}, \"mark\": \"rule\", \"encoding\": {\"y\": {\"field\": \"y\", \"type\": \"quantitative\"}}}, {\"data\": {\"name\": \"data-e23f274162ac2896ba9454c794a33180\"}, \"mark\": \"point\", \"encoding\": {\"color\": {\"field\": \"symbol\", \"type\": \"nominal\"}, \"shape\": {\"field\": \"role\", \"type\": \"nominal\"}, \"tooltip\": [{\"field\": \"avg_cash_incentive_percent\", \"type\": \"quantitative\"}, {\"field\": \"returns\", \"type\": \"quantitative\"}, {\"field\": \"gics_sector_name\", \"type\": \"nominal\"}, {\"field\": \"symbol\", \"type\": \"nominal\"}, {\"field\": \"role\", \"type\": \"nominal\"}], \"x\": {\"field\": \"avg_cash_incentive_percent\", \"type\": \"quantitative\"}, \"y\": {\"field\": \"returns\", \"type\": \"quantitative\"}}, \"selection\": {\"selector004\": {\"type\": \"interval\", \"bind\": \"scales\", \"encodings\": [\"x\", \"y\"]}}, \"title\": \"Consumer Discretionary\"}], \"$schema\": \"https://vega.github.io/schema/vega-lite/v4.17.0.json\", \"datasets\": {\"data-d764767e7dd3b10b2c76c1355ce10ef3\": [{\"y\": 1}], \"data-e23f274162ac2896ba9454c794a33180\": [{\"gics_sector_name\": \"Consumer Discretionary\", \"symbol\": \"AMZN\", \"DATE_OF_LAST_CHANGE\": \"1996-05-01T00:00:00\", \"avg_cash_incentive_percent\": null, \"returns\": 12.055425904317387, \"role\": \"CEO\"}, {\"gics_sector_name\": \"Consumer Discretionary\", \"symbol\": \"AMZN\", \"DATE_OF_LAST_CHANGE\": \"2021-07-05T00:00:00\", \"avg_cash_incentive_percent\": 0.0, \"returns\": 0.8170266767759871, \"role\": \"CEO\"}, {\"gics_sector_name\": \"Consumer Discretionary\", \"symbol\": \"AMZN\", \"DATE_OF_LAST_CHANGE\": \"2015-06-30T00:00:00\", \"avg_cash_incentive_percent\": 0.0, \"returns\": 1.418773499286918, \"role\": \"execuative\"}, {\"gics_sector_name\": \"Consumer Discretionary\", \"symbol\": \"AMZN\", \"DATE_OF_LAST_CHANGE\": \"2015-06-30T00:00:00\", \"avg_cash_incentive_percent\": 0.0, \"returns\": 1.358402631819428, \"role\": \"execuative\"}, {\"gics_sector_name\": \"Consumer Discretionary\", \"symbol\": \"AMZN\", \"DATE_OF_LAST_CHANGE\": \"2016-04-07T00:00:00\", \"avg_cash_incentive_percent\": 0.0, \"returns\": 1.2990918264379414, \"role\": \"execuative\"}, {\"gics_sector_name\": \"Consumer Discretionary\", \"symbol\": \"AMZN\", \"DATE_OF_LAST_CHANGE\": \"2016-08-31T00:00:00\", \"avg_cash_incentive_percent\": 0.0, \"returns\": 4.8150535963958365, \"role\": \"execuative\"}, {\"gics_sector_name\": \"Consumer Discretionary\", \"symbol\": \"AMZN\", \"DATE_OF_LAST_CHANGE\": \"2021-07-05T00:00:00\", \"avg_cash_incentive_percent\": 0.0, \"returns\": 0.7571235756881597, \"role\": \"execuative\"}, {\"gics_sector_name\": \"Consumer Discretionary\", \"symbol\": \"AMZN\", \"DATE_OF_LAST_CHANGE\": \"2022-07-31T00:00:00\", \"avg_cash_incentive_percent\": 0.0, \"returns\": 0.8824573863636362, \"role\": \"execuative\"}, {\"gics_sector_name\": \"Consumer Discretionary\", \"symbol\": \"AMZN\", \"DATE_OF_LAST_CHANGE\": \"2023-05-31T00:00:00\", \"avg_cash_incentive_percent\": null, \"returns\": 1.2228571428571429, \"role\": \"execuative\"}, {\"gics_sector_name\": \"Consumer Discretionary\", \"symbol\": \"HD\", \"DATE_OF_LAST_CHANGE\": \"2014-11-01T00:00:00\", \"avg_cash_incentive_percent\": 0.28876491922612657, \"returns\": 3.1350671952044857, \"role\": \"CEO\"}, {\"gics_sector_name\": \"Consumer Discretionary\", \"symbol\": \"HD\", \"DATE_OF_LAST_CHANGE\": \"2022-03-01T00:00:00\", \"avg_cash_incentive_percent\": 0.1765506299691571, \"returns\": 1.0687411336581756, \"role\": \"CEO\"}, {\"gics_sector_name\": \"Consumer Discretionary\", \"symbol\": \"HD\", \"DATE_OF_LAST_CHANGE\": \"2014-11-01T00:00:00\", \"avg_cash_incentive_percent\": 0.2633114391115041, \"returns\": 1.054239582326211, \"role\": \"execuative\"}, {\"gics_sector_name\": \"Consumer Discretionary\", \"symbol\": \"HD\", \"DATE_OF_LAST_CHANGE\": \"2015-02-02T00:00:00\", \"avg_cash_incentive_percent\": 0.2994490256013289, \"returns\": 1.067773294203962, \"role\": \"execuative\"}, {\"gics_sector_name\": \"Consumer Discretionary\", \"symbol\": \"HD\", \"DATE_OF_LAST_CHANGE\": \"2016-02-01T00:00:00\", \"avg_cash_incentive_percent\": 0.3232160107269371, \"returns\": 1.98514128660998, \"role\": \"execuative\"}, {\"gics_sector_name\": \"Consumer Discretionary\", \"symbol\": \"HD\", \"DATE_OF_LAST_CHANGE\": \"2019-09-01T00:00:00\", \"avg_cash_incentive_percent\": 0.2433506586657646, \"returns\": 1.2370527408817549, \"role\": \"execuative\"}, {\"gics_sector_name\": \"Consumer Discretionary\", \"symbol\": \"HD\", \"DATE_OF_LAST_CHANGE\": \"2020-10-05T00:00:00\", \"avg_cash_incentive_percent\": 0.5187790973143008, \"returns\": 1.0506435366536093, \"role\": \"execuative\"}, {\"gics_sector_name\": \"Consumer Discretionary\", \"symbol\": \"HD\", \"DATE_OF_LAST_CHANGE\": \"2022-04-25T00:00:00\", \"avg_cash_incentive_percent\": 0.35287821159940924, \"returns\": 1.1536284953395475, \"role\": \"execuative\"}, {\"gics_sector_name\": \"Consumer Discretionary\", \"symbol\": \"TSLA\", \"DATE_OF_LAST_CHANGE\": \"2008-10-15T00:00:00\", \"avg_cash_incentive_percent\": 0.0, \"returns\": 16.99508231480025, \"role\": \"CEO\"}, {\"gics_sector_name\": \"Consumer Discretionary\", \"symbol\": \"TSLA\", \"DATE_OF_LAST_CHANGE\": \"2015-11-30T00:00:00\", \"avg_cash_incentive_percent\": 0.0, \"returns\": 1.0504763793799203, \"role\": \"execuative\"}, {\"gics_sector_name\": \"Consumer Discretionary\", \"symbol\": \"TSLA\", \"DATE_OF_LAST_CHANGE\": \"2015-11-30T00:00:00\", \"avg_cash_incentive_percent\": 0.0, \"returns\": 0.8856218299725888, \"role\": \"execuative\"}, {\"gics_sector_name\": \"Consumer Discretionary\", \"symbol\": \"TSLA\", \"DATE_OF_LAST_CHANGE\": \"2016-09-30T00:00:00\", \"avg_cash_incentive_percent\": 0.04901855024185647, \"returns\": 1.3640126451992354, \"role\": \"execuative\"}, {\"gics_sector_name\": \"Consumer Discretionary\", \"symbol\": \"TSLA\", \"DATE_OF_LAST_CHANGE\": \"2017-03-31T00:00:00\", \"avg_cash_incentive_percent\": 0.01538900229670759, \"returns\": 1.2594686659516097, \"role\": \"execuative\"}, {\"gics_sector_name\": \"Consumer Discretionary\", \"symbol\": \"TSLA\", \"DATE_OF_LAST_CHANGE\": \"2018-11-08T00:00:00\", \"avg_cash_incentive_percent\": 0.0, \"returns\": 0.8938687824438425, \"role\": \"execuative\"}, {\"gics_sector_name\": \"Consumer Discretionary\", \"symbol\": \"TSLA\", \"DATE_OF_LAST_CHANGE\": \"2019-10-31T00:00:00\", \"avg_cash_incentive_percent\": 0.0, \"returns\": 9.560034087699224, \"role\": \"execuative\"}, {\"gics_sector_name\": \"Consumer Discretionary\", \"symbol\": \"TSLA\", \"DATE_OF_LAST_CHANGE\": \"2021-06-03T00:00:00\", \"avg_cash_incentive_percent\": null, \"returns\": 1.2713131243323803, \"role\": \"execuative\"}, {\"gics_sector_name\": \"Consumer Discretionary\", \"symbol\": \"TSLA\", \"DATE_OF_LAST_CHANGE\": \"2023-08-04T00:00:00\", \"avg_cash_incentive_percent\": 0.0, \"returns\": 0.9788072165760655, \"role\": \"execuative\"}]}}, {\"mode\": \"vega-lite\"});\n",
              "</script>"
            ],
            "text/plain": [
              "alt.LayerChart(...)"
            ]
          },
          "execution_count": 14,
          "metadata": {},
          "output_type": "execute_result"
        }
      ],
      "source": [
        "plot_data(df,2)"
      ]
    },
    {
      "cell_type": "code",
      "execution_count": null,
      "metadata": {
        "colab": {
          "base_uri": "https://localhost:8080/",
          "height": 510
        },
        "id": "rlPH16pF-4OY",
        "outputId": "dfe22631-95b9-4fee-be6b-cabfcc850aa5"
      },
      "outputs": [
        {
          "name": "stderr",
          "output_type": "stream",
          "text": [
            "/usr/local/lib/python3.10/dist-packages/altair/utils/core.py:384: FutureWarning: the convert_dtype parameter is deprecated and will be removed in a future version.  Do ``ser.astype(object).apply()`` instead if you want ``convert_dtype=False``.\n",
            "  col = df[col_name].apply(to_list_if_array, convert_dtype=False)\n",
            "/usr/local/lib/python3.10/dist-packages/altair/utils/core.py:384: FutureWarning: the convert_dtype parameter is deprecated and will be removed in a future version.  Do ``ser.astype(object).apply()`` instead if you want ``convert_dtype=False``.\n",
            "  col = df[col_name].apply(to_list_if_array, convert_dtype=False)\n",
            "/usr/local/lib/python3.10/dist-packages/altair/utils/core.py:384: FutureWarning: the convert_dtype parameter is deprecated and will be removed in a future version.  Do ``ser.astype(object).apply()`` instead if you want ``convert_dtype=False``.\n",
            "  col = df[col_name].apply(to_list_if_array, convert_dtype=False)\n"
          ]
        },
        {
          "data": {
            "text/html": [
              "\n",
              "<div id=\"altair-viz-686ae2183c544532984bf1367b441366\"></div>\n",
              "<script type=\"text/javascript\">\n",
              "  var VEGA_DEBUG = (typeof VEGA_DEBUG == \"undefined\") ? {} : VEGA_DEBUG;\n",
              "  (function(spec, embedOpt){\n",
              "    let outputDiv = document.currentScript.previousElementSibling;\n",
              "    if (outputDiv.id !== \"altair-viz-686ae2183c544532984bf1367b441366\") {\n",
              "      outputDiv = document.getElementById(\"altair-viz-686ae2183c544532984bf1367b441366\");\n",
              "    }\n",
              "    const paths = {\n",
              "      \"vega\": \"https://cdn.jsdelivr.net/npm//vega@5?noext\",\n",
              "      \"vega-lib\": \"https://cdn.jsdelivr.net/npm//vega-lib?noext\",\n",
              "      \"vega-lite\": \"https://cdn.jsdelivr.net/npm//vega-lite@4.17.0?noext\",\n",
              "      \"vega-embed\": \"https://cdn.jsdelivr.net/npm//vega-embed@6?noext\",\n",
              "    };\n",
              "\n",
              "    function maybeLoadScript(lib, version) {\n",
              "      var key = `${lib.replace(\"-\", \"\")}_version`;\n",
              "      return (VEGA_DEBUG[key] == version) ?\n",
              "        Promise.resolve(paths[lib]) :\n",
              "        new Promise(function(resolve, reject) {\n",
              "          var s = document.createElement('script');\n",
              "          document.getElementsByTagName(\"head\")[0].appendChild(s);\n",
              "          s.async = true;\n",
              "          s.onload = () => {\n",
              "            VEGA_DEBUG[key] = version;\n",
              "            return resolve(paths[lib]);\n",
              "          };\n",
              "          s.onerror = () => reject(`Error loading script: ${paths[lib]}`);\n",
              "          s.src = paths[lib];\n",
              "        });\n",
              "    }\n",
              "\n",
              "    function showError(err) {\n",
              "      outputDiv.innerHTML = `<div class=\"error\" style=\"color:red;\">${err}</div>`;\n",
              "      throw err;\n",
              "    }\n",
              "\n",
              "    function displayChart(vegaEmbed) {\n",
              "      vegaEmbed(outputDiv, spec, embedOpt)\n",
              "        .catch(err => showError(`Javascript Error: ${err.message}<br>This usually means there's a typo in your chart specification. See the javascript console for the full traceback.`));\n",
              "    }\n",
              "\n",
              "    if(typeof define === \"function\" && define.amd) {\n",
              "      requirejs.config({paths});\n",
              "      require([\"vega-embed\"], displayChart, err => showError(`Error loading script: ${err.message}`));\n",
              "    } else {\n",
              "      maybeLoadScript(\"vega\", \"5\")\n",
              "        .then(() => maybeLoadScript(\"vega-lite\", \"4.17.0\"))\n",
              "        .then(() => maybeLoadScript(\"vega-embed\", \"6\"))\n",
              "        .catch(showError)\n",
              "        .then(() => displayChart(vegaEmbed));\n",
              "    }\n",
              "  })({\"config\": {\"view\": {\"continuousWidth\": 400, \"continuousHeight\": 300}}, \"layer\": [{\"data\": {\"name\": \"data-d764767e7dd3b10b2c76c1355ce10ef3\"}, \"mark\": \"rule\", \"encoding\": {\"y\": {\"field\": \"y\", \"type\": \"quantitative\"}}}, {\"data\": {\"name\": \"data-52f3864765be9ca44e81c68054997a1c\"}, \"mark\": \"point\", \"encoding\": {\"color\": {\"field\": \"symbol\", \"type\": \"nominal\"}, \"shape\": {\"field\": \"role\", \"type\": \"nominal\"}, \"tooltip\": [{\"field\": \"avg_cash_incentive_percent\", \"type\": \"quantitative\"}, {\"field\": \"returns\", \"type\": \"quantitative\"}, {\"field\": \"gics_sector_name\", \"type\": \"nominal\"}, {\"field\": \"symbol\", \"type\": \"nominal\"}, {\"field\": \"role\", \"type\": \"nominal\"}], \"x\": {\"field\": \"avg_cash_incentive_percent\", \"type\": \"quantitative\"}, \"y\": {\"field\": \"returns\", \"type\": \"quantitative\"}}, \"selection\": {\"selector005\": {\"type\": \"interval\", \"bind\": \"scales\", \"encodings\": [\"x\", \"y\"]}}, \"title\": \"Materials\"}], \"$schema\": \"https://vega.github.io/schema/vega-lite/v4.17.0.json\", \"datasets\": {\"data-d764767e7dd3b10b2c76c1355ce10ef3\": [{\"y\": 1}], \"data-52f3864765be9ca44e81c68054997a1c\": [{\"gics_sector_name\": \"Materials\", \"symbol\": \"BHP\", \"DATE_OF_LAST_CHANGE\": \"2013-05-10T00:00:00\", \"avg_cash_incentive_percent\": 0.1614361821972296, \"returns\": 1.2236378088228637, \"role\": \"CEO\"}, {\"gics_sector_name\": \"Materials\", \"symbol\": \"BHP\", \"DATE_OF_LAST_CHANGE\": \"2020-01-01T00:00:00\", \"avg_cash_incentive_percent\": 0.24153779100649128, \"returns\": 1.4042062462613085, \"role\": \"CEO\"}, {\"gics_sector_name\": \"Materials\", \"symbol\": \"BHP\", \"DATE_OF_LAST_CHANGE\": \"2015-06-30T00:00:00\", \"avg_cash_incentive_percent\": 0.3062190660641274, \"returns\": 0.9261969322715176, \"role\": \"execuative\"}, {\"gics_sector_name\": \"Materials\", \"symbol\": \"BHP\", \"DATE_OF_LAST_CHANGE\": \"2015-06-30T00:00:00\", \"avg_cash_incentive_percent\": 0.3062190660641274, \"returns\": 0.5468623121691828, \"role\": \"execuative\"}, {\"gics_sector_name\": \"Materials\", \"symbol\": \"BHP\", \"DATE_OF_LAST_CHANGE\": \"2016-02-01T00:00:00\", \"avg_cash_incentive_percent\": 0.2841792190348269, \"returns\": 1.2258646034047795, \"role\": \"execuative\"}, {\"gics_sector_name\": \"Materials\", \"symbol\": \"BHP\", \"DATE_OF_LAST_CHANGE\": \"2016-03-01T00:00:00\", \"avg_cash_incentive_percent\": 0.20176881831427657, \"returns\": 1.8876460937025257, \"role\": \"execuative\"}, {\"gics_sector_name\": \"Materials\", \"symbol\": \"BHP\", \"DATE_OF_LAST_CHANGE\": \"2019-03-17T00:00:00\", \"avg_cash_incentive_percent\": 0.16710461487929054, \"returns\": 0.7002871515765438, \"role\": \"execuative\"}, {\"gics_sector_name\": \"Materials\", \"symbol\": \"BHP\", \"DATE_OF_LAST_CHANGE\": \"2020-03-31T00:00:00\", \"avg_cash_incentive_percent\": 0.2836897066136251, \"returns\": 1.7234227083416334, \"role\": \"execuative\"}, {\"gics_sector_name\": \"Materials\", \"symbol\": \"BHP\", \"DATE_OF_LAST_CHANGE\": \"2020-12-01T00:00:00\", \"avg_cash_incentive_percent\": 0.3530754071154444, \"returns\": 1.193190103101583, \"role\": \"execuative\"}, {\"gics_sector_name\": \"Materials\", \"symbol\": \"BHP\", \"DATE_OF_LAST_CHANGE\": \"2022-05-31T00:00:00\", \"avg_cash_incentive_percent\": 0.32476496489349044, \"returns\": 0.76274217585693, \"role\": \"execuative\"}, {\"gics_sector_name\": \"Materials\", \"symbol\": \"BHP\", \"DATE_OF_LAST_CHANGE\": \"2022-10-01T00:00:00\", \"avg_cash_incentive_percent\": 0.3233333333333333, \"returns\": 1.3347010550996483, \"role\": \"execuative\"}, {\"gics_sector_name\": \"Materials\", \"symbol\": \"SHW\", \"DATE_OF_LAST_CHANGE\": \"2015-12-31T00:00:00\", \"avg_cash_incentive_percent\": 0.20049494035228801, \"returns\": 0.9891746684956562, \"role\": \"CEO\"}, {\"gics_sector_name\": \"Materials\", \"symbol\": \"SHW\", \"DATE_OF_LAST_CHANGE\": \"2015-12-31T00:00:00\", \"avg_cash_incentive_percent\": 0.20049494035228801, \"returns\": 1.0, \"role\": \"CEO\"}, {\"gics_sector_name\": \"Materials\", \"symbol\": \"SHW\", \"DATE_OF_LAST_CHANGE\": \"2016-01-01T00:00:00\", \"avg_cash_incentive_percent\": 0.21673037191543035, \"returns\": 1.0746998255000981, \"role\": \"CEO\"}, {\"gics_sector_name\": \"Materials\", \"symbol\": \"SHW\", \"DATE_OF_LAST_CHANGE\": \"2016-12-31T00:00:00\", \"avg_cash_incentive_percent\": 0.27735214533881924, \"returns\": 3.353871630267643, \"role\": \"CEO\"}, {\"gics_sector_name\": \"Materials\", \"symbol\": \"SHW\", \"DATE_OF_LAST_CHANGE\": \"2015-12-31T00:00:00\", \"avg_cash_incentive_percent\": 0.282596067567029, \"returns\": 0.9891746684956562, \"role\": \"execuative\"}, {\"gics_sector_name\": \"Materials\", \"symbol\": \"SHW\", \"DATE_OF_LAST_CHANGE\": \"2015-12-31T00:00:00\", \"avg_cash_incentive_percent\": 0.282596067567029, \"returns\": 1.0746998255000981, \"role\": \"execuative\"}, {\"gics_sector_name\": \"Materials\", \"symbol\": \"SHW\", \"DATE_OF_LAST_CHANGE\": \"2016-12-31T00:00:00\", \"avg_cash_incentive_percent\": 0.5011907470801238, \"returns\": 1.0, \"role\": \"execuative\"}, {\"gics_sector_name\": \"Materials\", \"symbol\": \"SHW\", \"DATE_OF_LAST_CHANGE\": \"2017-01-01T00:00:00\", \"avg_cash_incentive_percent\": 0.46017249806625177, \"returns\": 1.2316526339559342, \"role\": \"execuative\"}, {\"gics_sector_name\": \"Materials\", \"symbol\": \"SHW\", \"DATE_OF_LAST_CHANGE\": \"2017-08-31T00:00:00\", \"avg_cash_incentive_percent\": 0.4170048955894435, \"returns\": 1.2706478086258075, \"role\": \"execuative\"}, {\"gics_sector_name\": \"Materials\", \"symbol\": \"SHW\", \"DATE_OF_LAST_CHANGE\": \"2019-03-01T00:00:00\", \"avg_cash_incentive_percent\": 0.43241944849820346, \"returns\": 2.192043424488113, \"role\": \"execuative\"}, {\"gics_sector_name\": \"Materials\", \"symbol\": \"SHW\", \"DATE_OF_LAST_CHANGE\": \"2021-11-01T00:00:00\", \"avg_cash_incentive_percent\": 0.3929545537747524, \"returns\": 0.8102372817603362, \"role\": \"execuative\"}, {\"gics_sector_name\": \"Materials\", \"symbol\": \"SHW\", \"DATE_OF_LAST_CHANGE\": \"2022-03-01T00:00:00\", \"avg_cash_incentive_percent\": 0.27150911640575903, \"returns\": 1.2066230801965259, \"role\": \"execuative\"}]}}, {\"mode\": \"vega-lite\"});\n",
              "</script>"
            ],
            "text/plain": [
              "alt.LayerChart(...)"
            ]
          },
          "execution_count": 15,
          "metadata": {},
          "output_type": "execute_result"
        }
      ],
      "source": [
        "plot_data(df,3)"
      ]
    },
    {
      "cell_type": "code",
      "execution_count": null,
      "metadata": {
        "colab": {
          "base_uri": "https://localhost:8080/",
          "height": 510
        },
        "id": "DYbCfj6J-997",
        "outputId": "a4cbdb61-f7db-4de3-c8fd-42371daebcb6"
      },
      "outputs": [
        {
          "name": "stderr",
          "output_type": "stream",
          "text": [
            "/usr/local/lib/python3.10/dist-packages/altair/utils/core.py:384: FutureWarning: the convert_dtype parameter is deprecated and will be removed in a future version.  Do ``ser.astype(object).apply()`` instead if you want ``convert_dtype=False``.\n",
            "  col = df[col_name].apply(to_list_if_array, convert_dtype=False)\n",
            "/usr/local/lib/python3.10/dist-packages/altair/utils/core.py:384: FutureWarning: the convert_dtype parameter is deprecated and will be removed in a future version.  Do ``ser.astype(object).apply()`` instead if you want ``convert_dtype=False``.\n",
            "  col = df[col_name].apply(to_list_if_array, convert_dtype=False)\n",
            "/usr/local/lib/python3.10/dist-packages/altair/utils/core.py:384: FutureWarning: the convert_dtype parameter is deprecated and will be removed in a future version.  Do ``ser.astype(object).apply()`` instead if you want ``convert_dtype=False``.\n",
            "  col = df[col_name].apply(to_list_if_array, convert_dtype=False)\n"
          ]
        },
        {
          "data": {
            "text/html": [
              "\n",
              "<div id=\"altair-viz-5ef2e35fd704447b9ea01d28404de753\"></div>\n",
              "<script type=\"text/javascript\">\n",
              "  var VEGA_DEBUG = (typeof VEGA_DEBUG == \"undefined\") ? {} : VEGA_DEBUG;\n",
              "  (function(spec, embedOpt){\n",
              "    let outputDiv = document.currentScript.previousElementSibling;\n",
              "    if (outputDiv.id !== \"altair-viz-5ef2e35fd704447b9ea01d28404de753\") {\n",
              "      outputDiv = document.getElementById(\"altair-viz-5ef2e35fd704447b9ea01d28404de753\");\n",
              "    }\n",
              "    const paths = {\n",
              "      \"vega\": \"https://cdn.jsdelivr.net/npm//vega@5?noext\",\n",
              "      \"vega-lib\": \"https://cdn.jsdelivr.net/npm//vega-lib?noext\",\n",
              "      \"vega-lite\": \"https://cdn.jsdelivr.net/npm//vega-lite@4.17.0?noext\",\n",
              "      \"vega-embed\": \"https://cdn.jsdelivr.net/npm//vega-embed@6?noext\",\n",
              "    };\n",
              "\n",
              "    function maybeLoadScript(lib, version) {\n",
              "      var key = `${lib.replace(\"-\", \"\")}_version`;\n",
              "      return (VEGA_DEBUG[key] == version) ?\n",
              "        Promise.resolve(paths[lib]) :\n",
              "        new Promise(function(resolve, reject) {\n",
              "          var s = document.createElement('script');\n",
              "          document.getElementsByTagName(\"head\")[0].appendChild(s);\n",
              "          s.async = true;\n",
              "          s.onload = () => {\n",
              "            VEGA_DEBUG[key] = version;\n",
              "            return resolve(paths[lib]);\n",
              "          };\n",
              "          s.onerror = () => reject(`Error loading script: ${paths[lib]}`);\n",
              "          s.src = paths[lib];\n",
              "        });\n",
              "    }\n",
              "\n",
              "    function showError(err) {\n",
              "      outputDiv.innerHTML = `<div class=\"error\" style=\"color:red;\">${err}</div>`;\n",
              "      throw err;\n",
              "    }\n",
              "\n",
              "    function displayChart(vegaEmbed) {\n",
              "      vegaEmbed(outputDiv, spec, embedOpt)\n",
              "        .catch(err => showError(`Javascript Error: ${err.message}<br>This usually means there's a typo in your chart specification. See the javascript console for the full traceback.`));\n",
              "    }\n",
              "\n",
              "    if(typeof define === \"function\" && define.amd) {\n",
              "      requirejs.config({paths});\n",
              "      require([\"vega-embed\"], displayChart, err => showError(`Error loading script: ${err.message}`));\n",
              "    } else {\n",
              "      maybeLoadScript(\"vega\", \"5\")\n",
              "        .then(() => maybeLoadScript(\"vega-lite\", \"4.17.0\"))\n",
              "        .then(() => maybeLoadScript(\"vega-embed\", \"6\"))\n",
              "        .catch(showError)\n",
              "        .then(() => displayChart(vegaEmbed));\n",
              "    }\n",
              "  })({\"config\": {\"view\": {\"continuousWidth\": 400, \"continuousHeight\": 300}}, \"layer\": [{\"data\": {\"name\": \"data-d764767e7dd3b10b2c76c1355ce10ef3\"}, \"mark\": \"rule\", \"encoding\": {\"y\": {\"field\": \"y\", \"type\": \"quantitative\"}}}, {\"data\": {\"name\": \"data-1a01b43a914dd8f01fc6c6036c253ed9\"}, \"mark\": \"point\", \"encoding\": {\"color\": {\"field\": \"symbol\", \"type\": \"nominal\"}, \"shape\": {\"field\": \"role\", \"type\": \"nominal\"}, \"tooltip\": [{\"field\": \"avg_cash_incentive_percent\", \"type\": \"quantitative\"}, {\"field\": \"returns\", \"type\": \"quantitative\"}, {\"field\": \"gics_sector_name\", \"type\": \"nominal\"}, {\"field\": \"symbol\", \"type\": \"nominal\"}, {\"field\": \"role\", \"type\": \"nominal\"}], \"x\": {\"field\": \"avg_cash_incentive_percent\", \"type\": \"quantitative\"}, \"y\": {\"field\": \"returns\", \"type\": \"quantitative\"}}, \"selection\": {\"selector006\": {\"type\": \"interval\", \"bind\": \"scales\", \"encodings\": [\"x\", \"y\"]}}, \"title\": \"Industrials\"}], \"$schema\": \"https://vega.github.io/schema/vega-lite/v4.17.0.json\", \"datasets\": {\"data-d764767e7dd3b10b2c76c1355ce10ef3\": [{\"y\": 1}], \"data-1a01b43a914dd8f01fc6c6036c253ed9\": [{\"gics_sector_name\": \"Industrials\", \"symbol\": \"CAT\", \"DATE_OF_LAST_CHANGE\": \"2010-07-01T00:00:00\", \"avg_cash_incentive_percent\": 0.05956360820221936, \"returns\": 1.0126251632564216, \"role\": \"CEO\"}, {\"gics_sector_name\": \"Industrials\", \"symbol\": \"CAT\", \"DATE_OF_LAST_CHANGE\": \"2016-12-31T00:00:00\", \"avg_cash_incentive_percent\": 0.21122284391064922, \"returns\": 1.0, \"role\": \"CEO\"}, {\"gics_sector_name\": \"Industrials\", \"symbol\": \"CAT\", \"DATE_OF_LAST_CHANGE\": \"2017-01-01T00:00:00\", \"avg_cash_incentive_percent\": 0.20176094794671043, \"returns\": 3.1778804815133275, \"role\": \"CEO\"}, {\"gics_sector_name\": \"Industrials\", \"symbol\": \"CAT\", \"DATE_OF_LAST_CHANGE\": \"2015-01-01T00:00:00\", \"avg_cash_incentive_percent\": 0.0618799025040497, \"returns\": 1.0126251632564216, \"role\": \"execuative\"}, {\"gics_sector_name\": \"Industrials\", \"symbol\": \"CAT\", \"DATE_OF_LAST_CHANGE\": \"2016-12-31T00:00:00\", \"avg_cash_incentive_percent\": 0.24832571202055254, \"returns\": 1.0, \"role\": \"execuative\"}, {\"gics_sector_name\": \"Industrials\", \"symbol\": \"CAT\", \"DATE_OF_LAST_CHANGE\": \"2017-01-01T00:00:00\", \"avg_cash_incentive_percent\": 0.2919597642914839, \"returns\": 1.3625322441960446, \"role\": \"execuative\"}, {\"gics_sector_name\": \"Industrials\", \"symbol\": \"CAT\", \"DATE_OF_LAST_CHANGE\": \"2018-12-13T00:00:00\", \"avg_cash_incentive_percent\": 0.25867824482873475, \"returns\": 1.084404827640609, \"role\": \"execuative\"}, {\"gics_sector_name\": \"Industrials\", \"symbol\": \"CAT\", \"DATE_OF_LAST_CHANGE\": \"2019-03-01T00:00:00\", \"avg_cash_incentive_percent\": 0.1909847867880942, \"returns\": 1.3240707063359278, \"role\": \"execuative\"}, {\"gics_sector_name\": \"Industrials\", \"symbol\": \"CAT\", \"DATE_OF_LAST_CHANGE\": \"2020-12-31T00:00:00\", \"avg_cash_incentive_percent\": 0.0, \"returns\": 1.0, \"role\": \"execuative\"}, {\"gics_sector_name\": \"Industrials\", \"symbol\": \"CAT\", \"DATE_OF_LAST_CHANGE\": \"2021-01-01T00:00:00\", \"avg_cash_incentive_percent\": 0.31805291045605455, \"returns\": 1.6243819360509835, \"role\": \"execuative\"}, {\"gics_sector_name\": \"Industrials\", \"symbol\": \"GE\", \"DATE_OF_LAST_CHANGE\": \"2001-09-07T00:00:00\", \"avg_cash_incentive_percent\": 0.525247738075193, \"returns\": 1.0287309696306197, \"role\": \"CEO\"}, {\"gics_sector_name\": \"Industrials\", \"symbol\": \"GE\", \"DATE_OF_LAST_CHANGE\": \"2017-08-01T00:00:00\", \"avg_cash_incentive_percent\": 0.0, \"returns\": 0.5112494741816078, \"role\": \"CEO\"}, {\"gics_sector_name\": \"Industrials\", \"symbol\": \"GE\", \"DATE_OF_LAST_CHANGE\": \"2018-10-01T00:00:00\", \"avg_cash_incentive_percent\": 0.19041567275006158, \"returns\": 1.613711703856367, \"role\": \"CEO\"}, {\"gics_sector_name\": \"Industrials\", \"symbol\": \"GE\", \"DATE_OF_LAST_CHANGE\": \"2015-12-31T00:00:00\", \"avg_cash_incentive_percent\": 0.9375900827063087, \"returns\": 1.2430167434732473, \"role\": \"execuative\"}, {\"gics_sector_name\": \"Industrials\", \"symbol\": \"GE\", \"DATE_OF_LAST_CHANGE\": \"2015-12-31T00:00:00\", \"avg_cash_incentive_percent\": 0.9375900827063087, \"returns\": 1.0147673282170337, \"role\": \"execuative\"}, {\"gics_sector_name\": \"Industrials\", \"symbol\": \"GE\", \"DATE_OF_LAST_CHANGE\": \"2016-12-31T00:00:00\", \"avg_cash_incentive_percent\": 0.4135284981658104, \"returns\": 0.586523321562712, \"role\": \"execuative\"}, {\"gics_sector_name\": \"Industrials\", \"symbol\": \"GE\", \"DATE_OF_LAST_CHANGE\": \"2017-12-31T00:00:00\", \"avg_cash_incentive_percent\": 0.08288638024764297, \"returns\": 0.7108958002740912, \"role\": \"execuative\"}, {\"gics_sector_name\": \"Industrials\", \"symbol\": \"GE\", \"DATE_OF_LAST_CHANGE\": \"2018-10-01T00:00:00\", \"avg_cash_incentive_percent\": 0.29080921629667017, \"returns\": 0.8106218540684079, \"role\": \"execuative\"}, {\"gics_sector_name\": \"Industrials\", \"symbol\": \"GE\", \"DATE_OF_LAST_CHANGE\": \"2019-02-25T00:00:00\", \"avg_cash_incentive_percent\": 0.3536485117757471, \"returns\": 0.62512125479152, \"role\": \"execuative\"}, {\"gics_sector_name\": \"Industrials\", \"symbol\": \"GE\", \"DATE_OF_LAST_CHANGE\": \"2020-09-01T00:00:00\", \"avg_cash_incentive_percent\": 0.1555977735994374, \"returns\": 1.8393677828286463, \"role\": \"execuative\"}, {\"gics_sector_name\": \"Industrials\", \"symbol\": \"GE\", \"DATE_OF_LAST_CHANGE\": \"2021-12-31T00:00:00\", \"avg_cash_incentive_percent\": 0.2820095832024463, \"returns\": 1.0733573724763152, \"role\": \"execuative\"}, {\"gics_sector_name\": \"Industrials\", \"symbol\": \"GE\", \"DATE_OF_LAST_CHANGE\": \"2022-01-03T00:00:00\", \"avg_cash_incentive_percent\": 0.16198079227865206, \"returns\": 1.3440486547216663, \"role\": \"execuative\"}, {\"gics_sector_name\": \"Industrials\", \"symbol\": \"GE\", \"DATE_OF_LAST_CHANGE\": \"2023-10-24T00:00:00\", \"avg_cash_incentive_percent\": 0.5422050849811243, \"returns\": 1.2000945560698628, \"role\": \"execuative\"}, {\"gics_sector_name\": \"Industrials\", \"symbol\": \"RTX\", \"DATE_OF_LAST_CHANGE\": \"2014-11-24T00:00:00\", \"avg_cash_incentive_percent\": 0.20046375865513255, \"returns\": 1.2400518776159877, \"role\": \"CEO\"}, {\"gics_sector_name\": \"Industrials\", \"symbol\": \"RTX\", \"DATE_OF_LAST_CHANGE\": \"2015-02-13T00:00:00\", \"avg_cash_incentive_percent\": 0.09828079973319528, \"returns\": 1.0539851441372399, \"role\": \"execuative\"}, {\"gics_sector_name\": \"Industrials\", \"symbol\": \"RTX\", \"DATE_OF_LAST_CHANGE\": \"2015-02-13T00:00:00\", \"avg_cash_incentive_percent\": 0.09828079973319528, \"returns\": 0.8255610711039642, \"role\": \"execuative\"}, {\"gics_sector_name\": \"Industrials\", \"symbol\": \"RTX\", \"DATE_OF_LAST_CHANGE\": \"2016-09-14T00:00:00\", \"avg_cash_incentive_percent\": 0.22816116967483113, \"returns\": 1.2730352303523036, \"role\": \"execuative\"}, {\"gics_sector_name\": \"Industrials\", \"symbol\": \"RTX\", \"DATE_OF_LAST_CHANGE\": \"2018-11-01T00:00:00\", \"avg_cash_incentive_percent\": 0.1801834827362701, \"returns\": 1.1510643959552953, \"role\": \"execuative\"}, {\"gics_sector_name\": \"Industrials\", \"symbol\": \"RTX\", \"DATE_OF_LAST_CHANGE\": \"2019-11-01T00:00:00\", \"avg_cash_incentive_percent\": 0.24288772272129477, \"returns\": 0.5771320248745868, \"role\": \"execuative\"}, {\"gics_sector_name\": \"Industrials\", \"symbol\": \"RTX\", \"DATE_OF_LAST_CHANGE\": \"2020-04-03T00:00:00\", \"avg_cash_incentive_percent\": 0.23869024642640485, \"returns\": 1.7828960544762666, \"role\": \"execuative\"}, {\"gics_sector_name\": \"Industrials\", \"symbol\": \"RTX\", \"DATE_OF_LAST_CHANGE\": \"2021-06-01T00:00:00\", \"avg_cash_incentive_percent\": 0.17897239744225701, \"returns\": 1.1187373623904742, \"role\": \"execuative\"}, {\"gics_sector_name\": \"Industrials\", \"symbol\": \"RTX\", \"DATE_OF_LAST_CHANGE\": \"2022-03-01T00:00:00\", \"avg_cash_incentive_percent\": 0.1979247945158278, \"returns\": 0.8769956822974194, \"role\": \"execuative\"}, {\"gics_sector_name\": \"Industrials\", \"symbol\": \"RTX\", \"DATE_OF_LAST_CHANGE\": \"2023-07-27T00:00:00\", \"avg_cash_incentive_percent\": 0.17780048772763044, \"returns\": 0.9633615754522555, \"role\": \"execuative\"}]}}, {\"mode\": \"vega-lite\"});\n",
              "</script>"
            ],
            "text/plain": [
              "alt.LayerChart(...)"
            ]
          },
          "execution_count": 16,
          "metadata": {},
          "output_type": "execute_result"
        }
      ],
      "source": [
        "plot_data(df,4)"
      ]
    },
    {
      "cell_type": "code",
      "execution_count": null,
      "metadata": {
        "colab": {
          "base_uri": "https://localhost:8080/",
          "height": 510
        },
        "id": "mu-UVuEe_D6l",
        "outputId": "5389a0d6-5044-4828-e95b-aab369300475"
      },
      "outputs": [
        {
          "name": "stderr",
          "output_type": "stream",
          "text": [
            "/usr/local/lib/python3.10/dist-packages/altair/utils/core.py:384: FutureWarning: the convert_dtype parameter is deprecated and will be removed in a future version.  Do ``ser.astype(object).apply()`` instead if you want ``convert_dtype=False``.\n",
            "  col = df[col_name].apply(to_list_if_array, convert_dtype=False)\n",
            "/usr/local/lib/python3.10/dist-packages/altair/utils/core.py:384: FutureWarning: the convert_dtype parameter is deprecated and will be removed in a future version.  Do ``ser.astype(object).apply()`` instead if you want ``convert_dtype=False``.\n",
            "  col = df[col_name].apply(to_list_if_array, convert_dtype=False)\n",
            "/usr/local/lib/python3.10/dist-packages/altair/utils/core.py:384: FutureWarning: the convert_dtype parameter is deprecated and will be removed in a future version.  Do ``ser.astype(object).apply()`` instead if you want ``convert_dtype=False``.\n",
            "  col = df[col_name].apply(to_list_if_array, convert_dtype=False)\n"
          ]
        },
        {
          "data": {
            "text/html": [
              "\n",
              "<div id=\"altair-viz-27f8c5b887b2482e9e74b7b382de0bdf\"></div>\n",
              "<script type=\"text/javascript\">\n",
              "  var VEGA_DEBUG = (typeof VEGA_DEBUG == \"undefined\") ? {} : VEGA_DEBUG;\n",
              "  (function(spec, embedOpt){\n",
              "    let outputDiv = document.currentScript.previousElementSibling;\n",
              "    if (outputDiv.id !== \"altair-viz-27f8c5b887b2482e9e74b7b382de0bdf\") {\n",
              "      outputDiv = document.getElementById(\"altair-viz-27f8c5b887b2482e9e74b7b382de0bdf\");\n",
              "    }\n",
              "    const paths = {\n",
              "      \"vega\": \"https://cdn.jsdelivr.net/npm//vega@5?noext\",\n",
              "      \"vega-lib\": \"https://cdn.jsdelivr.net/npm//vega-lib?noext\",\n",
              "      \"vega-lite\": \"https://cdn.jsdelivr.net/npm//vega-lite@4.17.0?noext\",\n",
              "      \"vega-embed\": \"https://cdn.jsdelivr.net/npm//vega-embed@6?noext\",\n",
              "    };\n",
              "\n",
              "    function maybeLoadScript(lib, version) {\n",
              "      var key = `${lib.replace(\"-\", \"\")}_version`;\n",
              "      return (VEGA_DEBUG[key] == version) ?\n",
              "        Promise.resolve(paths[lib]) :\n",
              "        new Promise(function(resolve, reject) {\n",
              "          var s = document.createElement('script');\n",
              "          document.getElementsByTagName(\"head\")[0].appendChild(s);\n",
              "          s.async = true;\n",
              "          s.onload = () => {\n",
              "            VEGA_DEBUG[key] = version;\n",
              "            return resolve(paths[lib]);\n",
              "          };\n",
              "          s.onerror = () => reject(`Error loading script: ${paths[lib]}`);\n",
              "          s.src = paths[lib];\n",
              "        });\n",
              "    }\n",
              "\n",
              "    function showError(err) {\n",
              "      outputDiv.innerHTML = `<div class=\"error\" style=\"color:red;\">${err}</div>`;\n",
              "      throw err;\n",
              "    }\n",
              "\n",
              "    function displayChart(vegaEmbed) {\n",
              "      vegaEmbed(outputDiv, spec, embedOpt)\n",
              "        .catch(err => showError(`Javascript Error: ${err.message}<br>This usually means there's a typo in your chart specification. See the javascript console for the full traceback.`));\n",
              "    }\n",
              "\n",
              "    if(typeof define === \"function\" && define.amd) {\n",
              "      requirejs.config({paths});\n",
              "      require([\"vega-embed\"], displayChart, err => showError(`Error loading script: ${err.message}`));\n",
              "    } else {\n",
              "      maybeLoadScript(\"vega\", \"5\")\n",
              "        .then(() => maybeLoadScript(\"vega-lite\", \"4.17.0\"))\n",
              "        .then(() => maybeLoadScript(\"vega-embed\", \"6\"))\n",
              "        .catch(showError)\n",
              "        .then(() => displayChart(vegaEmbed));\n",
              "    }\n",
              "  })({\"config\": {\"view\": {\"continuousWidth\": 400, \"continuousHeight\": 300}}, \"layer\": [{\"data\": {\"name\": \"data-d764767e7dd3b10b2c76c1355ce10ef3\"}, \"mark\": \"rule\", \"encoding\": {\"y\": {\"field\": \"y\", \"type\": \"quantitative\"}}}, {\"data\": {\"name\": \"data-ed22645d1c074b53aad80443ac62e67c\"}, \"mark\": \"point\", \"encoding\": {\"color\": {\"field\": \"symbol\", \"type\": \"nominal\"}, \"shape\": {\"field\": \"role\", \"type\": \"nominal\"}, \"tooltip\": [{\"field\": \"avg_cash_incentive_percent\", \"type\": \"quantitative\"}, {\"field\": \"returns\", \"type\": \"quantitative\"}, {\"field\": \"gics_sector_name\", \"type\": \"nominal\"}, {\"field\": \"symbol\", \"type\": \"nominal\"}, {\"field\": \"role\", \"type\": \"nominal\"}], \"x\": {\"field\": \"avg_cash_incentive_percent\", \"type\": \"quantitative\"}, \"y\": {\"field\": \"returns\", \"type\": \"quantitative\"}}, \"selection\": {\"selector007\": {\"type\": \"interval\", \"bind\": \"scales\", \"encodings\": [\"x\", \"y\"]}}, \"title\": \"Consumer Staples\"}], \"$schema\": \"https://vega.github.io/schema/vega-lite/v4.17.0.json\", \"datasets\": {\"data-d764767e7dd3b10b2c76c1355ce10ef3\": [{\"y\": 1}], \"data-ed22645d1c074b53aad80443ac62e67c\": [{\"gics_sector_name\": \"Consumer Staples\", \"symbol\": \"COST\", \"DATE_OF_LAST_CHANGE\": \"2012-01-01T00:00:00\", \"avg_cash_incentive_percent\": 0.03313711373491044, \"returns\": 4.661252736388673, \"role\": \"CEO\"}, {\"gics_sector_name\": \"Consumer Staples\", \"symbol\": \"COST\", \"DATE_OF_LAST_CHANGE\": \"2013-10-16T00:00:00\", \"avg_cash_incentive_percent\": 0.022899882785732732, \"returns\": 1.102393898735965, \"role\": \"execuative\"}, {\"gics_sector_name\": \"Consumer Staples\", \"symbol\": \"COST\", \"DATE_OF_LAST_CHANGE\": \"2016-06-30T00:00:00\", \"avg_cash_incentive_percent\": 0.02436475091217464, \"returns\": 1.002113894049068, \"role\": \"execuative\"}, {\"gics_sector_name\": \"Consumer Staples\", \"symbol\": \"COST\", \"DATE_OF_LAST_CHANGE\": \"2017-08-01T00:00:00\", \"avg_cash_incentive_percent\": 0.01919906364852321, \"returns\": 3.3224878547686014, \"role\": \"execuative\"}, {\"gics_sector_name\": \"Consumer Staples\", \"symbol\": \"COST\", \"DATE_OF_LAST_CHANGE\": \"2022-02-02T00:00:00\", \"avg_cash_incentive_percent\": 0.047938791507574526, \"returns\": 1.014718048367547, \"role\": \"execuative\"}, {\"gics_sector_name\": \"Consumer Staples\", \"symbol\": \"COST\", \"DATE_OF_LAST_CHANGE\": \"2022-03-10T00:00:00\", \"avg_cash_incentive_percent\": 0.030766567896059013, \"returns\": 1.2515262978271589, \"role\": \"execuative\"}, {\"gics_sector_name\": \"Consumer Staples\", \"symbol\": \"PG\", \"DATE_OF_LAST_CHANGE\": \"2013-05-23T00:00:00\", \"avg_cash_incentive_percent\": 0.20958364202859123, \"returns\": 0.8355816010614772, \"role\": \"CEO\"}, {\"gics_sector_name\": \"Consumer Staples\", \"symbol\": \"PG\", \"DATE_OF_LAST_CHANGE\": \"2015-11-01T00:00:00\", \"avg_cash_incentive_percent\": 0.2624473797279969, \"returns\": 1.1218737594283448, \"role\": \"CEO\"}, {\"gics_sector_name\": \"Consumer Staples\", \"symbol\": \"PG\", \"DATE_OF_LAST_CHANGE\": \"2016-06-30T00:00:00\", \"avg_cash_incentive_percent\": 0.21506346607620289, \"returns\": 1.7225760792639773, \"role\": \"CEO\"}, {\"gics_sector_name\": \"Consumer Staples\", \"symbol\": \"PG\", \"DATE_OF_LAST_CHANGE\": \"2021-11-01T00:00:00\", \"avg_cash_incentive_percent\": 0.22992577817535212, \"returns\": 1.0034237195288962, \"role\": \"CEO\"}, {\"gics_sector_name\": \"Consumer Staples\", \"symbol\": \"PG\", \"DATE_OF_LAST_CHANGE\": \"2013-07-01T00:00:00\", \"avg_cash_incentive_percent\": 0.16062329363811712, \"returns\": 0.8355816010614772, \"role\": \"execuative\"}, {\"gics_sector_name\": \"Consumer Staples\", \"symbol\": \"PG\", \"DATE_OF_LAST_CHANGE\": \"2015-11-01T00:00:00\", \"avg_cash_incentive_percent\": 0.3009884278133001, \"returns\": 1.1218737594283448, \"role\": \"execuative\"}, {\"gics_sector_name\": \"Consumer Staples\", \"symbol\": \"PG\", \"DATE_OF_LAST_CHANGE\": \"2016-06-30T00:00:00\", \"avg_cash_incentive_percent\": 0.27216576518209423, \"returns\": 1.033852323661241, \"role\": \"execuative\"}, {\"gics_sector_name\": \"Consumer Staples\", \"symbol\": \"PG\", \"DATE_OF_LAST_CHANGE\": \"2017-07-01T00:00:00\", \"avg_cash_incentive_percent\": 0.18917184920874458, \"returns\": 1.2909298345693097, \"role\": \"execuative\"}, {\"gics_sector_name\": \"Consumer Staples\", \"symbol\": \"PG\", \"DATE_OF_LAST_CHANGE\": \"2019-06-29T00:00:00\", \"avg_cash_incentive_percent\": 0.4006828310360647, \"returns\": 1.0, \"role\": \"execuative\"}, {\"gics_sector_name\": \"Consumer Staples\", \"symbol\": \"PG\", \"DATE_OF_LAST_CHANGE\": \"2019-07-02T00:00:00\", \"avg_cash_incentive_percent\": 0.3884817353522741, \"returns\": 1.1133893062306672, \"role\": \"execuative\"}, {\"gics_sector_name\": \"Consumer Staples\", \"symbol\": \"PG\", \"DATE_OF_LAST_CHANGE\": \"2021-03-01T00:00:00\", \"avg_cash_incentive_percent\": 0.40999932195641486, \"returns\": 1.1592316240673122, \"role\": \"execuative\"}, {\"gics_sector_name\": \"Consumer Staples\", \"symbol\": \"PG\", \"DATE_OF_LAST_CHANGE\": \"2021-11-01T00:00:00\", \"avg_cash_incentive_percent\": 0.3325531222087006, \"returns\": 1.0004793207340457, \"role\": \"execuative\"}, {\"gics_sector_name\": \"Consumer Staples\", \"symbol\": \"PG\", \"DATE_OF_LAST_CHANGE\": \"2022-06-30T00:00:00\", \"avg_cash_incentive_percent\": 0.3104080660883264, \"returns\": 1.0029429881596057, \"role\": \"execuative\"}, {\"gics_sector_name\": \"Consumer Staples\", \"symbol\": \"WMT\", \"DATE_OF_LAST_CHANGE\": \"2014-02-01T00:00:00\", \"avg_cash_incentive_percent\": 0.21530843641026054, \"returns\": 1.3692693472285766, \"role\": \"CEO\"}, {\"gics_sector_name\": \"Consumer Staples\", \"symbol\": \"WMT\", \"DATE_OF_LAST_CHANGE\": \"2019-11-01T00:00:00\", \"avg_cash_incentive_percent\": 0.17554262426990022, \"returns\": 1.3403321371092185, \"role\": \"CEO\"}, {\"gics_sector_name\": \"Consumer Staples\", \"symbol\": \"WMT\", \"DATE_OF_LAST_CHANGE\": \"2014-08-09T00:00:00\", \"avg_cash_incentive_percent\": 0.20601715790831537, \"returns\": 0.7799764609737614, \"role\": \"execuative\"}, {\"gics_sector_name\": \"Consumer Staples\", \"symbol\": \"WMT\", \"DATE_OF_LAST_CHANGE\": \"2016-01-31T00:00:00\", \"avg_cash_incentive_percent\": 0.162251351244833, \"returns\": 0.9925402873735631, \"role\": \"execuative\"}, {\"gics_sector_name\": \"Consumer Staples\", \"symbol\": \"WMT\", \"DATE_OF_LAST_CHANGE\": \"2017-02-01T00:00:00\", \"avg_cash_incentive_percent\": 0.29454951173792127, \"returns\": 1.5711269607113374, \"role\": \"execuative\"}, {\"gics_sector_name\": \"Consumer Staples\", \"symbol\": \"WMT\", \"DATE_OF_LAST_CHANGE\": \"2018-02-01T00:00:00\", \"avg_cash_incentive_percent\": 0.27794687680948804, \"returns\": 1.137727662971226, \"role\": \"execuative\"}, {\"gics_sector_name\": \"Consumer Staples\", \"symbol\": \"WMT\", \"DATE_OF_LAST_CHANGE\": \"2019-11-15T00:00:00\", \"avg_cash_incentive_percent\": 0.08772494165636296, \"returns\": 1.214436960071473, \"role\": \"execuative\"}, {\"gics_sector_name\": \"Consumer Staples\", \"symbol\": \"WMT\", \"DATE_OF_LAST_CHANGE\": \"2021-01-31T00:00:00\", \"avg_cash_incentive_percent\": 0.24296940621306004, \"returns\": 1.0, \"role\": \"execuative\"}, {\"gics_sector_name\": \"Consumer Staples\", \"symbol\": \"WMT\", \"DATE_OF_LAST_CHANGE\": \"2021-02-01T00:00:00\", \"avg_cash_incentive_percent\": 0.253493443299658, \"returns\": 0.8430320033250208, \"role\": \"execuative\"}, {\"gics_sector_name\": \"Consumer Staples\", \"symbol\": \"WMT\", \"DATE_OF_LAST_CHANGE\": \"2022-06-06T00:00:00\", \"avg_cash_incentive_percent\": 0.17023262596154742, \"returns\": 1.2953974565345467, \"role\": \"execuative\"}]}}, {\"mode\": \"vega-lite\"});\n",
              "</script>"
            ],
            "text/plain": [
              "alt.LayerChart(...)"
            ]
          },
          "execution_count": 17,
          "metadata": {},
          "output_type": "execute_result"
        }
      ],
      "source": [
        "plot_data(df,5)"
      ]
    },
    {
      "cell_type": "code",
      "execution_count": null,
      "metadata": {
        "colab": {
          "base_uri": "https://localhost:8080/",
          "height": 510
        },
        "id": "jYCtAoqZ_J24",
        "outputId": "8f5c188a-fb26-4f85-e93e-8f969f7a7fe9"
      },
      "outputs": [
        {
          "name": "stderr",
          "output_type": "stream",
          "text": [
            "/usr/local/lib/python3.10/dist-packages/altair/utils/core.py:384: FutureWarning: the convert_dtype parameter is deprecated and will be removed in a future version.  Do ``ser.astype(object).apply()`` instead if you want ``convert_dtype=False``.\n",
            "  col = df[col_name].apply(to_list_if_array, convert_dtype=False)\n",
            "/usr/local/lib/python3.10/dist-packages/altair/utils/core.py:384: FutureWarning: the convert_dtype parameter is deprecated and will be removed in a future version.  Do ``ser.astype(object).apply()`` instead if you want ``convert_dtype=False``.\n",
            "  col = df[col_name].apply(to_list_if_array, convert_dtype=False)\n",
            "/usr/local/lib/python3.10/dist-packages/altair/utils/core.py:384: FutureWarning: the convert_dtype parameter is deprecated and will be removed in a future version.  Do ``ser.astype(object).apply()`` instead if you want ``convert_dtype=False``.\n",
            "  col = df[col_name].apply(to_list_if_array, convert_dtype=False)\n"
          ]
        },
        {
          "data": {
            "text/html": [
              "\n",
              "<div id=\"altair-viz-9d97ff5a649b45f5ade09567437564bd\"></div>\n",
              "<script type=\"text/javascript\">\n",
              "  var VEGA_DEBUG = (typeof VEGA_DEBUG == \"undefined\") ? {} : VEGA_DEBUG;\n",
              "  (function(spec, embedOpt){\n",
              "    let outputDiv = document.currentScript.previousElementSibling;\n",
              "    if (outputDiv.id !== \"altair-viz-9d97ff5a649b45f5ade09567437564bd\") {\n",
              "      outputDiv = document.getElementById(\"altair-viz-9d97ff5a649b45f5ade09567437564bd\");\n",
              "    }\n",
              "    const paths = {\n",
              "      \"vega\": \"https://cdn.jsdelivr.net/npm//vega@5?noext\",\n",
              "      \"vega-lib\": \"https://cdn.jsdelivr.net/npm//vega-lib?noext\",\n",
              "      \"vega-lite\": \"https://cdn.jsdelivr.net/npm//vega-lite@4.17.0?noext\",\n",
              "      \"vega-embed\": \"https://cdn.jsdelivr.net/npm//vega-embed@6?noext\",\n",
              "    };\n",
              "\n",
              "    function maybeLoadScript(lib, version) {\n",
              "      var key = `${lib.replace(\"-\", \"\")}_version`;\n",
              "      return (VEGA_DEBUG[key] == version) ?\n",
              "        Promise.resolve(paths[lib]) :\n",
              "        new Promise(function(resolve, reject) {\n",
              "          var s = document.createElement('script');\n",
              "          document.getElementsByTagName(\"head\")[0].appendChild(s);\n",
              "          s.async = true;\n",
              "          s.onload = () => {\n",
              "            VEGA_DEBUG[key] = version;\n",
              "            return resolve(paths[lib]);\n",
              "          };\n",
              "          s.onerror = () => reject(`Error loading script: ${paths[lib]}`);\n",
              "          s.src = paths[lib];\n",
              "        });\n",
              "    }\n",
              "\n",
              "    function showError(err) {\n",
              "      outputDiv.innerHTML = `<div class=\"error\" style=\"color:red;\">${err}</div>`;\n",
              "      throw err;\n",
              "    }\n",
              "\n",
              "    function displayChart(vegaEmbed) {\n",
              "      vegaEmbed(outputDiv, spec, embedOpt)\n",
              "        .catch(err => showError(`Javascript Error: ${err.message}<br>This usually means there's a typo in your chart specification. See the javascript console for the full traceback.`));\n",
              "    }\n",
              "\n",
              "    if(typeof define === \"function\" && define.amd) {\n",
              "      requirejs.config({paths});\n",
              "      require([\"vega-embed\"], displayChart, err => showError(`Error loading script: ${err.message}`));\n",
              "    } else {\n",
              "      maybeLoadScript(\"vega\", \"5\")\n",
              "        .then(() => maybeLoadScript(\"vega-lite\", \"4.17.0\"))\n",
              "        .then(() => maybeLoadScript(\"vega-embed\", \"6\"))\n",
              "        .catch(showError)\n",
              "        .then(() => displayChart(vegaEmbed));\n",
              "    }\n",
              "  })({\"config\": {\"view\": {\"continuousWidth\": 400, \"continuousHeight\": 300}}, \"layer\": [{\"data\": {\"name\": \"data-d764767e7dd3b10b2c76c1355ce10ef3\"}, \"mark\": \"rule\", \"encoding\": {\"y\": {\"field\": \"y\", \"type\": \"quantitative\"}}}, {\"data\": {\"name\": \"data-2804892c8427a67d03fb2d3eab84dc7f\"}, \"mark\": \"point\", \"encoding\": {\"color\": {\"field\": \"symbol\", \"type\": \"nominal\"}, \"shape\": {\"field\": \"role\", \"type\": \"nominal\"}, \"tooltip\": [{\"field\": \"avg_cash_incentive_percent\", \"type\": \"quantitative\"}, {\"field\": \"returns\", \"type\": \"quantitative\"}, {\"field\": \"gics_sector_name\", \"type\": \"nominal\"}, {\"field\": \"symbol\", \"type\": \"nominal\"}, {\"field\": \"role\", \"type\": \"nominal\"}], \"x\": {\"field\": \"avg_cash_incentive_percent\", \"type\": \"quantitative\"}, \"y\": {\"field\": \"returns\", \"type\": \"quantitative\"}}, \"selection\": {\"selector008\": {\"type\": \"interval\", \"bind\": \"scales\", \"encodings\": [\"x\", \"y\"]}}, \"title\": \"Energy\"}], \"$schema\": \"https://vega.github.io/schema/vega-lite/v4.17.0.json\", \"datasets\": {\"data-d764767e7dd3b10b2c76c1355ce10ef3\": [{\"y\": 1}], \"data-2804892c8427a67d03fb2d3eab84dc7f\": [{\"gics_sector_name\": \"Energy\", \"symbol\": \"CVX\", \"DATE_OF_LAST_CHANGE\": \"2010-01-01T00:00:00\", \"avg_cash_incentive_percent\": 0.15275885035294715, \"returns\": 1.05329543435779, \"role\": \"CEO\"}, {\"gics_sector_name\": \"Energy\", \"symbol\": \"CVX\", \"DATE_OF_LAST_CHANGE\": \"2018-02-01T00:00:00\", \"avg_cash_incentive_percent\": 0.14956906495808042, \"returns\": 1.2578849721706864, \"role\": \"CEO\"}, {\"gics_sector_name\": \"Energy\", \"symbol\": \"CVX\", \"DATE_OF_LAST_CHANGE\": \"2015-06-16T00:00:00\", \"avg_cash_incentive_percent\": 0.25242354257120475, \"returns\": 0.8835494759282289, \"role\": \"execuative\"}, {\"gics_sector_name\": \"Energy\", \"symbol\": \"CVX\", \"DATE_OF_LAST_CHANGE\": \"2015-06-16T00:00:00\", \"avg_cash_incentive_percent\": 0.25242354257120475, \"returns\": 0.904393284407359, \"role\": \"execuative\"}, {\"gics_sector_name\": \"Energy\", \"symbol\": \"CVX\", \"DATE_OF_LAST_CHANGE\": \"2015-12-31T00:00:00\", \"avg_cash_incentive_percent\": 0.17608220452173579, \"returns\": 1.3181413961760784, \"role\": \"execuative\"}, {\"gics_sector_name\": \"Energy\", \"symbol\": \"CVX\", \"DATE_OF_LAST_CHANGE\": \"2018-02-01T00:00:00\", \"avg_cash_incentive_percent\": 0.3660596248582944, \"returns\": 1.0661157024793388, \"role\": \"execuative\"}, {\"gics_sector_name\": \"Energy\", \"symbol\": \"CVX\", \"DATE_OF_LAST_CHANGE\": \"2019-04-01T00:00:00\", \"avg_cash_incentive_percent\": 0.17851869463933231, \"returns\": 1.265859832305015, \"role\": \"execuative\"}, {\"gics_sector_name\": \"Energy\", \"symbol\": \"CVX\", \"DATE_OF_LAST_CHANGE\": \"2022-10-01T00:00:00\", \"avg_cash_incentive_percent\": 0.2791127564177361, \"returns\": 0.93207523589327, \"role\": \"execuative\"}, {\"gics_sector_name\": \"Energy\", \"symbol\": \"SHEL\", \"DATE_OF_LAST_CHANGE\": \"2014-01-01T00:00:00\", \"avg_cash_incentive_percent\": 0.35435338316616094, \"returns\": 0.854732756046581, \"role\": \"CEO\"}, {\"gics_sector_name\": \"Energy\", \"symbol\": \"SHEL\", \"DATE_OF_LAST_CHANGE\": \"2022-12-31T00:00:00\", \"avg_cash_incentive_percent\": 0.34514925373134325, \"returns\": 1.0, \"role\": \"CEO\"}, {\"gics_sector_name\": \"Energy\", \"symbol\": \"SHEL\", \"DATE_OF_LAST_CHANGE\": \"2023-01-01T00:00:00\", \"avg_cash_incentive_percent\": 0.5102617209565055, \"returns\": 1.1493449781659388, \"role\": \"CEO\"}, {\"gics_sector_name\": \"Energy\", \"symbol\": \"SHEL\", \"DATE_OF_LAST_CHANGE\": \"2014-01-01T00:00:00\", \"avg_cash_incentive_percent\": -0.5649166382966518, \"returns\": 0.7724693938489101, \"role\": \"execuative\"}, {\"gics_sector_name\": \"Energy\", \"symbol\": \"SHEL\", \"DATE_OF_LAST_CHANGE\": \"2017-03-09T00:00:00\", \"avg_cash_incentive_percent\": 1.5564890844233241, \"returns\": 1.1064940085040587, \"role\": \"execuative\"}, {\"gics_sector_name\": \"Energy\", \"symbol\": \"SHEL\", \"DATE_OF_LAST_CHANGE\": \"2022-12-31T00:00:00\", \"avg_cash_incentive_percent\": -1.3752913752913742, \"returns\": 1.0, \"role\": \"execuative\"}, {\"gics_sector_name\": \"Energy\", \"symbol\": \"SHEL\", \"DATE_OF_LAST_CHANGE\": \"2023-01-01T00:00:00\", \"avg_cash_incentive_percent\": -11.025641025641022, \"returns\": 1.1493449781659388, \"role\": \"execuative\"}, {\"gics_sector_name\": \"Energy\", \"symbol\": \"XOM\", \"DATE_OF_LAST_CHANGE\": \"2015-12-31T00:00:00\", \"avg_cash_incentive_percent\": 0.11541066073328819, \"returns\": 0.8397069912743725, \"role\": \"CEO\"}, {\"gics_sector_name\": \"Energy\", \"symbol\": \"XOM\", \"DATE_OF_LAST_CHANGE\": \"2015-12-31T00:00:00\", \"avg_cash_incentive_percent\": 0.11541066073328819, \"returns\": 1.1353431686978832, \"role\": \"CEO\"}, {\"gics_sector_name\": \"Energy\", \"symbol\": \"XOM\", \"DATE_OF_LAST_CHANGE\": \"2016-12-31T00:00:00\", \"avg_cash_incentive_percent\": 0.07803236941551653, \"returns\": 1.0, \"role\": \"CEO\"}, {\"gics_sector_name\": \"Energy\", \"symbol\": \"XOM\", \"DATE_OF_LAST_CHANGE\": \"2017-01-01T00:00:00\", \"avg_cash_incentive_percent\": 0.14811882363027423, \"returns\": 1.1297175141242939, \"role\": \"CEO\"}, {\"gics_sector_name\": \"Energy\", \"symbol\": \"XOM\", \"DATE_OF_LAST_CHANGE\": \"2015-12-31T00:00:00\", \"avg_cash_incentive_percent\": 0.14964674187488372, \"returns\": 0.8397069912743725, \"role\": \"execuative\"}, {\"gics_sector_name\": \"Energy\", \"symbol\": \"XOM\", \"DATE_OF_LAST_CHANGE\": \"2015-12-31T00:00:00\", \"avg_cash_incentive_percent\": 0.14964674187488372, \"returns\": 1.1353431686978832, \"role\": \"execuative\"}, {\"gics_sector_name\": \"Energy\", \"symbol\": \"XOM\", \"DATE_OF_LAST_CHANGE\": \"2016-12-31T00:00:00\", \"avg_cash_incentive_percent\": 0.09832939288484532, \"returns\": 1.0, \"role\": \"execuative\"}, {\"gics_sector_name\": \"Energy\", \"symbol\": \"XOM\", \"DATE_OF_LAST_CHANGE\": \"2017-01-01T00:00:00\", \"avg_cash_incentive_percent\": 0.1713276908630149, \"returns\": 0.980225988700565, \"role\": \"execuative\"}, {\"gics_sector_name\": \"Energy\", \"symbol\": \"XOM\", \"DATE_OF_LAST_CHANGE\": \"2018-01-01T00:00:00\", \"avg_cash_incentive_percent\": 0.19146456136928577, \"returns\": 0.950893371757925, \"role\": \"execuative\"}, {\"gics_sector_name\": \"Energy\", \"symbol\": \"XOM\", \"DATE_OF_LAST_CHANGE\": \"2019-04-01T00:00:00\", \"avg_cash_incentive_percent\": 0.08895432611430718, \"returns\": 0.6651715359437508, \"role\": \"execuative\"}, {\"gics_sector_name\": \"Energy\", \"symbol\": \"XOM\", \"DATE_OF_LAST_CHANGE\": \"2021-09-01T00:00:00\", \"avg_cash_incentive_percent\": 0.2456368433252258, \"returns\": 1.6710406415163113, \"role\": \"execuative\"}, {\"gics_sector_name\": \"Energy\", \"symbol\": \"XOM\", \"DATE_OF_LAST_CHANGE\": \"2022-05-01T00:00:00\", \"avg_cash_incentive_percent\": 0.24643397759990812, \"returns\": 1.0904133493292618, \"role\": \"execuative\"}]}}, {\"mode\": \"vega-lite\"});\n",
              "</script>"
            ],
            "text/plain": [
              "alt.LayerChart(...)"
            ]
          },
          "execution_count": 18,
          "metadata": {},
          "output_type": "execute_result"
        }
      ],
      "source": [
        "plot_data(df,6)"
      ]
    },
    {
      "cell_type": "code",
      "execution_count": null,
      "metadata": {
        "colab": {
          "base_uri": "https://localhost:8080/",
          "height": 510
        },
        "id": "TMG-9W5w_WMi",
        "outputId": "1e5afc45-5ca6-4927-fbee-f4271b5c8f59"
      },
      "outputs": [
        {
          "name": "stderr",
          "output_type": "stream",
          "text": [
            "/usr/local/lib/python3.10/dist-packages/altair/utils/core.py:384: FutureWarning: the convert_dtype parameter is deprecated and will be removed in a future version.  Do ``ser.astype(object).apply()`` instead if you want ``convert_dtype=False``.\n",
            "  col = df[col_name].apply(to_list_if_array, convert_dtype=False)\n",
            "/usr/local/lib/python3.10/dist-packages/altair/utils/core.py:384: FutureWarning: the convert_dtype parameter is deprecated and will be removed in a future version.  Do ``ser.astype(object).apply()`` instead if you want ``convert_dtype=False``.\n",
            "  col = df[col_name].apply(to_list_if_array, convert_dtype=False)\n",
            "/usr/local/lib/python3.10/dist-packages/altair/utils/core.py:384: FutureWarning: the convert_dtype parameter is deprecated and will be removed in a future version.  Do ``ser.astype(object).apply()`` instead if you want ``convert_dtype=False``.\n",
            "  col = df[col_name].apply(to_list_if_array, convert_dtype=False)\n"
          ]
        },
        {
          "data": {
            "text/html": [
              "\n",
              "<div id=\"altair-viz-d5c71c9a6df54f13ad474bc76c4892a4\"></div>\n",
              "<script type=\"text/javascript\">\n",
              "  var VEGA_DEBUG = (typeof VEGA_DEBUG == \"undefined\") ? {} : VEGA_DEBUG;\n",
              "  (function(spec, embedOpt){\n",
              "    let outputDiv = document.currentScript.previousElementSibling;\n",
              "    if (outputDiv.id !== \"altair-viz-d5c71c9a6df54f13ad474bc76c4892a4\") {\n",
              "      outputDiv = document.getElementById(\"altair-viz-d5c71c9a6df54f13ad474bc76c4892a4\");\n",
              "    }\n",
              "    const paths = {\n",
              "      \"vega\": \"https://cdn.jsdelivr.net/npm//vega@5?noext\",\n",
              "      \"vega-lib\": \"https://cdn.jsdelivr.net/npm//vega-lib?noext\",\n",
              "      \"vega-lite\": \"https://cdn.jsdelivr.net/npm//vega-lite@4.17.0?noext\",\n",
              "      \"vega-embed\": \"https://cdn.jsdelivr.net/npm//vega-embed@6?noext\",\n",
              "    };\n",
              "\n",
              "    function maybeLoadScript(lib, version) {\n",
              "      var key = `${lib.replace(\"-\", \"\")}_version`;\n",
              "      return (VEGA_DEBUG[key] == version) ?\n",
              "        Promise.resolve(paths[lib]) :\n",
              "        new Promise(function(resolve, reject) {\n",
              "          var s = document.createElement('script');\n",
              "          document.getElementsByTagName(\"head\")[0].appendChild(s);\n",
              "          s.async = true;\n",
              "          s.onload = () => {\n",
              "            VEGA_DEBUG[key] = version;\n",
              "            return resolve(paths[lib]);\n",
              "          };\n",
              "          s.onerror = () => reject(`Error loading script: ${paths[lib]}`);\n",
              "          s.src = paths[lib];\n",
              "        });\n",
              "    }\n",
              "\n",
              "    function showError(err) {\n",
              "      outputDiv.innerHTML = `<div class=\"error\" style=\"color:red;\">${err}</div>`;\n",
              "      throw err;\n",
              "    }\n",
              "\n",
              "    function displayChart(vegaEmbed) {\n",
              "      vegaEmbed(outputDiv, spec, embedOpt)\n",
              "        .catch(err => showError(`Javascript Error: ${err.message}<br>This usually means there's a typo in your chart specification. See the javascript console for the full traceback.`));\n",
              "    }\n",
              "\n",
              "    if(typeof define === \"function\" && define.amd) {\n",
              "      requirejs.config({paths});\n",
              "      require([\"vega-embed\"], displayChart, err => showError(`Error loading script: ${err.message}`));\n",
              "    } else {\n",
              "      maybeLoadScript(\"vega\", \"5\")\n",
              "        .then(() => maybeLoadScript(\"vega-lite\", \"4.17.0\"))\n",
              "        .then(() => maybeLoadScript(\"vega-embed\", \"6\"))\n",
              "        .catch(showError)\n",
              "        .then(() => displayChart(vegaEmbed));\n",
              "    }\n",
              "  })({\"config\": {\"view\": {\"continuousWidth\": 400, \"continuousHeight\": 300}}, \"layer\": [{\"data\": {\"name\": \"data-d764767e7dd3b10b2c76c1355ce10ef3\"}, \"mark\": \"rule\", \"encoding\": {\"y\": {\"field\": \"y\", \"type\": \"quantitative\"}}}, {\"data\": {\"name\": \"data-048a71ca3533979a7af060e15f98f81d\"}, \"mark\": \"point\", \"encoding\": {\"color\": {\"field\": \"symbol\", \"type\": \"nominal\"}, \"shape\": {\"field\": \"role\", \"type\": \"nominal\"}, \"tooltip\": [{\"field\": \"avg_cash_incentive_percent\", \"type\": \"quantitative\"}, {\"field\": \"returns\", \"type\": \"quantitative\"}, {\"field\": \"gics_sector_name\", \"type\": \"nominal\"}, {\"field\": \"symbol\", \"type\": \"nominal\"}, {\"field\": \"role\", \"type\": \"nominal\"}], \"x\": {\"field\": \"avg_cash_incentive_percent\", \"type\": \"quantitative\"}, \"y\": {\"field\": \"returns\", \"type\": \"quantitative\"}}, \"selection\": {\"selector016\": {\"type\": \"interval\", \"bind\": \"scales\", \"encodings\": [\"x\", \"y\"]}}, \"title\": \"Utilities\"}], \"$schema\": \"https://vega.github.io/schema/vega-lite/v4.17.0.json\", \"datasets\": {\"data-d764767e7dd3b10b2c76c1355ce10ef3\": [{\"y\": 1}], \"data-048a71ca3533979a7af060e15f98f81d\": [{\"gics_sector_name\": \"Utilities\", \"symbol\": \"DUK\", \"DATE_OF_LAST_CHANGE\": \"2013-06-01T00:00:00\", \"avg_cash_incentive_percent\": 0.16420628167026022, \"returns\": 1.1545508625817966, \"role\": \"CEO\"}, {\"gics_sector_name\": \"Utilities\", \"symbol\": \"DUK\", \"DATE_OF_LAST_CHANGE\": \"2015-06-30T00:00:00\", \"avg_cash_incentive_percent\": 0.25621224565752915, \"returns\": 0.8629387269482451, \"role\": \"execuative\"}, {\"gics_sector_name\": \"Utilities\", \"symbol\": \"DUK\", \"DATE_OF_LAST_CHANGE\": \"2015-06-30T00:00:00\", \"avg_cash_incentive_percent\": 0.25621224565752915, \"returns\": 1.0897559630497726, \"role\": \"execuative\"}, {\"gics_sector_name\": \"Utilities\", \"symbol\": \"DUK\", \"DATE_OF_LAST_CHANGE\": \"2016-01-31T00:00:00\", \"avg_cash_incentive_percent\": 0.0, \"returns\": 1.0126518218623481, \"role\": \"execuative\"}, {\"gics_sector_name\": \"Utilities\", \"symbol\": \"DUK\", \"DATE_OF_LAST_CHANGE\": \"2016-09-30T00:00:00\", \"avg_cash_incentive_percent\": 0.31228955380550494, \"returns\": 1.2140179910044977, \"role\": \"execuative\"}, {\"gics_sector_name\": \"Utilities\", \"symbol\": \"DUK\", \"DATE_OF_LAST_CHANGE\": \"2019-10-01T00:00:00\", \"avg_cash_incentive_percent\": 0.31107860545104427, \"returns\": 1.0379746835443038, \"role\": \"execuative\"}, {\"gics_sector_name\": \"Utilities\", \"symbol\": \"DUK\", \"DATE_OF_LAST_CHANGE\": \"2021-05-01T00:00:00\", \"avg_cash_incentive_percent\": 0.38048148481379673, \"returns\": 1.0608764624231608, \"role\": \"execuative\"}, {\"gics_sector_name\": \"Utilities\", \"symbol\": \"DUK\", \"DATE_OF_LAST_CHANGE\": \"2022-09-01T00:00:00\", \"avg_cash_incentive_percent\": 0.2962864643215452, \"returns\": 0.9069158878504674, \"role\": \"execuative\"}, {\"gics_sector_name\": \"Utilities\", \"symbol\": \"NEE\", \"DATE_OF_LAST_CHANGE\": \"2012-07-01T00:00:00\", \"avg_cash_incentive_percent\": 0.24291844725539147, \"returns\": 3.00721717124379, \"role\": \"CEO\"}, {\"gics_sector_name\": \"Utilities\", \"symbol\": \"NEE\", \"DATE_OF_LAST_CHANGE\": \"2022-03-01T00:00:00\", \"avg_cash_incentive_percent\": 0.2789763265538158, \"returns\": 0.7572621867597558, \"role\": \"CEO\"}, {\"gics_sector_name\": \"Utilities\", \"symbol\": \"NEE\", \"DATE_OF_LAST_CHANGE\": \"2014-05-23T00:00:00\", \"avg_cash_incentive_percent\": 0.4383678930931664, \"returns\": 1.0712344174711783, \"role\": \"execuative\"}, {\"gics_sector_name\": \"Utilities\", \"symbol\": \"NEE\", \"DATE_OF_LAST_CHANGE\": \"2016-03-04T00:00:00\", \"avg_cash_incentive_percent\": 0.3475040470641602, \"returns\": 1.6410884591827806, \"role\": \"execuative\"}, {\"gics_sector_name\": \"Utilities\", \"symbol\": \"NEE\", \"DATE_OF_LAST_CHANGE\": \"2019-03-01T00:00:00\", \"avg_cash_incentive_percent\": 0.2693206648541036, \"returns\": 1.8278950735764554, \"role\": \"execuative\"}, {\"gics_sector_name\": \"Utilities\", \"symbol\": \"NEE\", \"DATE_OF_LAST_CHANGE\": \"2022-03-31T00:00:00\", \"avg_cash_incentive_percent\": 0.31256120127104564, \"returns\": 0.8613930696534827, \"role\": \"execuative\"}, {\"gics_sector_name\": \"Utilities\", \"symbol\": \"NEE\", \"DATE_OF_LAST_CHANGE\": \"2023-03-01T00:00:00\", \"avg_cash_incentive_percent\": 0.2758180810432426, \"returns\": 0.8227007991331438, \"role\": \"execuative\"}, {\"gics_sector_name\": \"Utilities\", \"symbol\": \"SO\", \"DATE_OF_LAST_CHANGE\": \"2010-12-01T00:00:00\", \"avg_cash_incentive_percent\": 0.1931847239340228, \"returns\": 1.4071298359327526, \"role\": \"CEO\"}, {\"gics_sector_name\": \"Utilities\", \"symbol\": \"SO\", \"DATE_OF_LAST_CHANGE\": \"2023-05-24T00:00:00\", \"avg_cash_incentive_percent\": 0.20881217823120354, \"returns\": 1.0093565567871023, \"role\": \"CEO\"}, {\"gics_sector_name\": \"Utilities\", \"symbol\": \"SO\", \"DATE_OF_LAST_CHANGE\": \"2014-03-01T00:00:00\", \"avg_cash_incentive_percent\": 0.4426924715235294, \"returns\": 1.066234555398015, \"role\": \"execuative\"}, {\"gics_sector_name\": \"Utilities\", \"symbol\": \"SO\", \"DATE_OF_LAST_CHANGE\": \"2016-07-31T00:00:00\", \"avg_cash_incentive_percent\": 0.34317936090897544, \"returns\": 0.8396656534954408, \"role\": \"execuative\"}, {\"gics_sector_name\": \"Utilities\", \"symbol\": \"SO\", \"DATE_OF_LAST_CHANGE\": \"2018-06-01T00:00:00\", \"avg_cash_incentive_percent\": 0.3570869596771278, \"returns\": 1.4993212669683256, \"role\": \"execuative\"}, {\"gics_sector_name\": \"Utilities\", \"symbol\": \"SO\", \"DATE_OF_LAST_CHANGE\": \"2021-09-01T00:00:00\", \"avg_cash_incentive_percent\": 0.3641167413798186, \"returns\": 1.0808812433982193, \"role\": \"execuative\"}, {\"gics_sector_name\": \"Utilities\", \"symbol\": \"SO\", \"DATE_OF_LAST_CHANGE\": \"2022-12-31T00:00:00\", \"avg_cash_incentive_percent\": 0.4337074300498539, \"returns\": 0.9789194471590117, \"role\": \"execuative\"}]}}, {\"mode\": \"vega-lite\"});\n",
              "</script>"
            ],
            "text/plain": [
              "alt.LayerChart(...)"
            ]
          },
          "execution_count": 39,
          "metadata": {},
          "output_type": "execute_result"
        }
      ],
      "source": [
        "plot_data(df,7)"
      ]
    },
    {
      "cell_type": "code",
      "execution_count": null,
      "metadata": {
        "colab": {
          "base_uri": "https://localhost:8080/",
          "height": 510
        },
        "id": "QB7yEj2n_fw_",
        "outputId": "f213cdc3-25b9-4f68-9a0e-cac0a289666f"
      },
      "outputs": [
        {
          "name": "stderr",
          "output_type": "stream",
          "text": [
            "/usr/local/lib/python3.10/dist-packages/altair/utils/core.py:384: FutureWarning: the convert_dtype parameter is deprecated and will be removed in a future version.  Do ``ser.astype(object).apply()`` instead if you want ``convert_dtype=False``.\n",
            "  col = df[col_name].apply(to_list_if_array, convert_dtype=False)\n",
            "/usr/local/lib/python3.10/dist-packages/altair/utils/core.py:384: FutureWarning: the convert_dtype parameter is deprecated and will be removed in a future version.  Do ``ser.astype(object).apply()`` instead if you want ``convert_dtype=False``.\n",
            "  col = df[col_name].apply(to_list_if_array, convert_dtype=False)\n",
            "/usr/local/lib/python3.10/dist-packages/altair/utils/core.py:384: FutureWarning: the convert_dtype parameter is deprecated and will be removed in a future version.  Do ``ser.astype(object).apply()`` instead if you want ``convert_dtype=False``.\n",
            "  col = df[col_name].apply(to_list_if_array, convert_dtype=False)\n"
          ]
        },
        {
          "data": {
            "text/html": [
              "\n",
              "<div id=\"altair-viz-0f907d4171fc41b79ee30d652eb15652\"></div>\n",
              "<script type=\"text/javascript\">\n",
              "  var VEGA_DEBUG = (typeof VEGA_DEBUG == \"undefined\") ? {} : VEGA_DEBUG;\n",
              "  (function(spec, embedOpt){\n",
              "    let outputDiv = document.currentScript.previousElementSibling;\n",
              "    if (outputDiv.id !== \"altair-viz-0f907d4171fc41b79ee30d652eb15652\") {\n",
              "      outputDiv = document.getElementById(\"altair-viz-0f907d4171fc41b79ee30d652eb15652\");\n",
              "    }\n",
              "    const paths = {\n",
              "      \"vega\": \"https://cdn.jsdelivr.net/npm//vega@5?noext\",\n",
              "      \"vega-lib\": \"https://cdn.jsdelivr.net/npm//vega-lib?noext\",\n",
              "      \"vega-lite\": \"https://cdn.jsdelivr.net/npm//vega-lite@4.17.0?noext\",\n",
              "      \"vega-embed\": \"https://cdn.jsdelivr.net/npm//vega-embed@6?noext\",\n",
              "    };\n",
              "\n",
              "    function maybeLoadScript(lib, version) {\n",
              "      var key = `${lib.replace(\"-\", \"\")}_version`;\n",
              "      return (VEGA_DEBUG[key] == version) ?\n",
              "        Promise.resolve(paths[lib]) :\n",
              "        new Promise(function(resolve, reject) {\n",
              "          var s = document.createElement('script');\n",
              "          document.getElementsByTagName(\"head\")[0].appendChild(s);\n",
              "          s.async = true;\n",
              "          s.onload = () => {\n",
              "            VEGA_DEBUG[key] = version;\n",
              "            return resolve(paths[lib]);\n",
              "          };\n",
              "          s.onerror = () => reject(`Error loading script: ${paths[lib]}`);\n",
              "          s.src = paths[lib];\n",
              "        });\n",
              "    }\n",
              "\n",
              "    function showError(err) {\n",
              "      outputDiv.innerHTML = `<div class=\"error\" style=\"color:red;\">${err}</div>`;\n",
              "      throw err;\n",
              "    }\n",
              "\n",
              "    function displayChart(vegaEmbed) {\n",
              "      vegaEmbed(outputDiv, spec, embedOpt)\n",
              "        .catch(err => showError(`Javascript Error: ${err.message}<br>This usually means there's a typo in your chart specification. See the javascript console for the full traceback.`));\n",
              "    }\n",
              "\n",
              "    if(typeof define === \"function\" && define.amd) {\n",
              "      requirejs.config({paths});\n",
              "      require([\"vega-embed\"], displayChart, err => showError(`Error loading script: ${err.message}`));\n",
              "    } else {\n",
              "      maybeLoadScript(\"vega\", \"5\")\n",
              "        .then(() => maybeLoadScript(\"vega-lite\", \"4.17.0\"))\n",
              "        .then(() => maybeLoadScript(\"vega-embed\", \"6\"))\n",
              "        .catch(showError)\n",
              "        .then(() => displayChart(vegaEmbed));\n",
              "    }\n",
              "  })({\"config\": {\"view\": {\"continuousWidth\": 400, \"continuousHeight\": 300}}, \"layer\": [{\"data\": {\"name\": \"data-d764767e7dd3b10b2c76c1355ce10ef3\"}, \"mark\": \"rule\", \"encoding\": {\"y\": {\"field\": \"y\", \"type\": \"quantitative\"}}}, {\"data\": {\"name\": \"data-d52c9b2103b7af3a82a926140074305a\"}, \"mark\": \"point\", \"encoding\": {\"color\": {\"field\": \"symbol\", \"type\": \"nominal\"}, \"shape\": {\"field\": \"role\", \"type\": \"nominal\"}, \"tooltip\": [{\"field\": \"avg_cash_incentive_percent\", \"type\": \"quantitative\"}, {\"field\": \"returns\", \"type\": \"quantitative\"}, {\"field\": \"gics_sector_name\", \"type\": \"nominal\"}, {\"field\": \"symbol\", \"type\": \"nominal\"}, {\"field\": \"role\", \"type\": \"nominal\"}], \"x\": {\"field\": \"avg_cash_incentive_percent\", \"type\": \"quantitative\"}, \"y\": {\"field\": \"returns\", \"type\": \"quantitative\"}}, \"selection\": {\"selector017\": {\"type\": \"interval\", \"bind\": \"scales\", \"encodings\": [\"x\", \"y\"]}}, \"title\": \"Financials\"}], \"$schema\": \"https://vega.github.io/schema/vega-lite/v4.17.0.json\", \"datasets\": {\"data-d764767e7dd3b10b2c76c1355ce10ef3\": [{\"y\": 1}], \"data-d52c9b2103b7af3a82a926140074305a\": [{\"gics_sector_name\": \"Financials\", \"symbol\": \"JPM\", \"DATE_OF_LAST_CHANGE\": \"2005-12-31T00:00:00\", \"avg_cash_incentive_percent\": 0.17464578247256307, \"returns\": 2.722035525684109, \"role\": \"CEO\"}, {\"gics_sector_name\": \"Financials\", \"symbol\": \"JPM\", \"DATE_OF_LAST_CHANGE\": \"2013-01-01T00:00:00\", \"avg_cash_incentive_percent\": 0.37152630787663987, \"returns\": 1.8287726036165786, \"role\": \"execuative\"}, {\"gics_sector_name\": \"Financials\", \"symbol\": \"JPM\", \"DATE_OF_LAST_CHANGE\": \"2018-01-30T00:00:00\", \"avg_cash_incentive_percent\": 0.3664317236281027, \"returns\": 1.016100805040252, \"role\": \"execuative\"}, {\"gics_sector_name\": \"Financials\", \"symbol\": \"JPM\", \"DATE_OF_LAST_CHANGE\": \"2019-05-01T00:00:00\", \"avg_cash_incentive_percent\": 0.3578705981369155, \"returns\": 1.363675508095074, \"role\": \"execuative\"}, {\"gics_sector_name\": \"Financials\", \"symbol\": \"JPM\", \"DATE_OF_LAST_CHANGE\": \"2021-12-31T00:00:00\", \"avg_cash_incentive_percent\": 0.34432507319993716, \"returns\": 1.0742027155036311, \"role\": \"execuative\"}, {\"gics_sector_name\": \"Financials\", \"symbol\": \"V\", \"DATE_OF_LAST_CHANGE\": \"2012-11-01T00:00:00\", \"avg_cash_incentive_percent\": 0.2549686432183594, \"returns\": 1.142857142857143, \"role\": \"CEO\"}, {\"gics_sector_name\": \"Financials\", \"symbol\": \"V\", \"DATE_OF_LAST_CHANGE\": \"2016-12-01T00:00:00\", \"avg_cash_incentive_percent\": 0.22219825967444415, \"returns\": 3.0392234548335972, \"role\": \"CEO\"}, {\"gics_sector_name\": \"Financials\", \"symbol\": \"V\", \"DATE_OF_LAST_CHANGE\": \"2023-02-01T00:00:00\", \"avg_cash_incentive_percent\": 0.21035286957309166, \"returns\": 1.1313170816495026, \"role\": \"CEO\"}, {\"gics_sector_name\": \"Financials\", \"symbol\": \"V\", \"DATE_OF_LAST_CHANGE\": \"2015-02-09T00:00:00\", \"avg_cash_incentive_percent\": 0.3930431475575287, \"returns\": 1.017394913591427, \"role\": \"execuative\"}, {\"gics_sector_name\": \"Financials\", \"symbol\": \"V\", \"DATE_OF_LAST_CHANGE\": \"2015-02-09T00:00:00\", \"avg_cash_incentive_percent\": 0.3930431475575287, \"returns\": 1.1233171383006342, \"role\": \"execuative\"}, {\"gics_sector_name\": \"Financials\", \"symbol\": \"V\", \"DATE_OF_LAST_CHANGE\": \"2016-12-01T00:00:00\", \"avg_cash_incentive_percent\": 0.3338518299765072, \"returns\": 1.172609614368727, \"role\": \"execuative\"}, {\"gics_sector_name\": \"Financials\", \"symbol\": \"V\", \"DATE_OF_LAST_CHANGE\": \"2017-02-28T00:00:00\", \"avg_cash_incentive_percent\": 0.3667374256977544, \"returns\": 2.091902241243383, \"role\": \"execuative\"}, {\"gics_sector_name\": \"Financials\", \"symbol\": \"V\", \"DATE_OF_LAST_CHANGE\": \"2019-09-01T00:00:00\", \"avg_cash_incentive_percent\": 0.23382972055267512, \"returns\": 1.0, \"role\": \"execuative\"}, {\"gics_sector_name\": \"Financials\", \"symbol\": \"V\", \"DATE_OF_LAST_CHANGE\": \"2019-09-03T00:00:00\", \"avg_cash_incentive_percent\": 0.125458446046218, \"returns\": 1.0853343383223861, \"role\": \"execuative\"}, {\"gics_sector_name\": \"Financials\", \"symbol\": \"V\", \"DATE_OF_LAST_CHANGE\": \"2021-01-11T00:00:00\", \"avg_cash_incentive_percent\": 0.2675593516042015, \"returns\": 1.1432114688228583, \"role\": \"execuative\"}, {\"gics_sector_name\": \"Financials\", \"symbol\": \"V\", \"DATE_OF_LAST_CHANGE\": \"2021-10-01T00:00:00\", \"avg_cash_incentive_percent\": 0.27608317087109985, \"returns\": 1.0370129306604183, \"role\": \"execuative\"}, {\"gics_sector_name\": \"Financials\", \"symbol\": \"V\", \"DATE_OF_LAST_CHANGE\": \"2023-08-01T00:00:00\", \"avg_cash_incentive_percent\": 0.2710829720196574, \"returns\": 1.0893761245240388, \"role\": \"execuative\"}, {\"gics_sector_name\": \"Financials\", \"symbol\": \"WFC\", \"DATE_OF_LAST_CHANGE\": \"2007-06-01T00:00:00\", \"avg_cash_incentive_percent\": 0.2424234488914864, \"returns\": 0.8173674588665447, \"role\": \"CEO\"}, {\"gics_sector_name\": \"Financials\", \"symbol\": \"WFC\", \"DATE_OF_LAST_CHANGE\": \"2016-10-12T00:00:00\", \"avg_cash_incentive_percent\": 0.04140112895552325, \"returns\": 1.1534332364124358, \"role\": \"CEO\"}, {\"gics_sector_name\": \"Financials\", \"symbol\": \"WFC\", \"DATE_OF_LAST_CHANGE\": \"2019-10-21T00:00:00\", \"avg_cash_incentive_percent\": 0.23797927527101612, \"returns\": 0.5350009695559433, \"role\": \"CEO\"}, {\"gics_sector_name\": \"Financials\", \"symbol\": \"WFC\", \"DATE_OF_LAST_CHANGE\": \"2020-04-30T00:00:00\", \"avg_cash_incentive_percent\": 0.2452806610926158, \"returns\": 1.7839797027908662, \"role\": \"CEO\"}, {\"gics_sector_name\": \"Financials\", \"symbol\": \"WFC\", \"DATE_OF_LAST_CHANGE\": \"2015-11-17T00:00:00\", \"avg_cash_incentive_percent\": 0.1279061289570796, \"returns\": 1.020475319926874, \"role\": \"execuative\"}, {\"gics_sector_name\": \"Financials\", \"symbol\": \"WFC\", \"DATE_OF_LAST_CHANGE\": \"2015-11-17T00:00:00\", \"avg_cash_incentive_percent\": 0.1279061289570796, \"returns\": 0.7989967753493372, \"role\": \"execuative\"}, {\"gics_sector_name\": \"Financials\", \"symbol\": \"WFC\", \"DATE_OF_LAST_CHANGE\": \"2016-11-01T00:00:00\", \"avg_cash_incentive_percent\": 0.16535389839284712, \"returns\": 1.2340807174887891, \"role\": \"execuative\"}, {\"gics_sector_name\": \"Financials\", \"symbol\": \"WFC\", \"DATE_OF_LAST_CHANGE\": \"2016-12-31T00:00:00\", \"avg_cash_incentive_percent\": 0.0, \"returns\": 0.960029069767442, \"role\": \"execuative\"}, {\"gics_sector_name\": \"Financials\", \"symbol\": \"WFC\", \"DATE_OF_LAST_CHANGE\": \"2017-07-31T00:00:00\", \"avg_cash_incentive_percent\": 0.1279815668708555, \"returns\": 0.9759651778955336, \"role\": \"execuative\"}, {\"gics_sector_name\": \"Financials\", \"symbol\": \"WFC\", \"DATE_OF_LAST_CHANGE\": \"2019-10-21T00:00:00\", \"avg_cash_incentive_percent\": 0.24083589553478157, \"returns\": 0.46519294163273217, \"role\": \"execuative\"}, {\"gics_sector_name\": \"Financials\", \"symbol\": \"WFC\", \"DATE_OF_LAST_CHANGE\": \"2020-10-01T00:00:00\", \"avg_cash_incentive_percent\": 0.35892681104472185, \"returns\": 0.9132972071696541, \"role\": \"execuative\"}, {\"gics_sector_name\": \"Financials\", \"symbol\": \"WFC\", \"DATE_OF_LAST_CHANGE\": \"2020-10-31T00:00:00\", \"avg_cash_incentive_percent\": 0.2838857131085844, \"returns\": 2.2464628023733453, \"role\": \"execuative\"}]}}, {\"mode\": \"vega-lite\"});\n",
              "</script>"
            ],
            "text/plain": [
              "alt.LayerChart(...)"
            ]
          },
          "execution_count": 40,
          "metadata": {},
          "output_type": "execute_result"
        }
      ],
      "source": [
        "plot_data(df,8)"
      ]
    },
    {
      "cell_type": "code",
      "execution_count": null,
      "metadata": {
        "colab": {
          "base_uri": "https://localhost:8080/",
          "height": 510
        },
        "id": "3jv5R48Z_mTx",
        "outputId": "c4656ae9-1a49-4dbd-aba0-8934f3c2cbf4"
      },
      "outputs": [
        {
          "name": "stderr",
          "output_type": "stream",
          "text": [
            "/usr/local/lib/python3.10/dist-packages/altair/utils/core.py:384: FutureWarning: the convert_dtype parameter is deprecated and will be removed in a future version.  Do ``ser.astype(object).apply()`` instead if you want ``convert_dtype=False``.\n",
            "  col = df[col_name].apply(to_list_if_array, convert_dtype=False)\n",
            "/usr/local/lib/python3.10/dist-packages/altair/utils/core.py:384: FutureWarning: the convert_dtype parameter is deprecated and will be removed in a future version.  Do ``ser.astype(object).apply()`` instead if you want ``convert_dtype=False``.\n",
            "  col = df[col_name].apply(to_list_if_array, convert_dtype=False)\n",
            "/usr/local/lib/python3.10/dist-packages/altair/utils/core.py:384: FutureWarning: the convert_dtype parameter is deprecated and will be removed in a future version.  Do ``ser.astype(object).apply()`` instead if you want ``convert_dtype=False``.\n",
            "  col = df[col_name].apply(to_list_if_array, convert_dtype=False)\n"
          ]
        },
        {
          "data": {
            "text/html": [
              "\n",
              "<div id=\"altair-viz-d0989923e793475898f49e7ea3b026f0\"></div>\n",
              "<script type=\"text/javascript\">\n",
              "  var VEGA_DEBUG = (typeof VEGA_DEBUG == \"undefined\") ? {} : VEGA_DEBUG;\n",
              "  (function(spec, embedOpt){\n",
              "    let outputDiv = document.currentScript.previousElementSibling;\n",
              "    if (outputDiv.id !== \"altair-viz-d0989923e793475898f49e7ea3b026f0\") {\n",
              "      outputDiv = document.getElementById(\"altair-viz-d0989923e793475898f49e7ea3b026f0\");\n",
              "    }\n",
              "    const paths = {\n",
              "      \"vega\": \"https://cdn.jsdelivr.net/npm//vega@5?noext\",\n",
              "      \"vega-lib\": \"https://cdn.jsdelivr.net/npm//vega-lib?noext\",\n",
              "      \"vega-lite\": \"https://cdn.jsdelivr.net/npm//vega-lite@4.17.0?noext\",\n",
              "      \"vega-embed\": \"https://cdn.jsdelivr.net/npm//vega-embed@6?noext\",\n",
              "    };\n",
              "\n",
              "    function maybeLoadScript(lib, version) {\n",
              "      var key = `${lib.replace(\"-\", \"\")}_version`;\n",
              "      return (VEGA_DEBUG[key] == version) ?\n",
              "        Promise.resolve(paths[lib]) :\n",
              "        new Promise(function(resolve, reject) {\n",
              "          var s = document.createElement('script');\n",
              "          document.getElementsByTagName(\"head\")[0].appendChild(s);\n",
              "          s.async = true;\n",
              "          s.onload = () => {\n",
              "            VEGA_DEBUG[key] = version;\n",
              "            return resolve(paths[lib]);\n",
              "          };\n",
              "          s.onerror = () => reject(`Error loading script: ${paths[lib]}`);\n",
              "          s.src = paths[lib];\n",
              "        });\n",
              "    }\n",
              "\n",
              "    function showError(err) {\n",
              "      outputDiv.innerHTML = `<div class=\"error\" style=\"color:red;\">${err}</div>`;\n",
              "      throw err;\n",
              "    }\n",
              "\n",
              "    function displayChart(vegaEmbed) {\n",
              "      vegaEmbed(outputDiv, spec, embedOpt)\n",
              "        .catch(err => showError(`Javascript Error: ${err.message}<br>This usually means there's a typo in your chart specification. See the javascript console for the full traceback.`));\n",
              "    }\n",
              "\n",
              "    if(typeof define === \"function\" && define.amd) {\n",
              "      requirejs.config({paths});\n",
              "      require([\"vega-embed\"], displayChart, err => showError(`Error loading script: ${err.message}`));\n",
              "    } else {\n",
              "      maybeLoadScript(\"vega\", \"5\")\n",
              "        .then(() => maybeLoadScript(\"vega-lite\", \"4.17.0\"))\n",
              "        .then(() => maybeLoadScript(\"vega-embed\", \"6\"))\n",
              "        .catch(showError)\n",
              "        .then(() => displayChart(vegaEmbed));\n",
              "    }\n",
              "  })({\"config\": {\"view\": {\"continuousWidth\": 400, \"continuousHeight\": 300}}, \"layer\": [{\"data\": {\"name\": \"data-d764767e7dd3b10b2c76c1355ce10ef3\"}, \"mark\": \"rule\", \"encoding\": {\"y\": {\"field\": \"y\", \"type\": \"quantitative\"}}}, {\"data\": {\"name\": \"data-723de0d28e401103ab2288d4fb97afe3\"}, \"mark\": \"point\", \"encoding\": {\"color\": {\"field\": \"symbol\", \"type\": \"nominal\"}, \"shape\": {\"field\": \"role\", \"type\": \"nominal\"}, \"tooltip\": [{\"field\": \"avg_cash_incentive_percent\", \"type\": \"quantitative\"}, {\"field\": \"returns\", \"type\": \"quantitative\"}, {\"field\": \"gics_sector_name\", \"type\": \"nominal\"}, {\"field\": \"symbol\", \"type\": \"nominal\"}, {\"field\": \"role\", \"type\": \"nominal\"}], \"x\": {\"field\": \"avg_cash_incentive_percent\", \"type\": \"quantitative\"}, \"y\": {\"field\": \"returns\", \"type\": \"quantitative\"}}, \"selection\": {\"selector018\": {\"type\": \"interval\", \"bind\": \"scales\", \"encodings\": [\"x\", \"y\"]}}, \"title\": \"Health Care\"}], \"$schema\": \"https://vega.github.io/schema/vega-lite/v4.17.0.json\", \"datasets\": {\"data-d764767e7dd3b10b2c76c1355ce10ef3\": [{\"y\": 1}], \"data-723de0d28e401103ab2288d4fb97afe3\": [{\"gics_sector_name\": \"Health Care\", \"symbol\": \"LLY\", \"DATE_OF_LAST_CHANGE\": \"2008-04-01T00:00:00\", \"avg_cash_incentive_percent\": 0.2419435630376066, \"returns\": 1.0800742220953468, \"role\": \"CEO\"}, {\"gics_sector_name\": \"Health Care\", \"symbol\": \"LLY\", \"DATE_OF_LAST_CHANGE\": \"2016-12-31T00:00:00\", \"avg_cash_incentive_percent\": 0.1931047128603669, \"returns\": 1.0, \"role\": \"CEO\"}, {\"gics_sector_name\": \"Health Care\", \"symbol\": \"LLY\", \"DATE_OF_LAST_CHANGE\": \"2017-01-01T00:00:00\", \"avg_cash_incentive_percent\": 0.18487676039755196, \"returns\": 7.703449187260472, \"role\": \"CEO\"}, {\"gics_sector_name\": \"Health Care\", \"symbol\": \"LLY\", \"DATE_OF_LAST_CHANGE\": \"2013-07-08T00:00:00\", \"avg_cash_incentive_percent\": 0.33609470039805817, \"returns\": 1.0800742220953468, \"role\": \"execuative\"}, {\"gics_sector_name\": \"Health Care\", \"symbol\": \"LLY\", \"DATE_OF_LAST_CHANGE\": \"2016-12-31T00:00:00\", \"avg_cash_incentive_percent\": 0.2953456924956688, \"returns\": 1.1440465177745474, \"role\": \"execuative\"}, {\"gics_sector_name\": \"Health Care\", \"symbol\": \"LLY\", \"DATE_OF_LAST_CHANGE\": \"2017-12-31T00:00:00\", \"avg_cash_incentive_percent\": 0.23550120757627208, \"returns\": 1.2203996765623197, \"role\": \"execuative\"}, {\"gics_sector_name\": \"Health Care\", \"symbol\": \"LLY\", \"DATE_OF_LAST_CHANGE\": \"2018-08-31T00:00:00\", \"avg_cash_incentive_percent\": 0.34167925403132665, \"returns\": 1.2472314245149076, \"role\": \"execuative\"}, {\"gics_sector_name\": \"Health Care\", \"symbol\": \"LLY\", \"DATE_OF_LAST_CHANGE\": \"2019-12-31T00:00:00\", \"avg_cash_incentive_percent\": 0.3025722170514112, \"returns\": 1.1111026789102223, \"role\": \"execuative\"}, {\"gics_sector_name\": \"Health Care\", \"symbol\": \"LLY\", \"DATE_OF_LAST_CHANGE\": \"2020-02-03T00:00:00\", \"avg_cash_incentive_percent\": 0.19282691635723356, \"returns\": 1.6358172255993444, \"role\": \"execuative\"}, {\"gics_sector_name\": \"Health Care\", \"symbol\": \"LLY\", \"DATE_OF_LAST_CHANGE\": \"2021-09-05T00:00:00\", \"avg_cash_incentive_percent\": 0.2544846527893574, \"returns\": 1.7862630480167014, \"role\": \"execuative\"}, {\"gics_sector_name\": \"Health Care\", \"symbol\": \"LLY\", \"DATE_OF_LAST_CHANGE\": \"2023-05-03T00:00:00\", \"avg_cash_incentive_percent\": 0.3648756926366486, \"returns\": 1.3625674949159672, \"role\": \"execuative\"}, {\"gics_sector_name\": \"Health Care\", \"symbol\": \"NVO\", \"DATE_OF_LAST_CHANGE\": \"2000-11-14T00:00:00\", \"avg_cash_incentive_percent\": 0.9999999936599715, \"returns\": 0.8623205460108261, \"role\": \"CEO\"}, {\"gics_sector_name\": \"Health Care\", \"symbol\": \"NVO\", \"DATE_OF_LAST_CHANGE\": \"2016-12-31T00:00:00\", \"avg_cash_incentive_percent\": 0.9999999887917508, \"returns\": 1.0, \"role\": \"CEO\"}, {\"gics_sector_name\": \"Health Care\", \"symbol\": \"NVO\", \"DATE_OF_LAST_CHANGE\": \"2017-01-01T00:00:00\", \"avg_cash_incentive_percent\": 0.4520291393266492, \"returns\": 5.646834061135372, \"role\": \"CEO\"}, {\"gics_sector_name\": \"Health Care\", \"symbol\": \"NVO\", \"DATE_OF_LAST_CHANGE\": \"2015-04-30T00:00:00\", \"avg_cash_incentive_percent\": 0.564402809860301, \"returns\": 1.3452577076959282, \"role\": \"execuative\"}, {\"gics_sector_name\": \"Health Care\", \"symbol\": \"NVO\", \"DATE_OF_LAST_CHANGE\": \"2015-04-30T00:00:00\", \"avg_cash_incentive_percent\": 0.564402809860301, \"returns\": 0.6410076976906929, \"role\": \"execuative\"}, {\"gics_sector_name\": \"Health Care\", \"symbol\": \"NVO\", \"DATE_OF_LAST_CHANGE\": \"2016-12-31T00:00:00\", \"avg_cash_incentive_percent\": 0.7935779804273457, \"returns\": 1.3406113537117903, \"role\": \"execuative\"}, {\"gics_sector_name\": \"Health Care\", \"symbol\": \"NVO\", \"DATE_OF_LAST_CHANGE\": \"2017-10-01T00:00:00\", \"avg_cash_incentive_percent\": 0.6844106458167727, \"returns\": 1.0557817589576548, \"role\": \"execuative\"}, {\"gics_sector_name\": \"Health Care\", \"symbol\": \"NVO\", \"DATE_OF_LAST_CHANGE\": \"2018-02-15T00:00:00\", \"avg_cash_incentive_percent\": 0.4675236804499541, \"returns\": 0.9693405322020826, \"role\": \"execuative\"}, {\"gics_sector_name\": \"Health Care\", \"symbol\": \"NVO\", \"DATE_OF_LAST_CHANGE\": \"2019-08-09T00:00:00\", \"avg_cash_incentive_percent\": 0.5235602089767677, \"returns\": 1.045355082554207, \"role\": \"execuative\"}, {\"gics_sector_name\": \"Health Care\", \"symbol\": \"NVO\", \"DATE_OF_LAST_CHANGE\": \"2019-08-31T00:00:00\", \"avg_cash_incentive_percent\": 0.5546666661733007, \"returns\": 1.3246431969552808, \"role\": \"execuative\"}, {\"gics_sector_name\": \"Health Care\", \"symbol\": \"NVO\", \"DATE_OF_LAST_CHANGE\": \"2021-03-01T00:00:00\", \"avg_cash_incentive_percent\": 0.3999112187358767, \"returns\": 2.029737106737538, \"role\": \"execuative\"}, {\"gics_sector_name\": \"Health Care\", \"symbol\": \"NVO\", \"DATE_OF_LAST_CHANGE\": \"2023-03-07T00:00:00\", \"avg_cash_incentive_percent\": 0.43212508862998794, \"returns\": 1.4643640738905799, \"role\": \"execuative\"}, {\"gics_sector_name\": \"Health Care\", \"symbol\": \"UNH\", \"DATE_OF_LAST_CHANGE\": \"2006-11-01T00:00:00\", \"avg_cash_incentive_percent\": 0.3134130762548105, \"returns\": 1.9820400873189126, \"role\": \"CEO\"}, {\"gics_sector_name\": \"Health Care\", \"symbol\": \"UNH\", \"DATE_OF_LAST_CHANGE\": \"2017-09-01T00:00:00\", \"avg_cash_incentive_percent\": 0.28150068966646224, \"returns\": 1.6245807259073841, \"role\": \"CEO\"}, {\"gics_sector_name\": \"Health Care\", \"symbol\": \"UNH\", \"DATE_OF_LAST_CHANGE\": \"2021-02-04T00:00:00\", \"avg_cash_incentive_percent\": 0.1256677899932836, \"returns\": 1.6223537025053159, \"role\": \"CEO\"}, {\"gics_sector_name\": \"Health Care\", \"symbol\": \"UNH\", \"DATE_OF_LAST_CHANGE\": \"2014-11-30T00:00:00\", \"avg_cash_incentive_percent\": 0.4094928825405288, \"returns\": 1.3816233379638818, \"role\": \"execuative\"}, {\"gics_sector_name\": \"Health Care\", \"symbol\": \"UNH\", \"DATE_OF_LAST_CHANGE\": \"2016-06-07T00:00:00\", \"avg_cash_incentive_percent\": 0.42564256871909134, \"returns\": 1.4345733984487214, \"role\": \"execuative\"}, {\"gics_sector_name\": \"Health Care\", \"symbol\": \"UNH\", \"DATE_OF_LAST_CHANGE\": \"2017-09-01T00:00:00\", \"avg_cash_incentive_percent\": 0.5147425798590406, \"returns\": 1.1273591989987484, \"role\": \"execuative\"}, {\"gics_sector_name\": \"Health Care\", \"symbol\": \"UNH\", \"DATE_OF_LAST_CHANGE\": \"2018-03-01T00:00:00\", \"avg_cash_incentive_percent\": 0.18329036869958484, \"returns\": 1.1963231049336116, \"role\": \"execuative\"}, {\"gics_sector_name\": \"Health Care\", \"symbol\": \"UNH\", \"DATE_OF_LAST_CHANGE\": \"2019-11-11T00:00:00\", \"avg_cash_incentive_percent\": 0.2174579664659245, \"returns\": 1.3625463994060878, \"role\": \"execuative\"}, {\"gics_sector_name\": \"Health Care\", \"symbol\": \"UNH\", \"DATE_OF_LAST_CHANGE\": \"2021-03-31T00:00:00\", \"avg_cash_incentive_percent\": 0.17702514296736513, \"returns\": 1.3584602391914349, \"role\": \"execuative\"}, {\"gics_sector_name\": \"Health Care\", \"symbol\": \"UNH\", \"DATE_OF_LAST_CHANGE\": \"2022-03-01T00:00:00\", \"avg_cash_incentive_percent\": 0.15942857274157884, \"returns\": 1.0557906347137271, \"role\": \"execuative\"}]}}, {\"mode\": \"vega-lite\"});\n",
              "</script>"
            ],
            "text/plain": [
              "alt.LayerChart(...)"
            ]
          },
          "execution_count": 41,
          "metadata": {},
          "output_type": "execute_result"
        }
      ],
      "source": [
        "plot_data(df,9)"
      ]
    },
    {
      "cell_type": "code",
      "execution_count": null,
      "metadata": {
        "colab": {
          "base_uri": "https://localhost:8080/",
          "height": 510
        },
        "id": "M7EZ42et_rth",
        "outputId": "b980c58e-ec9d-40ad-acd7-7958c37a22d3"
      },
      "outputs": [
        {
          "name": "stderr",
          "output_type": "stream",
          "text": [
            "/usr/local/lib/python3.10/dist-packages/altair/utils/core.py:384: FutureWarning: the convert_dtype parameter is deprecated and will be removed in a future version.  Do ``ser.astype(object).apply()`` instead if you want ``convert_dtype=False``.\n",
            "  col = df[col_name].apply(to_list_if_array, convert_dtype=False)\n",
            "/usr/local/lib/python3.10/dist-packages/altair/utils/core.py:384: FutureWarning: the convert_dtype parameter is deprecated and will be removed in a future version.  Do ``ser.astype(object).apply()`` instead if you want ``convert_dtype=False``.\n",
            "  col = df[col_name].apply(to_list_if_array, convert_dtype=False)\n",
            "/usr/local/lib/python3.10/dist-packages/altair/utils/core.py:384: FutureWarning: the convert_dtype parameter is deprecated and will be removed in a future version.  Do ``ser.astype(object).apply()`` instead if you want ``convert_dtype=False``.\n",
            "  col = df[col_name].apply(to_list_if_array, convert_dtype=False)\n"
          ]
        },
        {
          "data": {
            "text/html": [
              "\n",
              "<div id=\"altair-viz-c0fbbb418438428e826fadbff7bdeff7\"></div>\n",
              "<script type=\"text/javascript\">\n",
              "  var VEGA_DEBUG = (typeof VEGA_DEBUG == \"undefined\") ? {} : VEGA_DEBUG;\n",
              "  (function(spec, embedOpt){\n",
              "    let outputDiv = document.currentScript.previousElementSibling;\n",
              "    if (outputDiv.id !== \"altair-viz-c0fbbb418438428e826fadbff7bdeff7\") {\n",
              "      outputDiv = document.getElementById(\"altair-viz-c0fbbb418438428e826fadbff7bdeff7\");\n",
              "    }\n",
              "    const paths = {\n",
              "      \"vega\": \"https://cdn.jsdelivr.net/npm//vega@5?noext\",\n",
              "      \"vega-lib\": \"https://cdn.jsdelivr.net/npm//vega-lib?noext\",\n",
              "      \"vega-lite\": \"https://cdn.jsdelivr.net/npm//vega-lite@4.17.0?noext\",\n",
              "      \"vega-embed\": \"https://cdn.jsdelivr.net/npm//vega-embed@6?noext\",\n",
              "    };\n",
              "\n",
              "    function maybeLoadScript(lib, version) {\n",
              "      var key = `${lib.replace(\"-\", \"\")}_version`;\n",
              "      return (VEGA_DEBUG[key] == version) ?\n",
              "        Promise.resolve(paths[lib]) :\n",
              "        new Promise(function(resolve, reject) {\n",
              "          var s = document.createElement('script');\n",
              "          document.getElementsByTagName(\"head\")[0].appendChild(s);\n",
              "          s.async = true;\n",
              "          s.onload = () => {\n",
              "            VEGA_DEBUG[key] = version;\n",
              "            return resolve(paths[lib]);\n",
              "          };\n",
              "          s.onerror = () => reject(`Error loading script: ${paths[lib]}`);\n",
              "          s.src = paths[lib];\n",
              "        });\n",
              "    }\n",
              "\n",
              "    function showError(err) {\n",
              "      outputDiv.innerHTML = `<div class=\"error\" style=\"color:red;\">${err}</div>`;\n",
              "      throw err;\n",
              "    }\n",
              "\n",
              "    function displayChart(vegaEmbed) {\n",
              "      vegaEmbed(outputDiv, spec, embedOpt)\n",
              "        .catch(err => showError(`Javascript Error: ${err.message}<br>This usually means there's a typo in your chart specification. See the javascript console for the full traceback.`));\n",
              "    }\n",
              "\n",
              "    if(typeof define === \"function\" && define.amd) {\n",
              "      requirejs.config({paths});\n",
              "      require([\"vega-embed\"], displayChart, err => showError(`Error loading script: ${err.message}`));\n",
              "    } else {\n",
              "      maybeLoadScript(\"vega\", \"5\")\n",
              "        .then(() => maybeLoadScript(\"vega-lite\", \"4.17.0\"))\n",
              "        .then(() => maybeLoadScript(\"vega-embed\", \"6\"))\n",
              "        .catch(showError)\n",
              "        .then(() => displayChart(vegaEmbed));\n",
              "    }\n",
              "  })({\"config\": {\"view\": {\"continuousWidth\": 400, \"continuousHeight\": 300}}, \"layer\": [{\"data\": {\"name\": \"data-d764767e7dd3b10b2c76c1355ce10ef3\"}, \"mark\": \"rule\", \"encoding\": {\"y\": {\"field\": \"y\", \"type\": \"quantitative\"}}}, {\"data\": {\"name\": \"data-0c216d6fa334c77076946d0c5f7948aa\"}, \"mark\": \"point\", \"encoding\": {\"color\": {\"field\": \"symbol\", \"type\": \"nominal\"}, \"shape\": {\"field\": \"role\", \"type\": \"nominal\"}, \"tooltip\": [{\"field\": \"avg_cash_incentive_percent\", \"type\": \"quantitative\"}, {\"field\": \"returns\", \"type\": \"quantitative\"}, {\"field\": \"gics_sector_name\", \"type\": \"nominal\"}, {\"field\": \"symbol\", \"type\": \"nominal\"}, {\"field\": \"role\", \"type\": \"nominal\"}], \"x\": {\"field\": \"avg_cash_incentive_percent\", \"type\": \"quantitative\"}, \"y\": {\"field\": \"returns\", \"type\": \"quantitative\"}}, \"selection\": {\"selector019\": {\"type\": \"interval\", \"bind\": \"scales\", \"encodings\": [\"x\", \"y\"]}}, \"title\": \"Communication Services\"}], \"$schema\": \"https://vega.github.io/schema/vega-lite/v4.17.0.json\", \"datasets\": {\"data-d764767e7dd3b10b2c76c1355ce10ef3\": [{\"y\": 1}], \"data-0c216d6fa334c77076946d0c5f7948aa\": [{\"gics_sector_name\": \"Communication Services\", \"symbol\": \"META\", \"DATE_OF_LAST_CHANGE\": \"2004-02-04T00:00:00\", \"avg_cash_incentive_percent\": 0.0, \"returns\": 4.511918419375398, \"role\": \"CEO\"}, {\"gics_sector_name\": \"Communication Services\", \"symbol\": \"META\", \"DATE_OF_LAST_CHANGE\": \"2014-06-01T00:00:00\", \"avg_cash_incentive_percent\": 0.05171596868768538, \"returns\": 2.3835564053537284, \"role\": \"execuative\"}, {\"gics_sector_name\": \"Communication Services\", \"symbol\": \"META\", \"DATE_OF_LAST_CHANGE\": \"2018-05-10T00:00:00\", \"avg_cash_incentive_percent\": 0.029090644535884766, \"returns\": 1.0240654580458848, \"role\": \"execuative\"}, {\"gics_sector_name\": \"Communication Services\", \"symbol\": \"META\", \"DATE_OF_LAST_CHANGE\": \"2019-04-22T00:00:00\", \"avg_cash_incentive_percent\": 0.06571748509225826, \"returns\": 1.1936915765836336, \"role\": \"execuative\"}, {\"gics_sector_name\": \"Communication Services\", \"symbol\": \"META\", \"DATE_OF_LAST_CHANGE\": \"2020-06-11T00:00:00\", \"avg_cash_incentive_percent\": 0.029160065579540834, \"returns\": 1.4452270539854755, \"role\": \"execuative\"}, {\"gics_sector_name\": \"Communication Services\", \"symbol\": \"META\", \"DATE_OF_LAST_CHANGE\": \"2021-06-03T00:00:00\", \"avg_cash_incentive_percent\": 0.0750307115467878, \"returns\": 0.2748297260481308, \"role\": \"execuative\"}, {\"gics_sector_name\": \"Communication Services\", \"symbol\": \"META\", \"DATE_OF_LAST_CHANGE\": \"2022-11-01T00:00:00\", \"avg_cash_incentive_percent\": 0.04214720177847875, \"returns\": 3.8986672541028744, \"role\": \"execuative\"}, {\"gics_sector_name\": \"Communication Services\", \"symbol\": \"NFLX\", \"DATE_OF_LAST_CHANGE\": \"1998-09-01T00:00:00\", \"avg_cash_incentive_percent\": 0.0, \"returns\": 9.889666793717026, \"role\": \"CEO\"}, {\"gics_sector_name\": \"Communication Services\", \"symbol\": \"NFLX\", \"DATE_OF_LAST_CHANGE\": \"2020-07-14T00:00:00\", \"avg_cash_incentive_percent\": 0.0, \"returns\": 0.67510497170328, \"role\": \"CEO\"}, {\"gics_sector_name\": \"Communication Services\", \"symbol\": \"NFLX\", \"DATE_OF_LAST_CHANGE\": \"2023-01-13T00:00:00\", \"avg_cash_incentive_percent\": 0.33094570901727205, \"returns\": 1.4628928549966949, \"role\": \"CEO\"}, {\"gics_sector_name\": \"Communication Services\", \"symbol\": \"NFLX\", \"DATE_OF_LAST_CHANGE\": \"2015-12-31T00:00:00\", \"avg_cash_incentive_percent\": 0.3134879854283976, \"returns\": 2.2945294790266604, \"role\": \"execuative\"}, {\"gics_sector_name\": \"Communication Services\", \"symbol\": \"NFLX\", \"DATE_OF_LAST_CHANGE\": \"2015-12-31T00:00:00\", \"avg_cash_incentive_percent\": 0.3134879854283976, \"returns\": 1.576062248644868, \"role\": \"execuative\"}, {\"gics_sector_name\": \"Communication Services\", \"symbol\": \"NFLX\", \"DATE_OF_LAST_CHANGE\": \"2017-07-31T00:00:00\", \"avg_cash_incentive_percent\": 0.21648574220856995, \"returns\": 2.1110001664170412, \"role\": \"execuative\"}, {\"gics_sector_name\": \"Communication Services\", \"symbol\": \"NFLX\", \"DATE_OF_LAST_CHANGE\": \"2019-06-30T00:00:00\", \"avg_cash_incentive_percent\": 0.04540287114793283, \"returns\": 1.4209170936801998, \"role\": \"execuative\"}, {\"gics_sector_name\": \"Communication Services\", \"symbol\": \"NFLX\", \"DATE_OF_LAST_CHANGE\": \"2020-12-31T00:00:00\", \"avg_cash_incentive_percent\": 0.0, \"returns\": 0.6155012668059845, \"role\": \"execuative\"}, {\"gics_sector_name\": \"Communication Services\", \"symbol\": \"NFLX\", \"DATE_OF_LAST_CHANGE\": \"2023-01-13T00:00:00\", \"avg_cash_incentive_percent\": 0.0, \"returns\": 1.4628928549966949, \"role\": \"execuative\"}]}}, {\"mode\": \"vega-lite\"});\n",
              "</script>"
            ],
            "text/plain": [
              "alt.LayerChart(...)"
            ]
          },
          "execution_count": 42,
          "metadata": {},
          "output_type": "execute_result"
        }
      ],
      "source": [
        "plot_data(df,10)"
      ]
    },
    {
      "cell_type": "code",
      "execution_count": null,
      "metadata": {
        "colab": {
          "base_uri": "https://localhost:8080/",
          "height": 466
        },
        "id": "WKsJtHs-9-yH",
        "outputId": "21d2c025-8298-4a29-bba5-f917e12d063c"
      },
      "outputs": [
        {
          "data": {
            "text/plain": [
              "<Axes: xlabel='Dates', ylabel='PX_LAST'>"
            ]
          },
          "execution_count": 26,
          "metadata": {},
          "output_type": "execute_result"
        },
        {
          "data": {
            "image/png": "[encoded data removed]",
            "text/plain": [
              "<Figure size 640x480 with 1 Axes>"
            ]
          },
          "metadata": {},
          "output_type": "display_data"
        }
      ],
      "source": [
        "data_temp.plot(kind=\"scatter\",x=\"Dates\",y=\"PX_LAST\")"
      ]
    },
    {
      "cell_type": "code",
      "execution_count": null,
      "metadata": {
        "colab": {
          "base_uri": "https://localhost:8080/",
          "height": 466
        },
        "id": "DirV-RQUAfAU",
        "outputId": "dd4ec67b-ba2e-46a2-866e-e3ce112bf5c7"
      },
      "outputs": [
        {
          "data": {
            "text/plain": [
              "<Axes: xlabel='Dates', ylabel='PX_LAST'>"
            ]
          },
          "execution_count": 23,
          "metadata": {},
          "output_type": "execute_result"
        },
        {
          "data": {
            "image/png": "[encoded data removed]",
            "text/plain": [
              "<Figure size 640x480 with 1 Axes>"
            ]
          },
          "metadata": {},
          "output_type": "display_data"
        }
      ],
      "source": [
        "data[data[\"symbol\"]==\"AAPL\"].plot(kind=\"scatter\",x=\"Dates\",y=\"PX_LAST\")"
      ]
    },
    {
      "cell_type": "code",
      "execution_count": null,
      "metadata": {
        "id": "kkvRKyY_lvnR"
      },
      "outputs": [],
      "source": [
        "#fix me\n",
        "#*compute the average  return for eache compensation pakege\n",
        "last_returns =data.groupby(\"symbol\")[\"PX_LAST\"].apply(lambda x: (x.iloc[-1]/x.iloc[0])**0.1).reset_index()"
      ]
    },
    {
      "cell_type": "code",
      "execution_count": null,
      "metadata": {
        "id": "m4iaCquHmWFF"
      },
      "outputs": [],
      "source": [
        "#cash_incentive_EXECS_percent\n",
        "#get returns for every Dates change (vertical axis)\n",
        "#data.groupby([\"symbol\",\"DATE_OF_LAST_EXECUTIVE_CHANGE\"])[[\"PX_LAST\"].apply(lambda x: (x.iloc[-1]/x.iloc[0])**0.1).reset_index()\n",
        "#data.groupby([\"symbol\",\"DATE_OF_LAST_EXECUTIVE_CHANGE\"])[[\"PX_LAST\"].mean().reset_index()\n"
      ]
    },
    {
      "cell_type": "code",
      "execution_count": null,
      "metadata": {
        "id": "lkwwj8PdnqIr"
      },
      "outputs": [],
      "source": []
    }
  ],
  "metadata": {
    "colab": {
      "provenance": []
    },
    "kernelspec": {
      "display_name": "Python 3",
      "name": "python3"
    },
    "language_info": {
      "name": "python"
    }
  },
  "nbformat": 4,
  "nbformat_minor": 0
}
